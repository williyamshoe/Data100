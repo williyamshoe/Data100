{
 "cells": [
  {
   "cell_type": "markdown",
   "metadata": {},
   "source": [
    "Before you turn this problem in, make sure everything runs as expected. First, **restart the kernel** (in the menubar, select Kernel$\\rightarrow$Restart) and then **run all cells** (in the menubar, select Cell$\\rightarrow$Run All).\n",
    "\n",
    "Make sure you fill in any place that says `YOUR CODE HERE` or \"YOUR ANSWER HERE\", as well as your name and collaborators below:"
   ]
  },
  {
   "cell_type": "code",
   "execution_count": 166,
   "metadata": {},
   "outputs": [],
   "source": [
    "NAME = \"William Sheu\"\n",
    "COLLABORATORS = \"\""
   ]
  },
  {
   "cell_type": "markdown",
   "metadata": {},
   "source": [
    "---"
   ]
  },
  {
   "cell_type": "markdown",
   "metadata": {
    "deletable": false,
    "editable": false,
    "nbgrader": {
     "cell_type": "markdown",
     "checksum": "00f53dcec28a11e77898a4b4b7985ff9",
     "grade": false,
     "grade_id": "intro-hw2",
     "locked": true,
     "schema_version": 2,
     "solution": false
    }
   },
   "source": [
    "# Homework 1: Food Safety \n",
    "## Cleaning and Exploring Data with Pandas\n",
    "## Due Date: Thursday 9/13, 11:59 PM\n",
    "## Course Policies\n",
    "\n",
    "Here are some important course policies. These are also located at\n",
    "http://www.ds100.org/fa18/.\n",
    "\n",
    "**Collaboration Policy**\n",
    "\n",
    "Data science is a collaborative activity. While you may talk with others about\n",
    "the homework, we ask that you **write your solutions individually**. If you do\n",
    "discuss the assignments with others please **include their names** at the top\n",
    "of your notebook.\n",
    "\n",
    "## This assignment\n",
    "<img src=\"scoreCard.jpg\" width=400>\n",
    "\n",
    "In this homework, you will investigate restaurant food safety scores for restaurants in San Francisco. Above is a sample score card for a restaurant. The scores and violation information have been made available by the San Francisco Department of Public Health and we have made these data available to you via the DS 100 repository. The main goal for this assignment is to understand how restaurants are scored. We will walk through the various steps of exploratory data analysis to do this. We will provide comments and insights along the way to give you a sense of how we arrive at each discovery and what next steps it leads to.\n",
    "\n",
    "As we clean and explore these data, you will gain practice with:\n",
    "* Reading simple csv files\n",
    "* Working with data at different levels of granularity\n",
    "* Identifying the type of data collected, missing values, anomalies, etc.\n",
    "* Exploring characteristics and distributions of individual variables\n",
    "\n",
    "## Score breakdown\n",
    "Question | Points\n",
    "--- | ---\n",
    "1a | 1\n",
    "1b | 0\n",
    "1c | 0\n",
    "1d | 3\n",
    "1e | 1\n",
    "2a | 1\n",
    "2b | 2\n",
    "3a | 2\n",
    "3b | 0\n",
    "3c | 2\n",
    "3d | 1\n",
    "3e | 1\n",
    "4a | 2\n",
    "4b | 3\n",
    "5a | 1\n",
    "5b | 1\n",
    "5c | 1\n",
    "6a | 2\n",
    "6b | 3\n",
    "6c | 3\n",
    "7a | 2\n",
    "7b | 2\n",
    "7c | 6\n",
    "7d | 2\n",
    "7e | 3\n",
    "Total | 45"
   ]
  },
  {
   "cell_type": "markdown",
   "metadata": {
    "deletable": false,
    "editable": false,
    "nbgrader": {
     "cell_type": "markdown",
     "checksum": "505d89c075e63895367784920108ca86",
     "grade": false,
     "grade_id": "getting-started",
     "locked": true,
     "schema_version": 2,
     "solution": false
    }
   },
   "source": [
    "To start the assignment, run the cell below to set up some imports and the automatic tests that we will need for this assignment:\n",
    "\n",
    "In many of these assignments (and your future adventures as a data scientist) you will use `os`, `zipfile`, `pandas`, `numpy`, `matplotlib.pyplot`, and `seaborn`.  \n",
    "\n",
    "1. Import each of these libraries `as` their commonly used abbreviations (e.g., `pd`, `np`, `plt`, and `sns`).  \n",
    "1. Don't forget to include `%matplotlib inline` which enables [inline matploblib plots](http://ipython.readthedocs.io/en/stable/interactive/magics.html#magic-matplotlib). \n",
    "1. Add the line `sns.set()` to make your plots look nicer."
   ]
  },
  {
   "cell_type": "code",
   "execution_count": 167,
   "metadata": {
    "deletable": false,
    "editable": false,
    "nbgrader": {
     "cell_type": "code",
     "checksum": "e7532311fc9e354ecde33a2e58aa95a1",
     "grade": false,
     "grade_id": "import",
     "locked": true,
     "schema_version": 2,
     "solution": false
    }
   },
   "outputs": [],
   "source": [
    "import os\n",
    "import zipfile\n",
    "import pandas as pd\n",
    "import numpy as np\n",
    "import matplotlib.pyplot as plt\n",
    "import seaborn as sns\n",
    "%matplotlib inline\n",
    "sns.set()"
   ]
  },
  {
   "cell_type": "code",
   "execution_count": 168,
   "metadata": {
    "ExecuteTime": {
     "end_time": "2018-08-18T01:21:52.935736Z",
     "start_time": "2018-08-18T01:21:52.932610Z"
    },
    "deletable": false,
    "editable": false,
    "nbgrader": {
     "cell_type": "code",
     "checksum": "e0dbb5e1958b2f8e38321b5b77ea5f72",
     "grade": false,
     "grade_id": "import-test",
     "locked": true,
     "schema_version": 2,
     "solution": false
    }
   },
   "outputs": [],
   "source": [
    "import sys\n",
    "\n",
    "assert 'zipfile'in sys.modules\n",
    "assert 'pandas'in sys.modules and pd\n",
    "assert 'numpy'in sys.modules and np\n",
    "assert 'matplotlib'in sys.modules and plt\n",
    "assert 'seaborn'in sys.modules and sns"
   ]
  },
  {
   "cell_type": "markdown",
   "metadata": {
    "deletable": false,
    "editable": false,
    "nbgrader": {
     "cell_type": "markdown",
     "checksum": "77284f6648b52b871822786016a2d064",
     "grade": false,
     "grade_id": "download",
     "locked": true,
     "schema_version": 2,
     "solution": false
    }
   },
   "source": [
    "## Downloading the data\n",
    "\n",
    "For this assignment, we need this data file: http://www.ds100.org/fa18/assets/datasets/hw2-SFBusinesses.zip\n",
    "\n",
    "We could write a few lines of code that are built to download this specific data file, but it's a better idea to have a general function that we can reuse for all of our assignments. Since this class isn't really about the nuances of the Python file system libraries, we've provided a function for you in ds100_utils.py called `fetch_and_cache` that can download files from the internet.\n",
    "\n",
    "This function has the following arguments:\n",
    "- data_url: the web address to download\n",
    "- file: the file in which to save the results\n",
    "- data_dir: (default=\"data\") the location to save the data\n",
    "- force: if true the file is always re-downloaded \n",
    "\n",
    "The way this function works is that it checks to see if `data_dir/file` already exists. If it does not exist already or if `force=True`, the file at `data_url` is downloaded and placed at `data_dir/file`. The process of storing a data file for reuse later is called caching. If `data_dir/file` already and exists `force=False`, nothing is downloaded, and instead a message is printed letting you know the date of the cached file.\n",
    "\n",
    "The function returns a `pathlib.Path` object representing the file. A `pathlib.Path` is an object that stores filepaths, e.g. `~/Dropbox/ds100/horses.txt`. "
   ]
  },
  {
   "cell_type": "markdown",
   "metadata": {
    "deletable": false,
    "editable": false,
    "nbgrader": {
     "cell_type": "markdown",
     "checksum": "9bc5c8aefecddb2f9db6c6c2da9eedfc",
     "grade": false,
     "grade_id": "download-md",
     "locked": true,
     "schema_version": 2,
     "solution": false
    }
   },
   "source": [
    "The code below uses `ds100_utils.py` to download the data from the following URL: http://www.ds100.org/fa18/assets/datasets/hw2-SFBusinesses.zip"
   ]
  },
  {
   "cell_type": "code",
   "execution_count": 169,
   "metadata": {
    "ExecuteTime": {
     "end_time": "2018-08-18T01:21:53.150497Z",
     "start_time": "2018-08-18T01:21:53.141869Z"
    },
    "deletable": false,
    "editable": false,
    "nbgrader": {
     "cell_type": "code",
     "checksum": "6cf2ef5fb7d9d693bf88c65f5c8c66e9",
     "grade": false,
     "grade_id": "fetch-and-cache",
     "locked": true,
     "schema_version": 2,
     "solution": false
    }
   },
   "outputs": [
    {
     "name": "stdout",
     "output_type": "stream",
     "text": [
      "Using cached version that was downloaded (UTC): Thu Sep  6 16:47:44 2018\n"
     ]
    }
   ],
   "source": [
    "import ds100_utils\n",
    "source_data_url = 'http://www.ds100.org/fa18/assets/datasets/hw2-SFBusinesses.zip'\n",
    "target_file_name = 'data.zip'\n",
    "data_dir = '.'\n",
    "\n",
    "# Change the force=False -> force=True in case you need to force redownload the data\n",
    "dest_path = ds100_utils.fetch_and_cache(data_url=source_data_url, data_dir=data_dir, file=target_file_name, force=False)"
   ]
  },
  {
   "cell_type": "markdown",
   "metadata": {
    "deletable": false,
    "editable": false,
    "nbgrader": {
     "cell_type": "markdown",
     "checksum": "72b3391db6c3a533024df1bfec199de0",
     "grade": false,
     "grade_id": "data-here",
     "locked": true,
     "schema_version": 2,
     "solution": false
    }
   },
   "source": [
    "After running the code, if you look at the directory containing hw1.ipynb, you should see data.zip."
   ]
  },
  {
   "cell_type": "markdown",
   "metadata": {
    "deletable": false,
    "editable": false,
    "nbgrader": {
     "cell_type": "markdown",
     "checksum": "5f4aac1be6146a73df13d3d9296a7d3e",
     "grade": false,
     "grade_id": "loading-description",
     "locked": true,
     "schema_version": 2,
     "solution": false
    }
   },
   "source": [
    "---\n",
    "## 1: Loading Food Safety Data\n",
    "\n",
    "Alright, great, now we have `data.zip`. We don't have any specific questions yet, so let's focus on understanding the structure of the data. Recall this involves answering questions such as \n",
    "\n",
    "* Is the data in a standard format or encoding?\n",
    "* Is the data organized in records?\n",
    "* What are the fields in each record?\n",
    "\n",
    "Let's start by looking at the contents of the zip file. We could in theory do this by manually opening up the zip file on our computers or using a shell command like `!unzip`, but on this homework we're going to do almost everything in Python for maximum portability and automation.\n",
    "\n",
    "**Goal**: Fill in the code below so that `my_zip` is a `Zipfile.zipfile` object corresponding to the downloaded zip file, and so that `list_names` contains a list of the names of all files inside the downloaded zip file.\n",
    "\n",
    "Creating a `zipfile.Zipfile` object is a good start (the [Python docs](https://docs.python.org/3/library/zipfile.html) have further details). You might also look back at the code from the case study from lecture 2, [02-case-study.ipynb](http://www.ds100.org/fa18/assets/lectures/lec02/02-case-study.nbconvert.html). It's OK to copy and paste code from the 02-case-study file, though you might get more out of this exercise if you type out an answer."
   ]
  },
  {
   "cell_type": "markdown",
   "metadata": {
    "deletable": false,
    "editable": false,
    "nbgrader": {
     "cell_type": "markdown",
     "checksum": "3c8c20e980aba6fa4c652697343f97fe",
     "grade": false,
     "grade_id": "q1a",
     "locked": true,
     "schema_version": 2,
     "solution": false
    }
   },
   "source": [
    "### Question 1a: Looking Inside and Extracting the Zip Files"
   ]
  },
  {
   "cell_type": "code",
   "execution_count": 170,
   "metadata": {
    "ExecuteTime": {
     "end_time": "2018-08-18T01:21:53.165555Z",
     "start_time": "2018-08-18T01:21:53.153523Z"
    },
    "deletable": false,
    "nbgrader": {
     "cell_type": "code",
     "checksum": "7946e5ed53b8cf5e6cb1e8904beadaca",
     "grade": false,
     "grade_id": "loading-answer",
     "locked": false,
     "schema_version": 2,
     "solution": true
    }
   },
   "outputs": [
    {
     "data": {
      "text/plain": [
       "['violations.csv', 'businesses.csv', 'inspections.csv', 'legend.csv']"
      ]
     },
     "execution_count": 170,
     "metadata": {},
     "output_type": "execute_result"
    }
   ],
   "source": [
    "# Fill in the list_files variable with a list of all the names of the files in the zip file\n",
    "import zipfile\n",
    "my_zip = zipfile.ZipFile(dest_path)\n",
    "list_names = my_zip.namelist()\n",
    "list_names\n",
    "\n",
    "# YOUR CODE HERE\n",
    "#raise NotImplementedError()"
   ]
  },
  {
   "cell_type": "markdown",
   "metadata": {
    "deletable": false,
    "editable": false,
    "nbgrader": {
     "cell_type": "markdown",
     "checksum": "9ec2f4733a26b373842540bbc7b5a744",
     "grade": false,
     "grade_id": "cell-f7fd545c03a53304",
     "locked": true,
     "schema_version": 2,
     "solution": false
    }
   },
   "source": [
    "The cell below will test that your code is correct."
   ]
  },
  {
   "cell_type": "code",
   "execution_count": 171,
   "metadata": {
    "deletable": false,
    "editable": false,
    "nbgrader": {
     "cell_type": "code",
     "checksum": "8d6969343c3d36aa7d87ea2691fa8446",
     "grade": true,
     "grade_id": "loading-test",
     "locked": true,
     "points": 1,
     "schema_version": 2,
     "solution": false
    }
   },
   "outputs": [],
   "source": [
    "assert isinstance(my_zip, zipfile.ZipFile)\n",
    "assert isinstance(list_names, list)\n",
    "assert all([isinstance(file, str) for file in list_names]) \n"
   ]
  },
  {
   "cell_type": "markdown",
   "metadata": {
    "deletable": false,
    "editable": false,
    "nbgrader": {
     "cell_type": "markdown",
     "checksum": "6530d00748f8b700407804e39add4dc4",
     "grade": false,
     "grade_id": "you-are-warned",
     "locked": true,
     "schema_version": 2,
     "solution": false
    }
   },
   "source": [
    "In your answer above, if you see something like `zipfile.ZipFile('data.zip'...`, we suggest changing it to read `zipfile.ZipFile(dest_path...` or alternately `zipfile.ZipFile(target_file_name...`. In general, we **strongly suggest having your filenames hard coded ONLY ONCE** in any given iPython notebook. It is very dangerous to hard code things twice, because if you change one but forget to change the other, you can end up with very hard to find bugs."
   ]
  },
  {
   "cell_type": "markdown",
   "metadata": {
    "deletable": false,
    "editable": false,
    "nbgrader": {
     "cell_type": "markdown",
     "checksum": "9a8c96921e083a16429d3f03a099a12a",
     "grade": false,
     "grade_id": "loading-size",
     "locked": true,
     "schema_version": 2,
     "solution": false
    }
   },
   "source": [
    "Now display the files' names and their sizes.\n",
    "\n",
    "If you're not sure how to proceed, read about the attributes of a `ZipFile` object in the Python docs linked above."
   ]
  },
  {
   "cell_type": "code",
   "execution_count": 172,
   "metadata": {
    "ExecuteTime": {
     "end_time": "2018-08-18T01:21:53.187732Z",
     "start_time": "2018-08-18T01:21:53.177203Z"
    },
    "deletable": false,
    "nbgrader": {
     "cell_type": "code",
     "checksum": "90132df60c15b0d458f197ab10e57cb9",
     "grade": false,
     "grade_id": "loading-size-answer",
     "locked": false,
     "schema_version": 2,
     "solution": true
    }
   },
   "outputs": [
    {
     "name": "stdout",
     "output_type": "stream",
     "text": [
      "violations.csv: 3726206 bytes\n",
      "businesses.csv: 660231 bytes\n",
      "inspections.csv: 466106 bytes\n",
      "legend.csv: 120 bytes\n"
     ]
    }
   ],
   "source": [
    "# YOUR CODE HERE\n",
    "\n",
    "for info in my_zip.infolist():\n",
    "    print(str(info.filename) + \": \" + str(info.file_size) + \" bytes\")\n",
    "\n",
    "#raise NotImplementedError()"
   ]
  },
  {
   "cell_type": "markdown",
   "metadata": {
    "deletable": false,
    "editable": false,
    "nbgrader": {
     "cell_type": "markdown",
     "checksum": "26d88226931353fef8b4009a500881fc",
     "grade": false,
     "grade_id": "keep-running",
     "locked": true,
     "schema_version": 2,
     "solution": false
    }
   },
   "source": [
    "Often when working with zipped data, we'll never unzip the actual zipfile. This saves space on our local computer. However, for this HW, the files are small, so we're just going to unzip everything. This has the added benefit that you can look inside the csv files using a text editor, which might be handy for more deeply understanding what's going on. The cell below will unzip the csv files into a subdirectory called \"data\". Try running the code below."
   ]
  },
  {
   "cell_type": "code",
   "execution_count": 173,
   "metadata": {
    "deletable": false,
    "editable": false,
    "nbgrader": {
     "cell_type": "code",
     "checksum": "2e03b21c770ef0a5a3b70239269bb6f2",
     "grade": false,
     "grade_id": "run-dis",
     "locked": true,
     "schema_version": 2,
     "solution": false
    }
   },
   "outputs": [],
   "source": [
    "from pathlib import Path\n",
    "data_dir = Path('data')\n",
    "my_zip.extractall(data_dir)"
   ]
  },
  {
   "cell_type": "markdown",
   "metadata": {
    "deletable": false,
    "editable": false,
    "nbgrader": {
     "cell_type": "markdown",
     "checksum": "537e37900226c0a532cf8ed16b4be108",
     "grade": false,
     "grade_id": "open-legend",
     "locked": true,
     "schema_version": 2,
     "solution": false
    }
   },
   "source": [
    "When you ran the code above, nothing gets printed. However, this code should have created a folder called \"data\", and in it should be the four CSV files. Assuming you're using Datahub, use your web browser to verify that these files were created, and try to open up `legend.csv` to see what's inside. You should see something that looks like:\n",
    "\n",
    "    \"Minimum_Score\",\"Maximum_Score\",\"Description\"\n",
    "    0,70,\"Poor\"\n",
    "    71,85,\"Needs Improvement\"\n",
    "    86,90,\"Adequate\"\n",
    "    91,100,\"Good\""
   ]
  },
  {
   "cell_type": "markdown",
   "metadata": {
    "deletable": false,
    "editable": false,
    "nbgrader": {
     "cell_type": "markdown",
     "checksum": "452549614d62b1797aab4a1c43154c50",
     "grade": false,
     "grade_id": "look-inside",
     "locked": true,
     "schema_version": 2,
     "solution": false
    }
   },
   "source": [
    "### Question 1b: Programatically Looking Inside the Files"
   ]
  },
  {
   "cell_type": "markdown",
   "metadata": {
    "deletable": false,
    "editable": false,
    "nbgrader": {
     "cell_type": "markdown",
     "checksum": "bbab363e899dace7fbdff14097a7a292",
     "grade": false,
     "grade_id": "q1b",
     "locked": true,
     "schema_version": 2,
     "solution": false
    }
   },
   "source": [
    "What we see when we opened the file above is good news! It looks like this file is indeed a csv file. Let's check the other three files. This time, rather than opening up the files manually, let's use Python to print out the first 5 lines of each. The `ds100_utils` library has a method called `head` that will allow you to retrieve the first N lines of a file as a list. For example `ds100_utils.head('data/legend.csv', 5)` will return the first 5 lines of \"data/legend.csv\". Try using this function to print out the first 5 lines of all four files that we just extracted from the zipfile."
   ]
  },
  {
   "cell_type": "code",
   "execution_count": 174,
   "metadata": {
    "deletable": false,
    "nbgrader": {
     "cell_type": "code",
     "checksum": "7acb88833af037c9d1c8a477342c1464",
     "grade": false,
     "grade_id": "q1b-answer",
     "locked": false,
     "schema_version": 2,
     "solution": true
    }
   },
   "outputs": [
    {
     "name": "stdout",
     "output_type": "stream",
     "text": [
      "['\"business_id\",\"date\",\"description\"\\n', '19,\"20171211\",\"Inadequate food safety knowledge or lack of certified food safety manager\"\\n', '19,\"20171211\",\"Unapproved or unmaintained equipment or utensils\"\\n', '19,\"20160513\",\"Unapproved or unmaintained equipment or utensils  [ date violation corrected: 12/11/2017 ]\"\\n', '19,\"20160513\",\"Unclean or degraded floors walls or ceilings  [ date violation corrected: 12/11/2017 ]\"\\n']\n",
      "['\"business_id\",\"name\",\"address\",\"city\",\"state\",\"postal_code\",\"latitude\",\"longitude\",\"phone_number\"\\n', '19,\"NRGIZE LIFESTYLE CAFE\",\"1200 VAN NESS AVE, 3RD FLOOR\",\"San Francisco\",\"CA\",\"94109\",\"37.786848\",\"-122.421547\",\"+14157763262\"\\n', '24,\"OMNI S.F. HOTEL - 2ND FLOOR PANTRY\",\"500 CALIFORNIA ST, 2ND  FLOOR\",\"San Francisco\",\"CA\",\"94104\",\"37.792888\",\"-122.403135\",\"+14156779494\"\\n', '31,\"NORMAN\\'S ICE CREAM AND FREEZES\",\"2801 LEAVENWORTH ST \",\"San Francisco\",\"CA\",\"94133\",\"37.807155\",\"-122.419004\",\"\"\\n', '45,\"CHARLIE\\'S DELI CAFE\",\"3202 FOLSOM ST \",\"San Francisco\",\"CA\",\"94110\",\"37.747114\",\"-122.413641\",\"+14156415051\"\\n']\n",
      "['\"business_id\",\"score\",\"date\",\"type\"\\n', '19,\"94\",\"20160513\",\"routine\"\\n', '19,\"94\",\"20171211\",\"routine\"\\n', '24,\"98\",\"20171101\",\"routine\"\\n', '24,\"98\",\"20161005\",\"routine\"\\n']\n",
      "['\"Minimum_Score\",\"Maximum_Score\",\"Description\"\\n', '0,70,\"Poor\"\\n', '71,85,\"Needs Improvement\"\\n', '86,90,\"Adequate\"\\n', '91,100,\"Good\"\\n']\n"
     ]
    }
   ],
   "source": [
    "# YOUR CODE HERE\n",
    "\n",
    "for file in list_names:\n",
    "    print(ds100_utils.head(\"data/\"+file, 5))\n",
    "\n",
    "#raise NotImplementedError()"
   ]
  },
  {
   "cell_type": "markdown",
   "metadata": {
    "deletable": false,
    "editable": false,
    "nbgrader": {
     "cell_type": "markdown",
     "checksum": "940618f3952bc49bc9e5befc16f74d36",
     "grade": false,
     "grade_id": "q1c",
     "locked": true,
     "schema_version": 2,
     "solution": false
    }
   },
   "source": [
    "### Question 1c: Reading in the Files\n",
    "\n",
    "Based on the above information, let's attempt to load `businesses.csv`, `inspections.csv`, and `violations.csv` into pandas data frames with the following names: `bus`, `ins`, and `vio` respectively.\n",
    "\n",
    "*Note:* Because of character encoding issues one of the files (`bus`) will require an additional argument `encoding='ISO-8859-1'` when calling `pd.read_csv`. "
   ]
  },
  {
   "cell_type": "code",
   "execution_count": 175,
   "metadata": {
    "ExecuteTime": {
     "end_time": "2018-08-18T01:21:53.438446Z",
     "start_time": "2018-08-18T01:21:53.280442Z"
    },
    "deletable": false,
    "nbgrader": {
     "cell_type": "code",
     "checksum": "c17228bfe73f1531cf6f13c08a30f4ae",
     "grade": false,
     "grade_id": "q1c-answer",
     "locked": false,
     "schema_version": 2,
     "solution": true
    },
    "tags": [
     "solution"
    ]
   },
   "outputs": [],
   "source": [
    "# path to directory containing data\n",
    "dsDir = Path('data')\n",
    "\n",
    "# Make sure to use these names\n",
    "bus = pd.read_csv(\"data/businesses.csv\", encoding='ISO-8859-1')\n",
    "ins = pd.read_csv(\"data/inspections.csv\")\n",
    "vio = pd.read_csv(\"data/violations.csv\")\n",
    "\n",
    "\n",
    "# YOUR CODE HERE\n",
    "#raise NotImplementedError()"
   ]
  },
  {
   "cell_type": "markdown",
   "metadata": {
    "deletable": false,
    "editable": false,
    "nbgrader": {
     "cell_type": "markdown",
     "checksum": "31ed591440a6eade7a0c82949304d39c",
     "grade": false,
     "grade_id": "try-out",
     "locked": true,
     "schema_version": 2,
     "solution": false
    }
   },
   "source": [
    "Now that you've read in the files, let's try some `pd.DataFrame` methods.\n",
    "Use the `DataFrame.head` command to show the top few lines of the `bus`, `ins`, and `vio` dataframes."
   ]
  },
  {
   "cell_type": "code",
   "execution_count": 176,
   "metadata": {
    "deletable": false,
    "nbgrader": {
     "cell_type": "code",
     "checksum": "4eb2b40167a97ca851d9965b5178f179",
     "grade": false,
     "grade_id": "bus-head",
     "locked": false,
     "schema_version": 2,
     "solution": true
    }
   },
   "outputs": [
    {
     "name": "stdout",
     "output_type": "stream",
     "text": [
      "   business_id                                name  \\\n",
      "0           19               NRGIZE LIFESTYLE CAFE   \n",
      "1           24  OMNI S.F. HOTEL - 2ND FLOOR PANTRY   \n",
      "2           31      NORMAN'S ICE CREAM AND FREEZES   \n",
      "3           45                 CHARLIE'S DELI CAFE   \n",
      "4           48                          ART'S CAFE   \n",
      "\n",
      "                         address           city state postal_code   latitude  \\\n",
      "0   1200 VAN NESS AVE, 3RD FLOOR  San Francisco    CA       94109  37.786848   \n",
      "1  500 CALIFORNIA ST, 2ND  FLOOR  San Francisco    CA       94104  37.792888   \n",
      "2           2801 LEAVENWORTH ST   San Francisco    CA       94133  37.807155   \n",
      "3                3202 FOLSOM ST   San Francisco    CA       94110  37.747114   \n",
      "4                 747 IRVING ST   San Francisco    CA       94122  37.764013   \n",
      "\n",
      "    longitude  phone_number  \n",
      "0 -122.421547  +14157763262  \n",
      "1 -122.403135  +14156779494  \n",
      "2 -122.419004           NaN  \n",
      "3 -122.413641  +14156415051  \n",
      "4 -122.465749  +14156657440  \n",
      "   business_id  score      date     type\n",
      "0           19     94  20160513  routine\n",
      "1           19     94  20171211  routine\n",
      "2           24     98  20171101  routine\n",
      "3           24     98  20161005  routine\n",
      "4           24     96  20160311  routine\n",
      "   business_id      date                                        description\n",
      "0           19  20171211  Inadequate food safety knowledge or lack of ce...\n",
      "1           19  20171211   Unapproved or unmaintained equipment or utensils\n",
      "2           19  20160513  Unapproved or unmaintained equipment or utensi...\n",
      "3           19  20160513  Unclean or degraded floors walls or ceilings  ...\n",
      "4           19  20160513  Food safety certificate or food handler card n...\n"
     ]
    }
   ],
   "source": [
    "# YOUR CODE HERE\n",
    "print(bus.head())\n",
    "print(ins.head())\n",
    "print(vio.head())\n",
    "#raise NotImplementedError()"
   ]
  },
  {
   "cell_type": "markdown",
   "metadata": {
    "deletable": false,
    "editable": false,
    "nbgrader": {
     "cell_type": "markdown",
     "checksum": "9855f2fb81f2b0ef8c0ecec2fe68ae92",
     "grade": false,
     "grade_id": "df-describe",
     "locked": true,
     "schema_version": 2,
     "solution": false
    }
   },
   "source": [
    "The `DataFrame.describe` method can also be handy for computing summaries of various statistics of our dataframes. Try it out with each of our 3 dataframes."
   ]
  },
  {
   "cell_type": "code",
   "execution_count": 177,
   "metadata": {
    "deletable": false,
    "nbgrader": {
     "cell_type": "code",
     "checksum": "6be38aa48fc81485e5020f68a6311beb",
     "grade": false,
     "grade_id": "bus-describe",
     "locked": false,
     "schema_version": 2,
     "solution": true
    }
   },
   "outputs": [
    {
     "name": "stdout",
     "output_type": "stream",
     "text": [
      "<bound method NDFrame.describe of       business_id                                  name  \\\n",
      "0              19                 NRGIZE LIFESTYLE CAFE   \n",
      "1              24    OMNI S.F. HOTEL - 2ND FLOOR PANTRY   \n",
      "2              31        NORMAN'S ICE CREAM AND FREEZES   \n",
      "3              45                   CHARLIE'S DELI CAFE   \n",
      "4              48                            ART'S CAFE   \n",
      "5              54                   RHODA GOLDMAN PLAZA   \n",
      "6              56                            CAFE X + O   \n",
      "7              58                           OASIS GRILL   \n",
      "8              61                              CHOWDERS   \n",
      "9              66                      STARBUCKS COFFEE   \n",
      "10             67                       REVOLUTION CAFE   \n",
      "11             73                     DINO'S UNCLE VITO   \n",
      "12             76    OMNI S.F. HOTEL - 3RD FLOOR PANTRY   \n",
      "13             77  OMNI S.F. HOTEL - EMPLOYEE CAFETERIA   \n",
      "14             80                       LAW SCHOOL CAFE   \n",
      "15             81                   CLUB ED/BON APPETIT   \n",
      "16             88                          J.B.'S PLACE   \n",
      "17             95                                  VEGA   \n",
      "18             98                          XOX TRUFFLES   \n",
      "19             99         J & M A-1 CAFE RESTAURANT LLC   \n",
      "20            101                      CABLE CAR CORNER   \n",
      "21            102                     AKIKO'S SUSHI BAR   \n",
      "22            108                             RUE LEPIC   \n",
      "23            116             THE WATERFRONT RESTAURANT   \n",
      "24            121                          AKIKOS SUSHI   \n",
      "25            125                           CENTERFOLDS   \n",
      "26            134                                  MINT   \n",
      "27            140                        CAFE MADELEINE   \n",
      "28            141          AFC SUSHI @ MOLLIE STONE'S 2   \n",
      "29            146                 DEJA VU PIZZA & PASTA   \n",
      "...           ...                                   ...   \n",
      "6376        94305               ROSAMUNDE SAUSAGE GRILL   \n",
      "6377        94310                         YOKAI EXPRESS   \n",
      "6378        94318                        YUANBAO JIAOZI   \n",
      "6379        94331                     MATCHA CAFE MAIKO   \n",
      "6380        94334              SUBWAY SANDWICHES #53761   \n",
      "6381        94337              SUBWAY SANDWICHES #61240   \n",
      "6382        94354               RAINBOW MARKET AND DELI   \n",
      "6383        94387                       FOUNDATION CAFE   \n",
      "6384        94388                       FOUNDATION CAFE   \n",
      "6385        94394                        KOKIO REPUBLIC   \n",
      "6386        94408                     SIZZLING POT KING   \n",
      "6387        94409                           AUGUST HALL   \n",
      "6388        94412                 NATIVE BAKING COMPANY   \n",
      "6389        94433                        GREEK TOWN LLC   \n",
      "6390        94442                           SIMPLY CAFE   \n",
      "6391        94456                UBER-ATG (BON APPETIT)   \n",
      "6392        94460                           DOBBS FERRY   \n",
      "6393        94465                        BEAUTIFULL LLC   \n",
      "6394        94468                             BAR CRENN   \n",
      "6395        94502                   NEW FORTUNE DIM SUM   \n",
      "6396        94521                JOE & THE JUICE HOWARD   \n",
      "6397        94522                        CAFE JOSEPHINE   \n",
      "6398        94537         BON APPETIT @ USF- OUTTA HERE   \n",
      "6399        94540                          FOAM USA LLC   \n",
      "6400        94542                            OCEAN THAI   \n",
      "6401        94544                          D'MAIZE CAFE   \n",
      "6402        94555             EASY BREEZY FROZEN YOGURT   \n",
      "6403        94571                THE PHOENIX PASTIFICIO   \n",
      "6404        94572                 BROADWAY DIM SUM CAFE   \n",
      "6405        94574                           BINKA BITES   \n",
      "\n",
      "                            address           city state postal_code  \\\n",
      "0      1200 VAN NESS AVE, 3RD FLOOR  San Francisco    CA       94109   \n",
      "1     500 CALIFORNIA ST, 2ND  FLOOR  San Francisco    CA       94104   \n",
      "2              2801 LEAVENWORTH ST   San Francisco    CA       94133   \n",
      "3                   3202 FOLSOM ST   San Francisco    CA       94110   \n",
      "4                    747 IRVING ST   San Francisco    CA       94122   \n",
      "5                     2180 POST ST   San Francisco    CA       94115   \n",
      "6                   1799 CHURCH ST   San Francisco    CA       94131   \n",
      "7                      91 DRUMM ST   San Francisco    CA       94111   \n",
      "8                 PIER 39  SPACE A3  San Francisco    CA       94133   \n",
      "9                   1800 IRVING ST   San Francisco    CA       94122   \n",
      "10                    3248 22ND ST   San Francisco    CA       94110   \n",
      "11                2101 FILLMORE ST   San Francisco    CA       94115   \n",
      "12     500 CALIFORNIA ST, 3RD FLOOR  San Francisco    CA       94104   \n",
      "13      500 CALIFORNIA ST, BASEMENT  San Francisco    CA       94104   \n",
      "14                  2199 FULTON ST   San Francisco    CA       94117   \n",
      "15                    2350 TURK ST   San Francisco    CA       94117   \n",
      "16                    1435 17TH ST   San Francisco    CA       94107   \n",
      "17                419 CORTLAND AVE   San Francisco    CA       94110   \n",
      "18                754 COLUMBUS AVE   San Francisco    CA       94133   \n",
      "19                     779 CLAY ST   San Francisco    CA       94108   \n",
      "20                  1099 POWELL ST   San Francisco    CA       94108   \n",
      "21                   542A MASON ST   San Francisco    CA       94102   \n",
      "22                      900 PINE ST  San Francisco    CA       94108   \n",
      "23               PIER 7 EMBARCADERO  San Francisco    CA       94111   \n",
      "24                     431 BUSH ST   San Francisco    CA       94108   \n",
      "25                 391 BROADWAY ST   San Francisco    CA       94133   \n",
      "26                400 MCALLISTER ST  San Francisco    CA       94102   \n",
      "27               300 CALIFORNIA ST   San Francisco    CA       94104   \n",
      "28              2435 CALIFORNIA ST   San Francisco    CA       94115   \n",
      "29                    3227 16TH ST   San Francisco    CA       94103   \n",
      "...                             ...            ...   ...         ...   \n",
      "6376                 545 HAIGHT ST   San Francisco    CA       94117   \n",
      "6377                    135 4TH ST   San Francisco    CA       94103   \n",
      "6378                2110 IRVING ST   San Francisco    CA       94122   \n",
      "6379            1581 WEBSTER ST 175  San Francisco    CA       94115   \n",
      "6380               160 BROADWAY ST   San Francisco    CA       94111   \n",
      "6381              425 D BATTERY ST   San Francisco    CA       94111   \n",
      "6382                 684 LARKIN ST   San Francisco    CA       94109   \n",
      "6383                    645 5TH ST   San Francisco    CA       94107   \n",
      "6384                 335 KEARNY ST   San Francisco    CA       94108   \n",
      "6385                   428 11TH ST   San Francisco    CA       94109   \n",
      "6386                    139 8TH ST   San Francisco    CA       94103   \n",
      "6387                  420 MASON ST   San Francisco    CA         NaN   \n",
      "6388           1324 FITZGERALD AVE   San Francisco    CA       94124   \n",
      "6389                    88 02ND ST   San Francisco    CA       94105   \n",
      "6390                  340 GROVE ST   San Francisco    CA       94102   \n",
      "6391             581 20TH ST 2ND FL  San Francisco    CA       94107   \n",
      "6392                  409 GOUGH ST   San Francisco    CA       94102   \n",
      "6393            3401 CALIFORNIA ST   San Francisco    CA       94118   \n",
      "6394              3131 FILLMORE ST   San Francisco    CA       94123   \n",
      "6395               811 STOCKTON ST   San Francisco    CA       94108   \n",
      "6396                 301 HOWARD ST   San Francisco    CA       94105   \n",
      "6397                199 MUSEUM WAY   San Francisco    CA       94114   \n",
      "6398                2130 FULTON ST   San Francisco    CA       94117   \n",
      "6399               1745 TARAVAL ST   San Francisco    CA       94116   \n",
      "6400                2545 OCEAN AVE   San Francisco    CA       94132   \n",
      "6401                 50 PHELAN AVE   San Francisco    CA       94112   \n",
      "6402            44 WEST PORTAL AVE   San Francisco    CA       94127   \n",
      "6403                200 CLEMENT ST   San Francisco    CA       94118   \n",
      "6404               684 BROADWAY ST   San Francisco    CA       94133   \n",
      "6405               2241 GEARY BLVD   San Francisco    CA       94115   \n",
      "\n",
      "       latitude   longitude  phone_number  \n",
      "0     37.786848 -122.421547  +14157763262  \n",
      "1     37.792888 -122.403135  +14156779494  \n",
      "2     37.807155 -122.419004           NaN  \n",
      "3     37.747114 -122.413641  +14156415051  \n",
      "4     37.764013 -122.465749  +14156657440  \n",
      "5     37.784626 -122.437734  +14153455060  \n",
      "6     37.742325 -122.426476  +14158263535  \n",
      "7     37.794483 -122.396584  +14158341942  \n",
      "8     37.808240 -122.410189  +14153914737  \n",
      "9     37.763578 -122.477461  +14152427970  \n",
      "10    37.755419 -122.419542  +14156420474  \n",
      "11    37.788932 -122.433895  +14159224700  \n",
      "12    37.792888 -122.403135  +14156779494  \n",
      "13    37.792888 -122.403135  +14156779494  \n",
      "14    37.774941 -122.452797  +14154222268  \n",
      "15    37.778468 -122.448484  +14154225849  \n",
      "16    37.765003 -122.398084  +14155848446  \n",
      "17    37.739207 -122.417447  +14152856000  \n",
      "18    37.801665 -122.412104  +14154214814  \n",
      "19    37.794293 -122.405967  +14156057219  \n",
      "20    37.794615 -122.409705  +14153625925  \n",
      "21    37.788484 -122.410045  +14159898218  \n",
      "22    37.790868 -122.410854  +14154746070  \n",
      "23    37.793874 -122.396464  +14153912696  \n",
      "24    37.790643 -122.404676  +14153973218  \n",
      "25    37.798233 -122.403637  +14158340662  \n",
      "26    37.780247 -122.418974  +14155515942  \n",
      "27    37.793268 -122.400323  +14153623332  \n",
      "28    37.788773 -122.434697  +14155674902  \n",
      "29    37.764713 -122.424709  +14152551600  \n",
      "...         ...         ...           ...  \n",
      "6376        NaN         NaN  +14154376851  \n",
      "6377        NaN         NaN  +14158234502  \n",
      "6378        NaN         NaN  +14156013979  \n",
      "6379        NaN         NaN  +14150009434  \n",
      "6380        NaN         NaN  +14158861913  \n",
      "6381        NaN         NaN  +14153991549  \n",
      "6382        NaN         NaN  +14157664681  \n",
      "6383        NaN         NaN  +14153503301  \n",
      "6384        NaN         NaN           NaN  \n",
      "6385        NaN         NaN  +14157996404  \n",
      "6386        NaN         NaN  +14158028899  \n",
      "6387        NaN         NaN           NaN  \n",
      "6388        NaN         NaN           NaN  \n",
      "6389        NaN         NaN  +14152408032  \n",
      "6390        NaN         NaN  +14156587659  \n",
      "6391        NaN         NaN  +14158184997  \n",
      "6392        NaN         NaN  +14155517709  \n",
      "6393        NaN         NaN  +14157289080  \n",
      "6394        NaN         NaN           NaN  \n",
      "6395        NaN         NaN  +14153991511  \n",
      "6396        NaN         NaN           NaN  \n",
      "6397        NaN         NaN  +14153508976  \n",
      "6398        NaN         NaN  +14153604802  \n",
      "6399        NaN         NaN  +14156060018  \n",
      "6400        NaN         NaN  +14155857251  \n",
      "6401        NaN         NaN  +14154240604  \n",
      "6402        NaN         NaN  +14155053351  \n",
      "6403        NaN         NaN  +14154726100  \n",
      "6404        NaN         NaN           NaN  \n",
      "6405        NaN         NaN  +14157712907  \n",
      "\n",
      "[6406 rows x 9 columns]>\n",
      "<bound method NDFrame.describe of        business_id  score      date     type\n",
      "0               19     94  20160513  routine\n",
      "1               19     94  20171211  routine\n",
      "2               24     98  20171101  routine\n",
      "3               24     98  20161005  routine\n",
      "4               24     96  20160311  routine\n",
      "5               31     98  20151204  routine\n",
      "6               45     78  20160104  routine\n",
      "7               45     88  20170307  routine\n",
      "8               45     85  20170914  routine\n",
      "9               45     84  20160614  routine\n",
      "10              48     94  20160630  routine\n",
      "11              54    100  20150526  routine\n",
      "12              54     87  20170215  routine\n",
      "13              56     90  20160802  routine\n",
      "14              56     92  20170420  routine\n",
      "15              56     88  20151222  routine\n",
      "16              58     73  20160407  routine\n",
      "17              58     70  20170918  routine\n",
      "18              61     94  20160708  routine\n",
      "19              61     94  20171128  routine\n",
      "20              61     98  20170124  routine\n",
      "21              61     92  20150827  routine\n",
      "22              66     98  20160322  routine\n",
      "23              66    100  20150828  routine\n",
      "24              66    100  20160902  routine\n",
      "25              66     96  20170703  routine\n",
      "26              67     90  20150520  routine\n",
      "27              67     87  20160401  routine\n",
      "28              67     81  20170804  routine\n",
      "29              67     94  20161019  routine\n",
      "...            ...    ...       ...      ...\n",
      "14192        93289     83  20171221  routine\n",
      "14193        93297     98  20171221  routine\n",
      "14194        93352     98  20171027  routine\n",
      "14195        93361     90  20171219  routine\n",
      "14196        93390     96  20171129  routine\n",
      "14197        93423     96  20171103  routine\n",
      "14198        93431     89  20171211  routine\n",
      "14199        93448     96  20171117  routine\n",
      "14200        93465     91  20180104  routine\n",
      "14201        93492     96  20180110  routine\n",
      "14202        93500    100  20171103  routine\n",
      "14203        93532     93  20171103  routine\n",
      "14204        93533     92  20171121  routine\n",
      "14205        93536     94  20171213  routine\n",
      "14206        93549     96  20171221  routine\n",
      "14207        93615     89  20171106  routine\n",
      "14208        93617     88  20171221  routine\n",
      "14209        93815     96  20171102  routine\n",
      "14210        93912     94  20180105  routine\n",
      "14211        93957    100  20171204  routine\n",
      "14212        93959    100  20171218  routine\n",
      "14213        93968     98  20171120  routine\n",
      "14214        93969     98  20171221  routine\n",
      "14215        93977     96  20171219  routine\n",
      "14216        94012    100  20171220  routine\n",
      "14217        94012     90  20180112  routine\n",
      "14218        94133    100  20171227  routine\n",
      "14219        94142    100  20171220  routine\n",
      "14220        94189     96  20171130  routine\n",
      "14221        94231     85  20171214  routine\n",
      "\n",
      "[14222 rows x 4 columns]>\n",
      "<bound method NDFrame.describe of        business_id      date  \\\n",
      "0               19  20171211   \n",
      "1               19  20171211   \n",
      "2               19  20160513   \n",
      "3               19  20160513   \n",
      "4               19  20160513   \n",
      "5               24  20171101   \n",
      "6               24  20161005   \n",
      "7               24  20160311   \n",
      "8               24  20160311   \n",
      "9               31  20151204   \n",
      "10              45  20170914   \n",
      "11              45  20170914   \n",
      "12              45  20170914   \n",
      "13              45  20170914   \n",
      "14              45  20170307   \n",
      "15              45  20170307   \n",
      "16              45  20170307   \n",
      "17              45  20170307   \n",
      "18              45  20170307   \n",
      "19              45  20160614   \n",
      "20              45  20160614   \n",
      "21              45  20160614   \n",
      "22              45  20160614   \n",
      "23              45  20160614   \n",
      "24              45  20160104   \n",
      "25              45  20160104   \n",
      "26              45  20160104   \n",
      "27              45  20160104   \n",
      "28              45  20160104   \n",
      "29              45  20160104   \n",
      "...            ...       ...   \n",
      "39012        93465  20180104   \n",
      "39013        93465  20180104   \n",
      "39014        93492  20180110   \n",
      "39015        93532  20171103   \n",
      "39016        93533  20171121   \n",
      "39017        93533  20171121   \n",
      "39018        93536  20171213   \n",
      "39019        93536  20171213   \n",
      "39020        93549  20171221   \n",
      "39021        93615  20171106   \n",
      "39022        93615  20171106   \n",
      "39023        93617  20171221   \n",
      "39024        93617  20171221   \n",
      "39025        93617  20171221   \n",
      "39026        93617  20171221   \n",
      "39027        93815  20171102   \n",
      "39028        93815  20171102   \n",
      "39029        93912  20180105   \n",
      "39030        93912  20180105   \n",
      "39031        93968  20171120   \n",
      "39032        93969  20171221   \n",
      "39033        93977  20171219   \n",
      "39034        94012  20180112   \n",
      "39035        94012  20180112   \n",
      "39036        94012  20180112   \n",
      "39037        94189  20171130   \n",
      "39038        94231  20171214   \n",
      "39039        94231  20171214   \n",
      "39040        94231  20171214   \n",
      "39041        94231  20171214   \n",
      "\n",
      "                                             description  \n",
      "0      Inadequate food safety knowledge or lack of ce...  \n",
      "1       Unapproved or unmaintained equipment or utensils  \n",
      "2      Unapproved or unmaintained equipment or utensi...  \n",
      "3      Unclean or degraded floors walls or ceilings  ...  \n",
      "4      Food safety certificate or food handler card n...  \n",
      "5                                  Improper food storage  \n",
      "6      Unclean or degraded floors walls or ceilings  ...  \n",
      "7      Unclean or degraded floors walls or ceilings  ...  \n",
      "8      Unclean or degraded floors walls or ceilings  ...  \n",
      "9      Food safety certificate or food handler card n...  \n",
      "10                      Unclean nonfood contact surfaces  \n",
      "11               Moderate risk food holding temperature   \n",
      "12          Unclean or degraded floors walls or ceilings  \n",
      "13                          High risk vermin infestation  \n",
      "14     Moderate risk vermin infestation  [ date viola...  \n",
      "15     Unclean nonfood contact surfaces  [ date viola...  \n",
      "16     Food safety certificate or food handler card n...  \n",
      "17     Unclean or degraded floors walls or ceilings  ...  \n",
      "18     Wiping cloths not clean or properly stored or ...  \n",
      "19     Unapproved or unmaintained equipment or utensi...  \n",
      "20     Moderate risk vermin infestation  [ date viola...  \n",
      "21     Foods not protected from contamination  [ date...  \n",
      "22     Inadequate food safety knowledge or lack of ce...  \n",
      "23     Unclean or degraded floors walls or ceilings  ...  \n",
      "24     Inadequately cleaned or sanitized food contact...  \n",
      "25     Unclean nonfood contact surfaces  [ date viola...  \n",
      "26     Inadequate food safety knowledge or lack of ce...  \n",
      "27     Employee eating or smoking  [ date violation c...  \n",
      "28     Unclean or degraded floors walls or ceilings  ...  \n",
      "29     Unapproved or unmaintained equipment or utensi...  \n",
      "...                                                  ...  \n",
      "39012  Wiping cloths not clean or properly stored or ...  \n",
      "39013  High risk food holding temperature   [ date vi...  \n",
      "39014  Inadequately cleaned or sanitized food contact...  \n",
      "39015  No hot water or running water  [ date violatio...  \n",
      "39016  Inadequately cleaned or sanitized food contact...  \n",
      "39017  Moderate risk food holding temperature   [ dat...  \n",
      "39018  Inadequate and inaccessible handwashing facili...  \n",
      "39019                        Low risk vermin infestation  \n",
      "39020                          Improper thawing methods   \n",
      "39021  High risk food holding temperature   [ date vi...  \n",
      "39022  Inadequately cleaned or sanitized food contact...  \n",
      "39023          Noncompliance with HAACP plan or variance  \n",
      "39024  Inadequately cleaned or sanitized food contact...  \n",
      "39025   Improper food labeling or menu misrepresentation  \n",
      "39026  Food safety certificate or food handler card n...  \n",
      "39027   Unapproved or unmaintained equipment or utensils  \n",
      "39028   Improper storage of equipment utensils or linens  \n",
      "39029  Inadequate and inaccessible handwashing facili...  \n",
      "39030       Unclean or degraded floors walls or ceilings  \n",
      "39031                   Unclean nonfood contact surfaces  \n",
      "39032      No thermometers or uncalibrated thermometers   \n",
      "39033          Noncompliance with HAACP plan or variance  \n",
      "39034  Inadequate and inaccessible handwashing facili...  \n",
      "39035  Other moderate risk violation  [ date violatio...  \n",
      "39036  Wiping cloths not clean or properly stored or ...  \n",
      "39037            Insufficient hot water or running water  \n",
      "39038  Unclean nonfood contact surfaces  [ date viola...  \n",
      "39039  High risk vermin infestation  [ date violation...  \n",
      "39040  Moderate risk food holding temperature   [ dat...  \n",
      "39041  Wiping cloths not clean or properly stored or ...  \n",
      "\n",
      "[39042 rows x 3 columns]>\n"
     ]
    }
   ],
   "source": [
    "# YOUR CODE HERE\n",
    "\n",
    "print(bus.describe)\n",
    "\n",
    "print(ins.describe)\n",
    "\n",
    "print(vio.describe)\n",
    "\n",
    "#raise NotImplementedError()"
   ]
  },
  {
   "cell_type": "markdown",
   "metadata": {
    "deletable": false,
    "editable": false,
    "nbgrader": {
     "cell_type": "markdown",
     "checksum": "05f8381bcdbd5362fbcd52970d7ef0bd",
     "grade": false,
     "grade_id": "q1d",
     "locked": true,
     "schema_version": 2,
     "solution": false
    }
   },
   "source": [
    "### Question 1d: Verify Your Files were Read Correctly"
   ]
  },
  {
   "cell_type": "markdown",
   "metadata": {
    "deletable": false,
    "editable": false,
    "nbgrader": {
     "cell_type": "markdown",
     "checksum": "7e0f9b9636d9a8eae6c0905a96e2475a",
     "grade": false,
     "grade_id": "run-these",
     "locked": true,
     "schema_version": 2,
     "solution": false
    }
   },
   "source": [
    "Now, we perform some sanity checks for you to verify that you loaded the data with the right structure. Run the following cells to load some basic utilities (you do not need to change these at all):"
   ]
  },
  {
   "cell_type": "markdown",
   "metadata": {
    "deletable": false,
    "editable": false,
    "nbgrader": {
     "cell_type": "markdown",
     "checksum": "5372c980164d483cfabc6cf4bc215a0b",
     "grade": false,
     "grade_id": "cell-70c105800589cd29",
     "locked": true,
     "schema_version": 2,
     "solution": false
    }
   },
   "source": [
    "First, we check the basic structure of the data frames you created:"
   ]
  },
  {
   "cell_type": "code",
   "execution_count": 178,
   "metadata": {
    "ExecuteTime": {
     "end_time": "2018-08-18T01:21:53.479700Z",
     "start_time": "2018-08-18T01:21:53.468578Z"
    },
    "deletable": false,
    "editable": false,
    "nbgrader": {
     "cell_type": "code",
     "checksum": "2fab71d121277dbe4bcbe1b4f9f519fa",
     "grade": true,
     "grade_id": "q1d-test0",
     "locked": true,
     "points": 1,
     "schema_version": 2,
     "solution": false
    }
   },
   "outputs": [],
   "source": [
    "assert all(bus.columns == ['business_id', 'name', 'address', 'city', 'state', 'postal_code',\n",
    "                           'latitude', 'longitude', 'phone_number'])\n",
    "assert 6400 <= len(bus) <= 6420\n",
    "\n",
    "assert all(ins.columns == ['business_id', 'score', 'date', 'type'])\n",
    "assert 14210 <= len(ins) <= 14250\n",
    "\n",
    "assert all(vio.columns == ['business_id', 'date', 'description'])\n",
    "assert 39020 <= len(vio) <= 39080"
   ]
  },
  {
   "cell_type": "markdown",
   "metadata": {
    "deletable": false,
    "editable": false,
    "nbgrader": {
     "cell_type": "markdown",
     "checksum": "6e3ca249b1d890a0edc9dcc00ebaa284",
     "grade": false,
     "grade_id": "summs",
     "locked": true,
     "schema_version": 2,
     "solution": false
    }
   },
   "source": [
    "Next we'll check that the statistics match what we expect. The following are hard-coded statistical summaries of the correct data. ."
   ]
  },
  {
   "cell_type": "code",
   "execution_count": 179,
   "metadata": {
    "ExecuteTime": {
     "end_time": "2018-08-18T01:21:53.518953Z",
     "start_time": "2018-08-18T01:21:53.482277Z"
    },
    "deletable": false,
    "editable": false,
    "nbgrader": {
     "cell_type": "code",
     "checksum": "e488f1fc99281f9ee2ec0a935fcec5dc",
     "grade": false,
     "grade_id": "cell-dfsumms",
     "locked": true,
     "schema_version": 2,
     "solution": false
    }
   },
   "outputs": [
    {
     "name": "stdout",
     "output_type": "stream",
     "text": [
      "What we expect from your Businesses dataframe:\n"
     ]
    },
    {
     "data": {
      "text/html": [
       "<div>\n",
       "<style scoped>\n",
       "    .dataframe tbody tr th:only-of-type {\n",
       "        vertical-align: middle;\n",
       "    }\n",
       "\n",
       "    .dataframe tbody tr th {\n",
       "        vertical-align: top;\n",
       "    }\n",
       "\n",
       "    .dataframe thead th {\n",
       "        text-align: right;\n",
       "    }\n",
       "</style>\n",
       "<table border=\"1\" class=\"dataframe\">\n",
       "  <thead>\n",
       "    <tr style=\"text-align: right;\">\n",
       "      <th></th>\n",
       "      <th>business_id</th>\n",
       "      <th>latitude</th>\n",
       "      <th>longitude</th>\n",
       "    </tr>\n",
       "  </thead>\n",
       "  <tbody>\n",
       "    <tr>\n",
       "      <th>min</th>\n",
       "      <td>19.0</td>\n",
       "      <td>37.668824</td>\n",
       "      <td>-122.510896</td>\n",
       "    </tr>\n",
       "    <tr>\n",
       "      <th>50%</th>\n",
       "      <td>68294.5</td>\n",
       "      <td>37.780435</td>\n",
       "      <td>-122.418855</td>\n",
       "    </tr>\n",
       "    <tr>\n",
       "      <th>max</th>\n",
       "      <td>94574.0</td>\n",
       "      <td>37.824494</td>\n",
       "      <td>-122.368257</td>\n",
       "    </tr>\n",
       "  </tbody>\n",
       "</table>\n",
       "</div>"
      ],
      "text/plain": [
       "     business_id   latitude   longitude\n",
       "min         19.0  37.668824 -122.510896\n",
       "50%      68294.5  37.780435 -122.418855\n",
       "max      94574.0  37.824494 -122.368257"
      ]
     },
     "metadata": {},
     "output_type": "display_data"
    },
    {
     "name": "stdout",
     "output_type": "stream",
     "text": [
      "What we expect from your Inspections dataframe:\n"
     ]
    },
    {
     "data": {
      "text/html": [
       "<div>\n",
       "<style scoped>\n",
       "    .dataframe tbody tr th:only-of-type {\n",
       "        vertical-align: middle;\n",
       "    }\n",
       "\n",
       "    .dataframe tbody tr th {\n",
       "        vertical-align: top;\n",
       "    }\n",
       "\n",
       "    .dataframe thead th {\n",
       "        text-align: right;\n",
       "    }\n",
       "</style>\n",
       "<table border=\"1\" class=\"dataframe\">\n",
       "  <thead>\n",
       "    <tr style=\"text-align: right;\">\n",
       "      <th></th>\n",
       "      <th>business_id</th>\n",
       "      <th>score</th>\n",
       "    </tr>\n",
       "  </thead>\n",
       "  <tbody>\n",
       "    <tr>\n",
       "      <th>min</th>\n",
       "      <td>19.0</td>\n",
       "      <td>48.0</td>\n",
       "    </tr>\n",
       "    <tr>\n",
       "      <th>50%</th>\n",
       "      <td>61462.0</td>\n",
       "      <td>92.0</td>\n",
       "    </tr>\n",
       "    <tr>\n",
       "      <th>max</th>\n",
       "      <td>94231.0</td>\n",
       "      <td>100.0</td>\n",
       "    </tr>\n",
       "  </tbody>\n",
       "</table>\n",
       "</div>"
      ],
      "text/plain": [
       "     business_id  score\n",
       "min         19.0   48.0\n",
       "50%      61462.0   92.0\n",
       "max      94231.0  100.0"
      ]
     },
     "metadata": {},
     "output_type": "display_data"
    },
    {
     "name": "stdout",
     "output_type": "stream",
     "text": [
      "What we expect from your Violations dataframe:\n"
     ]
    },
    {
     "data": {
      "text/html": [
       "<div>\n",
       "<style scoped>\n",
       "    .dataframe tbody tr th:only-of-type {\n",
       "        vertical-align: middle;\n",
       "    }\n",
       "\n",
       "    .dataframe tbody tr th {\n",
       "        vertical-align: top;\n",
       "    }\n",
       "\n",
       "    .dataframe thead th {\n",
       "        text-align: right;\n",
       "    }\n",
       "</style>\n",
       "<table border=\"1\" class=\"dataframe\">\n",
       "  <thead>\n",
       "    <tr style=\"text-align: right;\">\n",
       "      <th></th>\n",
       "      <th>business_id</th>\n",
       "    </tr>\n",
       "  </thead>\n",
       "  <tbody>\n",
       "    <tr>\n",
       "      <th>min</th>\n",
       "      <td>19.0</td>\n",
       "    </tr>\n",
       "    <tr>\n",
       "      <th>50%</th>\n",
       "      <td>62060.0</td>\n",
       "    </tr>\n",
       "    <tr>\n",
       "      <th>max</th>\n",
       "      <td>94231.0</td>\n",
       "    </tr>\n",
       "  </tbody>\n",
       "</table>\n",
       "</div>"
      ],
      "text/plain": [
       "     business_id\n",
       "min         19.0\n",
       "50%      62060.0\n",
       "max      94231.0"
      ]
     },
     "metadata": {},
     "output_type": "display_data"
    }
   ],
   "source": [
    "bus_summary = pd.DataFrame(**{'columns': ['business_id', 'latitude', 'longitude'],\n",
    " 'data': {'business_id': {'50%': 68294.5, 'max': 94574.0, 'min': 19.0},\n",
    "  'latitude': {'50%': 37.780435, 'max': 37.824494, 'min': 37.668824},\n",
    "  'longitude': {'50%': -122.41885450000001,\n",
    "   'max': -122.368257,\n",
    "   'min': -122.510896}},\n",
    " 'index': ['min', '50%', 'max']})\n",
    "\n",
    "ins_summary = pd.DataFrame(**{'columns': ['business_id', 'score'],\n",
    " 'data': {'business_id': {'50%': 61462.0, 'max': 94231.0, 'min': 19.0},\n",
    "  'score': {'50%': 92.0, 'max': 100.0, 'min': 48.0}},\n",
    " 'index': ['min', '50%', 'max']})\n",
    "\n",
    "vio_summary = pd.DataFrame(**{'columns': ['business_id'],\n",
    " 'data': {'business_id': {'50%': 62060.0, 'max': 94231.0, 'min': 19.0}},\n",
    " 'index': ['min', '50%', 'max']})\n",
    "\n",
    "from IPython.display import display\n",
    "\n",
    "print('What we expect from your Businesses dataframe:')\n",
    "display(bus_summary)\n",
    "print('What we expect from your Inspections dataframe:')\n",
    "display(ins_summary)\n",
    "print('What we expect from your Violations dataframe:')\n",
    "display(vio_summary)"
   ]
  },
  {
   "cell_type": "markdown",
   "metadata": {
    "deletable": false,
    "editable": false,
    "nbgrader": {
     "cell_type": "markdown",
     "checksum": "4f2213b9a5c817e694a3993d6613a25d",
     "grade": false,
     "grade_id": "all-close",
     "locked": true,
     "schema_version": 2,
     "solution": false
    }
   },
   "source": [
    "The code below defines a testing function that we'll use to verify that your data has the same statistics as what we expect. Run these cells to define the function. The `df_allclose` function has this name because we are verifying that all of the statistics for your dataframe are close to the expected values. Why not `df_allequal`? It's a bad idea in almost all cases to compare two floating point values like 37.780435, as rounding error can cause spurious failures."
   ]
  },
  {
   "cell_type": "markdown",
   "metadata": {
    "deletable": false,
    "editable": false,
    "nbgrader": {
     "cell_type": "markdown",
     "checksum": "88dc77d0774fdbc071f514fe10dfc203",
     "grade": false,
     "grade_id": "cell-5706da35faa672c3",
     "locked": true,
     "schema_version": 2,
     "solution": false
    }
   },
   "source": [
    "Do not delete the empty cell below!"
   ]
  },
  {
   "cell_type": "code",
   "execution_count": null,
   "metadata": {
    "ExecuteTime": {
     "end_time": "2018-08-18T01:21:53.448823Z",
     "start_time": "2018-08-18T01:21:53.443050Z"
    },
    "deletable": false,
    "editable": false,
    "nbgrader": {
     "cell_type": "code",
     "checksum": "14ffb946ed60bbecd3f87c2b1a5af362",
     "grade": true,
     "grade_id": "cell-utils",
     "locked": true,
     "points": 0,
     "schema_version": 2,
     "solution": false
    }
   },
   "outputs": [],
   "source": []
  },
  {
   "cell_type": "code",
   "execution_count": 180,
   "metadata": {
    "ExecuteTime": {
     "end_time": "2018-08-18T01:21:53.464919Z",
     "start_time": "2018-08-18T01:21:53.452814Z"
    },
    "deletable": false,
    "editable": false,
    "nbgrader": {
     "cell_type": "code",
     "checksum": "5873c10fff6f94ad6c5878ac7cc302f8",
     "grade": false,
     "grade_id": "cell-dfcompare",
     "locked": true,
     "schema_version": 2,
     "solution": false
    }
   },
   "outputs": [],
   "source": [
    "\"\"\"Run this cell to load this utility comparison function that we will use in various\n",
    "tests below (both tests you can see and those we run internally for grading).\n",
    "\n",
    "Do not modify the function in any way.\n",
    "\"\"\"\n",
    "\n",
    "def df_allclose(actual, desired, columns=None, rtol=5e-2):\n",
    "    \"\"\"Compare selected columns of two dataframes on a few summary statistics.\n",
    "    \n",
    "    Compute the min, median and max of the two dataframes on the given columns, and compare\n",
    "    that they match numerically to the given relative tolerance.\n",
    "    \n",
    "    If they don't match, an AssertionError is raised (by `numpy.testing`).\n",
    "    \"\"\"\n",
    "    import numpy.testing as npt\n",
    "    \n",
    "    # summary statistics to compare on\n",
    "    stats = ['min', '50%', 'max']\n",
    "    \n",
    "    # For the desired values, we can provide a full DF with the same structure as\n",
    "    # the actual data, or pre-computed summary statistics.\n",
    "    # We assume a pre-computed summary was provided if columns is None. In that case, \n",
    "    # `desired` *must* have the same structure as the actual's summary\n",
    "    if columns is None:\n",
    "        des = desired\n",
    "        columns = desired.columns\n",
    "    else:\n",
    "        des = desired[columns].describe().loc[stats]\n",
    "\n",
    "    # Extract summary stats from actual DF\n",
    "    act = actual[columns].describe().loc[stats]\n",
    "\n",
    "    npt.assert_allclose(act, des, rtol)"
   ]
  },
  {
   "cell_type": "markdown",
   "metadata": {
    "deletable": false,
    "editable": false,
    "nbgrader": {
     "cell_type": "markdown",
     "checksum": "1e718464b9b9fc1753ee33550111fb30",
     "grade": false,
     "grade_id": "cell-704124b2513d9286",
     "locked": true,
     "schema_version": 2,
     "solution": false
    }
   },
   "source": [
    "Now let's run the automated tests. If your dataframes are correct, then the following cell will seem to do nothing, which is a good thing!"
   ]
  },
  {
   "cell_type": "code",
   "execution_count": 181,
   "metadata": {
    "deletable": false,
    "editable": false,
    "nbgrader": {
     "cell_type": "code",
     "checksum": "36617fa0f2aa7c5cfdd34360de64a0e2",
     "grade": true,
     "grade_id": "cell-2ca9465c00a531db",
     "locked": true,
     "points": 1,
     "schema_version": 2,
     "solution": false
    }
   },
   "outputs": [],
   "source": [
    "# These tests will raise an exception if your variables don't match numerically the correct\n",
    "# answers in the main summary statistics shown above.\n",
    "df_allclose(bus, bus_summary)\n",
    "df_allclose(ins, ins_summary)\n",
    "df_allclose(vio, vio_summary)"
   ]
  },
  {
   "cell_type": "markdown",
   "metadata": {
    "deletable": false,
    "editable": false,
    "nbgrader": {
     "cell_type": "markdown",
     "checksum": "e535af14144f107ab9911af8d5437ae3",
     "grade": false,
     "grade_id": "do-not-edit-2",
     "locked": true,
     "schema_version": 2,
     "solution": false
    }
   },
   "source": [
    "Do not edit the empty cell below. These are hidden tests!"
   ]
  },
  {
   "cell_type": "code",
   "execution_count": null,
   "metadata": {
    "ExecuteTime": {
     "end_time": "2018-08-18T01:21:53.851449Z",
     "start_time": "2018-08-18T01:21:53.560504Z"
    },
    "deletable": false,
    "editable": false,
    "nbgrader": {
     "cell_type": "code",
     "checksum": "b6f700f0358f6359e770656f3a611852",
     "grade": true,
     "grade_id": "q1c-test",
     "locked": true,
     "points": 1,
     "schema_version": 2,
     "solution": false
    }
   },
   "outputs": [],
   "source": []
  },
  {
   "cell_type": "markdown",
   "metadata": {
    "deletable": false,
    "editable": false,
    "nbgrader": {
     "cell_type": "markdown",
     "checksum": "583d9482d9ea24e794e435373eaf8810",
     "grade": false,
     "grade_id": "q1e",
     "locked": true,
     "schema_version": 2,
     "solution": false
    }
   },
   "source": [
    "### Question 1e: Identifying Issues with the Data"
   ]
  },
  {
   "cell_type": "markdown",
   "metadata": {
    "deletable": false,
    "editable": false,
    "nbgrader": {
     "cell_type": "markdown",
     "checksum": "64ad6f3df38caba6c7159883459fa7fc",
     "grade": false,
     "grade_id": "cell-use-head",
     "locked": true,
     "schema_version": 2,
     "solution": false
    }
   },
   "source": [
    "Use the `head` command on your three files again. This time, describe at least one potential problem with the data you see. Consider issues with missing values and bad data.  "
   ]
  },
  {
   "cell_type": "code",
   "execution_count": 182,
   "metadata": {
    "ExecuteTime": {
     "end_time": "2018-08-18T01:21:53.925582Z",
     "start_time": "2018-08-18T01:21:53.918456Z"
    },
    "deletable": false,
    "nbgrader": {
     "cell_type": "code",
     "checksum": "035ca5041af814053e528b9784ecf827",
     "grade": true,
     "grade_id": "q1e-answer",
     "locked": false,
     "points": 1,
     "schema_version": 2,
     "solution": true
    },
    "tags": [
     "student",
     "written"
    ]
   },
   "outputs": [
    {
     "name": "stdout",
     "output_type": "stream",
     "text": [
      "   business_id                                name  \\\n",
      "0           19               NRGIZE LIFESTYLE CAFE   \n",
      "1           24  OMNI S.F. HOTEL - 2ND FLOOR PANTRY   \n",
      "2           31      NORMAN'S ICE CREAM AND FREEZES   \n",
      "3           45                 CHARLIE'S DELI CAFE   \n",
      "4           48                          ART'S CAFE   \n",
      "\n",
      "                         address           city state postal_code   latitude  \\\n",
      "0   1200 VAN NESS AVE, 3RD FLOOR  San Francisco    CA       94109  37.786848   \n",
      "1  500 CALIFORNIA ST, 2ND  FLOOR  San Francisco    CA       94104  37.792888   \n",
      "2           2801 LEAVENWORTH ST   San Francisco    CA       94133  37.807155   \n",
      "3                3202 FOLSOM ST   San Francisco    CA       94110  37.747114   \n",
      "4                 747 IRVING ST   San Francisco    CA       94122  37.764013   \n",
      "\n",
      "    longitude  phone_number  \n",
      "0 -122.421547  +14157763262  \n",
      "1 -122.403135  +14156779494  \n",
      "2 -122.419004           NaN  \n",
      "3 -122.413641  +14156415051  \n",
      "4 -122.465749  +14156657440  \n",
      "   business_id  score      date     type\n",
      "0           19     94  20160513  routine\n",
      "1           19     94  20171211  routine\n",
      "2           24     98  20171101  routine\n",
      "3           24     98  20161005  routine\n",
      "4           24     96  20160311  routine\n",
      "   business_id      date                                        description\n",
      "0           19  20171211  Inadequate food safety knowledge or lack of ce...\n",
      "1           19  20171211   Unapproved or unmaintained equipment or utensils\n",
      "2           19  20160513  Unapproved or unmaintained equipment or utensi...\n",
      "3           19  20160513  Unclean or degraded floors walls or ceilings  ...\n",
      "4           19  20160513  Food safety certificate or food handler card n...\n",
      "\n",
      "\n",
      "I first noticed that in bus, one of the entries has a missing phone_number. This may cause issue in the future when trying to analyze the data if one incorrectly assumes that every business has provided a phone number.\n",
      "\n",
      "\n"
     ]
    }
   ],
   "source": [
    "print(bus.head())\n",
    "print(ins.head())\n",
    "print(vio.head())\n",
    "\n",
    "q1e_answer = r\"\"\"\n",
    "\n",
    "I first noticed that in bus, one of the entries has a missing phone_number. This may cause issue in the future when trying to analyze the data if one incorrectly assumes that every business has provided a phone number.\n",
    "\n",
    "\"\"\"\n",
    "\n",
    "# YOUR CODE HERE\n",
    "#raise NotImplementedError()\n",
    "\n",
    "print(q1e_answer)"
   ]
  },
  {
   "cell_type": "markdown",
   "metadata": {
    "deletable": false,
    "editable": false,
    "nbgrader": {
     "cell_type": "markdown",
     "checksum": "700eb0d365de204987d4a05211bd0c2e",
     "grade": false,
     "grade_id": "intro-explo",
     "locked": true,
     "schema_version": 2,
     "solution": false
    }
   },
   "source": [
    "We will explore each file in turn, including determining its granularity and primary keys and exploring many of the variables indivdually. Let's begin with the businesses file, which has been read into the `bus` dataframe."
   ]
  },
  {
   "cell_type": "markdown",
   "metadata": {
    "deletable": false,
    "editable": false,
    "nbgrader": {
     "cell_type": "markdown",
     "checksum": "222ec91e272524d43af44ce97363bca0",
     "grade": false,
     "grade_id": "business-data",
     "locked": true,
     "schema_version": 2,
     "solution": false
    }
   },
   "source": [
    "---\n",
    "## 2: Examining the Business data\n",
    "\n",
    "From its name alone, we expect the `businesses.csv` file to contain information about the restaurants. Let's investigate the granularity of this dataset.\n",
    "\n",
    "**Important note: From now on, the local autograder tests will not be comprehensive. You can pass the automated tests in your notebook but still fail tests in the autograder.** Please be sure to check your results carefully."
   ]
  },
  {
   "cell_type": "markdown",
   "metadata": {
    "deletable": false,
    "editable": false,
    "nbgrader": {
     "cell_type": "markdown",
     "checksum": "1c9d87cbb1b3b4602bbc879616bfdc0e",
     "grade": false,
     "grade_id": "q2a",
     "locked": true,
     "schema_version": 2,
     "solution": false
    }
   },
   "source": [
    "### Question 2a\n",
    "\n",
    "Examining the entries in `bus`, is the `business_id` unique for each record? Your code should compute the answer, i.e. don't just hard code \"True\".\n",
    "\n",
    "Hint: use `value_counts()` or `unique()` to determine if the `business_id` series has any duplicates."
   ]
  },
  {
   "cell_type": "code",
   "execution_count": 183,
   "metadata": {
    "ExecuteTime": {
     "end_time": "2018-08-18T01:21:53.936572Z",
     "start_time": "2018-08-18T01:21:53.927344Z"
    },
    "deletable": false,
    "nbgrader": {
     "cell_type": "code",
     "checksum": "e28121fd5646debafa1ecc3b64a296a2",
     "grade": false,
     "grade_id": "q2a-answer",
     "locked": false,
     "schema_version": 2,
     "solution": true
    },
    "tags": [
     "solution"
    ]
   },
   "outputs": [
    {
     "data": {
      "text/plain": [
       "True"
      ]
     },
     "execution_count": 183,
     "metadata": {},
     "output_type": "execute_result"
    }
   ],
   "source": [
    "is_business_id_unique = len(bus[\"business_id\"].value_counts().unique()) == 1\n",
    "\n",
    "is_business_id_unique\n",
    "# YOUR CODE HERE\n",
    "#raise NotImplementedError()"
   ]
  },
  {
   "cell_type": "code",
   "execution_count": 184,
   "metadata": {
    "ExecuteTime": {
     "end_time": "2018-08-18T01:21:53.946600Z",
     "start_time": "2018-08-18T01:21:53.938861Z"
    },
    "deletable": false,
    "editable": false,
    "nbgrader": {
     "cell_type": "code",
     "checksum": "d5f31fe7a570b526aa58278d3accc9e5",
     "grade": true,
     "grade_id": "q2a-tests",
     "locked": true,
     "points": 1,
     "schema_version": 2,
     "solution": false
    }
   },
   "outputs": [],
   "source": [
    "assert is_business_id_unique"
   ]
  },
  {
   "cell_type": "markdown",
   "metadata": {
    "deletable": false,
    "editable": false,
    "nbgrader": {
     "cell_type": "markdown",
     "checksum": "bdd01cda80a88320116061eac925f6c4",
     "grade": false,
     "grade_id": "q2b",
     "locked": true,
     "schema_version": 2,
     "solution": false
    },
    "tags": [
     "written"
    ]
   },
   "source": [
    "### Question 2b\n",
    "\n",
    "With this information, you can address the question of granularity. Answer the questions below.\n",
    "\n",
    "1. How many records are there?\n",
    "1. What does each record represent (e.g., a store, a chain, a transaction)?  \n",
    "1. What is the primary key?\n",
    "\n",
    "Please write your answer in the `q2b_answer` variable. You may create new cells to run code as long as you don't delete the cell below."
   ]
  },
  {
   "cell_type": "code",
   "execution_count": 185,
   "metadata": {
    "ExecuteTime": {
     "end_time": "2018-08-18T01:21:53.987051Z",
     "start_time": "2018-08-18T01:21:53.949344Z"
    },
    "deletable": false,
    "nbgrader": {
     "cell_type": "code",
     "checksum": "2507c006bc3191224edf0232b01a1b4c",
     "grade": false,
     "grade_id": "cell-d5e152552a41e14d",
     "locked": false,
     "schema_version": 2,
     "solution": true
    },
    "tags": [
     "student"
    ]
   },
   "outputs": [
    {
     "name": "stdout",
     "output_type": "stream",
     "text": [
      "6406\n"
     ]
    },
    {
     "data": {
      "text/plain": [
       "'94109'"
      ]
     },
     "execution_count": 185,
     "metadata": {},
     "output_type": "execute_result"
    }
   ],
   "source": [
    "# use this cell for scratch work\n",
    "# consider using groupby or value_counts() on the 'name' or 'business_id' \n",
    "print(len(bus))\n",
    "bus[\"postal_code\"].values.item(0)\n",
    "\n",
    "# YOUR CODE HERE\n",
    "#raise NotImplementedError()"
   ]
  },
  {
   "cell_type": "code",
   "execution_count": 186,
   "metadata": {
    "ExecuteTime": {
     "end_time": "2018-08-18T01:21:53.993138Z",
     "start_time": "2018-08-18T01:21:53.989070Z"
    },
    "deletable": false,
    "nbgrader": {
     "cell_type": "code",
     "checksum": "9e3bebdbbf301e0e4df699b53db533dd",
     "grade": true,
     "grade_id": "q2b-answer",
     "locked": false,
     "points": 2,
     "schema_version": 2,
     "solution": true
    },
    "tags": [
     "student",
     "written"
    ]
   },
   "outputs": [
    {
     "name": "stdout",
     "output_type": "stream",
     "text": [
      "\n",
      "\n",
      "There is 6406 records in bus. Each entry represents a store, and the primary key is each business_id, since it is unique for each store.\n",
      "\n",
      "\n"
     ]
    }
   ],
   "source": [
    "q2b_answer = r\"\"\"\n",
    "\n",
    "There is 6406 records in bus. Each entry represents a store, and the primary key is each business_id, since it is unique for each store.\n",
    "\n",
    "\"\"\"\n",
    "\n",
    "# YOUR CODE HERE\n",
    "#raise NotImplementedError()\n",
    "\n",
    "print(q2b_answer)"
   ]
  },
  {
   "cell_type": "markdown",
   "metadata": {
    "deletable": false,
    "editable": false,
    "nbgrader": {
     "cell_type": "markdown",
     "checksum": "d8c74c5f96cbbdd50ff7e1bdce1030c5",
     "grade": false,
     "grade_id": "q3a",
     "locked": true,
     "schema_version": 2,
     "solution": false
    },
    "tags": [
     "written"
    ]
   },
   "source": [
    "---\n",
    "## 3: Zip code\n",
    "\n",
    "Next, let's  explore some of the variables in the business table. We begin by examining the postal code.\n",
    "\n",
    "### Question 3a\n",
    "\n",
    "What kind of values are in the `postal code` column in the `bus` data frame?  \n",
    "1. Are zip codes quantitative or qualitative? If qualitative, is it ordinal or nominal? \n",
    "1. How are the zip code values encoded in python: ints, floats, strings, booleans ...?\n",
    "\n",
    "To answer the second question you might want to examine a particular entry using the Python `type` command."
   ]
  },
  {
   "cell_type": "code",
   "execution_count": 187,
   "metadata": {
    "ExecuteTime": {
     "end_time": "2018-08-18T01:21:54.015633Z",
     "start_time": "2018-08-18T01:21:54.007576Z"
    },
    "deletable": false,
    "nbgrader": {
     "cell_type": "code",
     "checksum": "b4cdcfa0d82b786097f1d174d8030bad",
     "grade": true,
     "grade_id": "q3a-answer",
     "locked": false,
     "points": 2,
     "schema_version": 2,
     "solution": true
    },
    "tags": [
     "student",
     "written"
    ]
   },
   "outputs": [
    {
     "name": "stdout",
     "output_type": "stream",
     "text": [
      "\n",
      "\n",
      "Zip codes are qualitive and nominal types of data. In the bus dataframe, zip codes are stored as strings.\n",
      "\n",
      "\n"
     ]
    }
   ],
   "source": [
    "# Use this cell for your explorations.\n",
    "q3a_answer = r\"\"\"\n",
    "\n",
    "Zip codes are qualitive and nominal types of data. In the bus dataframe, zip codes are stored as strings.\n",
    "\n",
    "\"\"\"\n",
    "\n",
    "# YOUR CODE HERE\n",
    "#raise NotImplementedError()\n",
    "\n",
    "print(q3a_answer)"
   ]
  },
  {
   "cell_type": "markdown",
   "metadata": {
    "deletable": false,
    "editable": false,
    "nbgrader": {
     "cell_type": "markdown",
     "checksum": "9f0c729d6be7c3e1504a6ba6fb63db44",
     "grade": false,
     "grade_id": "q3b",
     "locked": true,
     "schema_version": 2,
     "solution": false
    }
   },
   "source": [
    "### Question 3b\n",
    "\n",
    "To explore the zip code values, it makes sense to examine counts, i.e., the number of records  that have the same zip code value. This is essentially answering the question: How many restaurants are in each zip code? \n"
   ]
  },
  {
   "cell_type": "markdown",
   "metadata": {
    "deletable": false,
    "editable": false,
    "nbgrader": {
     "cell_type": "markdown",
     "checksum": "76413114f4c5893e800d3b591a61853a",
     "grade": false,
     "grade_id": "cell-a4c4a09f1ecf2f4b",
     "locked": true,
     "schema_version": 2,
     "solution": false
    }
   },
   "source": [
    "In the cell below, create a series where the index is the postal code and the value is the number of businesses in that postal code. For example, in 94110 (hey that's my old zip code!), there should be 596 businesses. Your series should be in descending order, i.e. 94110 should be at the top. \n",
    "\n",
    "For this answer, use `groupby`, `size`, and `sort_values`."
   ]
  },
  {
   "cell_type": "code",
   "execution_count": 188,
   "metadata": {
    "deletable": false,
    "nbgrader": {
     "cell_type": "code",
     "checksum": "4fd3e040f153e8b95635707137f6ffa3",
     "grade": false,
     "grade_id": "cell-d2151d673e6c36a1",
     "locked": false,
     "schema_version": 2,
     "solution": true
    }
   },
   "outputs": [
    {
     "data": {
      "text/plain": [
       "postal_code\n",
       "94110        596\n",
       "94103        552\n",
       "94102        462\n",
       "94107        460\n",
       "94133        426\n",
       "94109        380\n",
       "94111        277\n",
       "94122        273\n",
       "94118        249\n",
       "94115        243\n",
       "94105        232\n",
       "94108        228\n",
       "94114        223\n",
       "94117        204\n",
       "94112        195\n",
       "94124        191\n",
       "94123        173\n",
       "94121        160\n",
       "94104        139\n",
       "94132        133\n",
       "94116         99\n",
       "94134         77\n",
       "94127         71\n",
       "94131         49\n",
       "94158         32\n",
       "94130          7\n",
       "94143          5\n",
       "94188          4\n",
       "94101          2\n",
       "94014          2\n",
       "94013          2\n",
       "00000          2\n",
       "CA             2\n",
       "94129          2\n",
       "941102019      1\n",
       "94120          1\n",
       "941033148      1\n",
       "94544          1\n",
       "94545          1\n",
       "94602          1\n",
       "941            1\n",
       "94080          1\n",
       "94066          1\n",
       "94621          1\n",
       "95105          1\n",
       "92672          1\n",
       "64110          1\n",
       "Ca             1\n",
       "Name: business_id, dtype: int64"
      ]
     },
     "execution_count": 188,
     "metadata": {},
     "output_type": "execute_result"
    }
   ],
   "source": [
    "zip_counts = bus.groupby([\"postal_code\"]).count().iloc[:, 0].sort_values(ascending=False)\n",
    "\n",
    "zip_counts\n",
    "\n",
    "# YOUR CODE HERE\n",
    "#raise NotImplementedError()"
   ]
  },
  {
   "cell_type": "code",
   "execution_count": null,
   "metadata": {},
   "outputs": [],
   "source": []
  },
  {
   "cell_type": "markdown",
   "metadata": {
    "deletable": false,
    "editable": false,
    "nbgrader": {
     "cell_type": "markdown",
     "checksum": "c7f12c2fe3391987a80a5f80e46f3473",
     "grade": false,
     "grade_id": "cell-bf6a7fc2384bf533",
     "locked": true,
     "schema_version": 2,
     "solution": false
    }
   },
   "source": [
    "Unless you know pandas well already, your answer probably has one subtle flaw in it: it fails to take into account businesses with missing zip codes. Unfortunately, missing data is just a reality when we're working with real data."
   ]
  },
  {
   "cell_type": "markdown",
   "metadata": {
    "deletable": false,
    "editable": false,
    "nbgrader": {
     "cell_type": "markdown",
     "checksum": "cc5ca1d721f82bc8f29feedf85e18abe",
     "grade": false,
     "grade_id": "cell-5ee47d11c7068c13",
     "locked": true,
     "schema_version": 2,
     "solution": false
    }
   },
   "source": [
    "There are a couple of ways to include null postal codes in the zip_counts series above. One approach is to use `fillna`, which will replace all null (a.k.a. NaN) values with a string of our choosing. In the example below, I picked \"?????\". When you run the code below, you should see that there are 240 businesses with missing zip code."
   ]
  },
  {
   "cell_type": "code",
   "execution_count": 189,
   "metadata": {
    "deletable": false,
    "editable": false,
    "nbgrader": {
     "cell_type": "code",
     "checksum": "d98663dbf49e95ca0ddbb725164bf319",
     "grade": false,
     "grade_id": "cell-e7169177fd00d200",
     "locked": true,
     "schema_version": 2,
     "solution": false
    }
   },
   "outputs": [
    {
     "data": {
      "text/plain": [
       "postal_code\n",
       "94110    596\n",
       "94103    552\n",
       "94102    462\n",
       "94107    460\n",
       "94133    426\n",
       "94109    380\n",
       "94111    277\n",
       "94122    273\n",
       "94118    249\n",
       "94115    243\n",
       "?????    240\n",
       "94105    232\n",
       "94108    228\n",
       "94114    223\n",
       "94117    204\n",
       "dtype: int64"
      ]
     },
     "execution_count": 189,
     "metadata": {},
     "output_type": "execute_result"
    }
   ],
   "source": [
    "zip_counts = bus.fillna(\"?????\").groupby(\"postal_code\").size().sort_values(ascending=False)\n",
    "zip_counts.head(15)"
   ]
  },
  {
   "cell_type": "markdown",
   "metadata": {
    "deletable": false,
    "editable": false,
    "nbgrader": {
     "cell_type": "markdown",
     "checksum": "df763ded617c187d2db57d601cbbd27d",
     "grade": false,
     "grade_id": "cell-3d7c3379cb7dc256",
     "locked": true,
     "schema_version": 2,
     "solution": false
    }
   },
   "source": [
    "An alternate approach is to use the DataFrame `value_counts` method with the optional argument `dropna=False`, which will ensure that null values are counted. In this case, the index will be `NaN` for the row corresponding to a null postal code."
   ]
  },
  {
   "cell_type": "code",
   "execution_count": 190,
   "metadata": {
    "deletable": false,
    "editable": false,
    "nbgrader": {
     "cell_type": "code",
     "checksum": "db57ca2b1bdd4f5c936b6eb76e012d77",
     "grade": false,
     "grade_id": "cell-28eecc6664aa9bf2",
     "locked": true,
     "schema_version": 2,
     "solution": false
    }
   },
   "outputs": [
    {
     "data": {
      "text/plain": [
       "94110    596\n",
       "94103    552\n",
       "94102    462\n",
       "94107    460\n",
       "94133    426\n",
       "94109    380\n",
       "94111    277\n",
       "94122    273\n",
       "94118    249\n",
       "94115    243\n",
       "NaN      240\n",
       "94105    232\n",
       "94108    228\n",
       "94114    223\n",
       "94117    204\n",
       "Name: postal_code, dtype: int64"
      ]
     },
     "execution_count": 190,
     "metadata": {},
     "output_type": "execute_result"
    }
   ],
   "source": [
    "bus[\"postal_code\"].value_counts(dropna=False).sort_values(ascending = False).head(15)"
   ]
  },
  {
   "cell_type": "markdown",
   "metadata": {
    "deletable": false,
    "editable": false,
    "nbgrader": {
     "cell_type": "markdown",
     "checksum": "c0ce4b7e8a901bec2bd185f7b750536d",
     "grade": false,
     "grade_id": "zipcode-details",
     "locked": true,
     "schema_version": 2,
     "solution": false
    }
   },
   "source": [
    "Missing zip codes aren't our only problem. There is also some bad data where the postal code got messed up, e.g., there are 3 'Ca' and 3 'CA' values. Additionally, there are some extended postal codes that are 9 digits long, rather than the typical 5 digits.\n",
    "\n",
    "Let's clean up the extended zip codes by dropping the digits beyond the first 5. Rather than deleting replacing the old values in the `postal_code` columnm, we'll instead create a new column called `postal_code_5`.\n",
    "\n",
    "The reason we're making a new column is because it's typically good practice to keep the original values when we are manipulating data. This makes it easier to recover from mistakes, and also makes it more clear that we are not working with the original raw data."
   ]
  },
  {
   "cell_type": "code",
   "execution_count": 191,
   "metadata": {
    "ExecuteTime": {
     "end_time": "2018-08-18T01:21:54.070634Z",
     "start_time": "2018-08-18T01:21:54.061377Z"
    },
    "deletable": false,
    "editable": false,
    "nbgrader": {
     "cell_type": "code",
     "checksum": "8f7dca76067c4e8fca67a3a17837dc75",
     "grade": false,
     "grade_id": "run-me",
     "locked": true,
     "schema_version": 2,
     "solution": false
    }
   },
   "outputs": [
    {
     "data": {
      "text/html": [
       "<div>\n",
       "<style scoped>\n",
       "    .dataframe tbody tr th:only-of-type {\n",
       "        vertical-align: middle;\n",
       "    }\n",
       "\n",
       "    .dataframe tbody tr th {\n",
       "        vertical-align: top;\n",
       "    }\n",
       "\n",
       "    .dataframe thead th {\n",
       "        text-align: right;\n",
       "    }\n",
       "</style>\n",
       "<table border=\"1\" class=\"dataframe\">\n",
       "  <thead>\n",
       "    <tr style=\"text-align: right;\">\n",
       "      <th></th>\n",
       "      <th>business_id</th>\n",
       "      <th>name</th>\n",
       "      <th>address</th>\n",
       "      <th>city</th>\n",
       "      <th>state</th>\n",
       "      <th>postal_code</th>\n",
       "      <th>latitude</th>\n",
       "      <th>longitude</th>\n",
       "      <th>phone_number</th>\n",
       "      <th>postal_code_5</th>\n",
       "    </tr>\n",
       "  </thead>\n",
       "  <tbody>\n",
       "    <tr>\n",
       "      <th>0</th>\n",
       "      <td>19</td>\n",
       "      <td>NRGIZE LIFESTYLE CAFE</td>\n",
       "      <td>1200 VAN NESS AVE, 3RD FLOOR</td>\n",
       "      <td>San Francisco</td>\n",
       "      <td>CA</td>\n",
       "      <td>94109</td>\n",
       "      <td>37.786848</td>\n",
       "      <td>-122.421547</td>\n",
       "      <td>+14157763262</td>\n",
       "      <td>94109</td>\n",
       "    </tr>\n",
       "    <tr>\n",
       "      <th>1</th>\n",
       "      <td>24</td>\n",
       "      <td>OMNI S.F. HOTEL - 2ND FLOOR PANTRY</td>\n",
       "      <td>500 CALIFORNIA ST, 2ND  FLOOR</td>\n",
       "      <td>San Francisco</td>\n",
       "      <td>CA</td>\n",
       "      <td>94104</td>\n",
       "      <td>37.792888</td>\n",
       "      <td>-122.403135</td>\n",
       "      <td>+14156779494</td>\n",
       "      <td>94104</td>\n",
       "    </tr>\n",
       "    <tr>\n",
       "      <th>2</th>\n",
       "      <td>31</td>\n",
       "      <td>NORMAN'S ICE CREAM AND FREEZES</td>\n",
       "      <td>2801 LEAVENWORTH ST</td>\n",
       "      <td>San Francisco</td>\n",
       "      <td>CA</td>\n",
       "      <td>94133</td>\n",
       "      <td>37.807155</td>\n",
       "      <td>-122.419004</td>\n",
       "      <td>NaN</td>\n",
       "      <td>94133</td>\n",
       "    </tr>\n",
       "    <tr>\n",
       "      <th>3</th>\n",
       "      <td>45</td>\n",
       "      <td>CHARLIE'S DELI CAFE</td>\n",
       "      <td>3202 FOLSOM ST</td>\n",
       "      <td>San Francisco</td>\n",
       "      <td>CA</td>\n",
       "      <td>94110</td>\n",
       "      <td>37.747114</td>\n",
       "      <td>-122.413641</td>\n",
       "      <td>+14156415051</td>\n",
       "      <td>94110</td>\n",
       "    </tr>\n",
       "    <tr>\n",
       "      <th>4</th>\n",
       "      <td>48</td>\n",
       "      <td>ART'S CAFE</td>\n",
       "      <td>747 IRVING ST</td>\n",
       "      <td>San Francisco</td>\n",
       "      <td>CA</td>\n",
       "      <td>94122</td>\n",
       "      <td>37.764013</td>\n",
       "      <td>-122.465749</td>\n",
       "      <td>+14156657440</td>\n",
       "      <td>94122</td>\n",
       "    </tr>\n",
       "    <tr>\n",
       "      <th>5</th>\n",
       "      <td>54</td>\n",
       "      <td>RHODA GOLDMAN PLAZA</td>\n",
       "      <td>2180 POST ST</td>\n",
       "      <td>San Francisco</td>\n",
       "      <td>CA</td>\n",
       "      <td>94115</td>\n",
       "      <td>37.784626</td>\n",
       "      <td>-122.437734</td>\n",
       "      <td>+14153455060</td>\n",
       "      <td>94115</td>\n",
       "    </tr>\n",
       "    <tr>\n",
       "      <th>6</th>\n",
       "      <td>56</td>\n",
       "      <td>CAFE X + O</td>\n",
       "      <td>1799 CHURCH ST</td>\n",
       "      <td>San Francisco</td>\n",
       "      <td>CA</td>\n",
       "      <td>94131</td>\n",
       "      <td>37.742325</td>\n",
       "      <td>-122.426476</td>\n",
       "      <td>+14158263535</td>\n",
       "      <td>94131</td>\n",
       "    </tr>\n",
       "    <tr>\n",
       "      <th>7</th>\n",
       "      <td>58</td>\n",
       "      <td>OASIS GRILL</td>\n",
       "      <td>91 DRUMM ST</td>\n",
       "      <td>San Francisco</td>\n",
       "      <td>CA</td>\n",
       "      <td>94111</td>\n",
       "      <td>37.794483</td>\n",
       "      <td>-122.396584</td>\n",
       "      <td>+14158341942</td>\n",
       "      <td>94111</td>\n",
       "    </tr>\n",
       "    <tr>\n",
       "      <th>8</th>\n",
       "      <td>61</td>\n",
       "      <td>CHOWDERS</td>\n",
       "      <td>PIER 39  SPACE A3</td>\n",
       "      <td>San Francisco</td>\n",
       "      <td>CA</td>\n",
       "      <td>94133</td>\n",
       "      <td>37.808240</td>\n",
       "      <td>-122.410189</td>\n",
       "      <td>+14153914737</td>\n",
       "      <td>94133</td>\n",
       "    </tr>\n",
       "    <tr>\n",
       "      <th>9</th>\n",
       "      <td>66</td>\n",
       "      <td>STARBUCKS COFFEE</td>\n",
       "      <td>1800 IRVING ST</td>\n",
       "      <td>San Francisco</td>\n",
       "      <td>CA</td>\n",
       "      <td>94122</td>\n",
       "      <td>37.763578</td>\n",
       "      <td>-122.477461</td>\n",
       "      <td>+14152427970</td>\n",
       "      <td>94122</td>\n",
       "    </tr>\n",
       "    <tr>\n",
       "      <th>10</th>\n",
       "      <td>67</td>\n",
       "      <td>REVOLUTION CAFE</td>\n",
       "      <td>3248 22ND ST</td>\n",
       "      <td>San Francisco</td>\n",
       "      <td>CA</td>\n",
       "      <td>94110</td>\n",
       "      <td>37.755419</td>\n",
       "      <td>-122.419542</td>\n",
       "      <td>+14156420474</td>\n",
       "      <td>94110</td>\n",
       "    </tr>\n",
       "    <tr>\n",
       "      <th>11</th>\n",
       "      <td>73</td>\n",
       "      <td>DINO'S UNCLE VITO</td>\n",
       "      <td>2101 FILLMORE ST</td>\n",
       "      <td>San Francisco</td>\n",
       "      <td>CA</td>\n",
       "      <td>94115</td>\n",
       "      <td>37.788932</td>\n",
       "      <td>-122.433895</td>\n",
       "      <td>+14159224700</td>\n",
       "      <td>94115</td>\n",
       "    </tr>\n",
       "    <tr>\n",
       "      <th>12</th>\n",
       "      <td>76</td>\n",
       "      <td>OMNI S.F. HOTEL - 3RD FLOOR PANTRY</td>\n",
       "      <td>500 CALIFORNIA ST, 3RD FLOOR</td>\n",
       "      <td>San Francisco</td>\n",
       "      <td>CA</td>\n",
       "      <td>94104</td>\n",
       "      <td>37.792888</td>\n",
       "      <td>-122.403135</td>\n",
       "      <td>+14156779494</td>\n",
       "      <td>94104</td>\n",
       "    </tr>\n",
       "    <tr>\n",
       "      <th>13</th>\n",
       "      <td>77</td>\n",
       "      <td>OMNI S.F. HOTEL - EMPLOYEE CAFETERIA</td>\n",
       "      <td>500 CALIFORNIA ST, BASEMENT</td>\n",
       "      <td>San Francisco</td>\n",
       "      <td>CA</td>\n",
       "      <td>94104</td>\n",
       "      <td>37.792888</td>\n",
       "      <td>-122.403135</td>\n",
       "      <td>+14156779494</td>\n",
       "      <td>94104</td>\n",
       "    </tr>\n",
       "    <tr>\n",
       "      <th>14</th>\n",
       "      <td>80</td>\n",
       "      <td>LAW SCHOOL CAFE</td>\n",
       "      <td>2199 FULTON ST</td>\n",
       "      <td>San Francisco</td>\n",
       "      <td>CA</td>\n",
       "      <td>94117</td>\n",
       "      <td>37.774941</td>\n",
       "      <td>-122.452797</td>\n",
       "      <td>+14154222268</td>\n",
       "      <td>94117</td>\n",
       "    </tr>\n",
       "    <tr>\n",
       "      <th>15</th>\n",
       "      <td>81</td>\n",
       "      <td>CLUB ED/BON APPETIT</td>\n",
       "      <td>2350 TURK ST</td>\n",
       "      <td>San Francisco</td>\n",
       "      <td>CA</td>\n",
       "      <td>94117</td>\n",
       "      <td>37.778468</td>\n",
       "      <td>-122.448484</td>\n",
       "      <td>+14154225849</td>\n",
       "      <td>94117</td>\n",
       "    </tr>\n",
       "    <tr>\n",
       "      <th>16</th>\n",
       "      <td>88</td>\n",
       "      <td>J.B.'S PLACE</td>\n",
       "      <td>1435 17TH ST</td>\n",
       "      <td>San Francisco</td>\n",
       "      <td>CA</td>\n",
       "      <td>94107</td>\n",
       "      <td>37.765003</td>\n",
       "      <td>-122.398084</td>\n",
       "      <td>+14155848446</td>\n",
       "      <td>94107</td>\n",
       "    </tr>\n",
       "    <tr>\n",
       "      <th>17</th>\n",
       "      <td>95</td>\n",
       "      <td>VEGA</td>\n",
       "      <td>419 CORTLAND AVE</td>\n",
       "      <td>San Francisco</td>\n",
       "      <td>CA</td>\n",
       "      <td>94110</td>\n",
       "      <td>37.739207</td>\n",
       "      <td>-122.417447</td>\n",
       "      <td>+14152856000</td>\n",
       "      <td>94110</td>\n",
       "    </tr>\n",
       "    <tr>\n",
       "      <th>18</th>\n",
       "      <td>98</td>\n",
       "      <td>XOX TRUFFLES</td>\n",
       "      <td>754 COLUMBUS AVE</td>\n",
       "      <td>San Francisco</td>\n",
       "      <td>CA</td>\n",
       "      <td>94133</td>\n",
       "      <td>37.801665</td>\n",
       "      <td>-122.412104</td>\n",
       "      <td>+14154214814</td>\n",
       "      <td>94133</td>\n",
       "    </tr>\n",
       "    <tr>\n",
       "      <th>19</th>\n",
       "      <td>99</td>\n",
       "      <td>J &amp; M A-1 CAFE RESTAURANT LLC</td>\n",
       "      <td>779 CLAY ST</td>\n",
       "      <td>San Francisco</td>\n",
       "      <td>CA</td>\n",
       "      <td>94108</td>\n",
       "      <td>37.794293</td>\n",
       "      <td>-122.405967</td>\n",
       "      <td>+14156057219</td>\n",
       "      <td>94108</td>\n",
       "    </tr>\n",
       "    <tr>\n",
       "      <th>20</th>\n",
       "      <td>101</td>\n",
       "      <td>CABLE CAR CORNER</td>\n",
       "      <td>1099 POWELL ST</td>\n",
       "      <td>San Francisco</td>\n",
       "      <td>CA</td>\n",
       "      <td>94108</td>\n",
       "      <td>37.794615</td>\n",
       "      <td>-122.409705</td>\n",
       "      <td>+14153625925</td>\n",
       "      <td>94108</td>\n",
       "    </tr>\n",
       "    <tr>\n",
       "      <th>21</th>\n",
       "      <td>102</td>\n",
       "      <td>AKIKO'S SUSHI BAR</td>\n",
       "      <td>542A MASON ST</td>\n",
       "      <td>San Francisco</td>\n",
       "      <td>CA</td>\n",
       "      <td>94102</td>\n",
       "      <td>37.788484</td>\n",
       "      <td>-122.410045</td>\n",
       "      <td>+14159898218</td>\n",
       "      <td>94102</td>\n",
       "    </tr>\n",
       "    <tr>\n",
       "      <th>22</th>\n",
       "      <td>108</td>\n",
       "      <td>RUE LEPIC</td>\n",
       "      <td>900 PINE ST</td>\n",
       "      <td>San Francisco</td>\n",
       "      <td>CA</td>\n",
       "      <td>94108</td>\n",
       "      <td>37.790868</td>\n",
       "      <td>-122.410854</td>\n",
       "      <td>+14154746070</td>\n",
       "      <td>94108</td>\n",
       "    </tr>\n",
       "    <tr>\n",
       "      <th>23</th>\n",
       "      <td>116</td>\n",
       "      <td>THE WATERFRONT RESTAURANT</td>\n",
       "      <td>PIER 7 EMBARCADERO</td>\n",
       "      <td>San Francisco</td>\n",
       "      <td>CA</td>\n",
       "      <td>94111</td>\n",
       "      <td>37.793874</td>\n",
       "      <td>-122.396464</td>\n",
       "      <td>+14153912696</td>\n",
       "      <td>94111</td>\n",
       "    </tr>\n",
       "    <tr>\n",
       "      <th>24</th>\n",
       "      <td>121</td>\n",
       "      <td>AKIKOS SUSHI</td>\n",
       "      <td>431 BUSH ST</td>\n",
       "      <td>San Francisco</td>\n",
       "      <td>CA</td>\n",
       "      <td>94108</td>\n",
       "      <td>37.790643</td>\n",
       "      <td>-122.404676</td>\n",
       "      <td>+14153973218</td>\n",
       "      <td>94108</td>\n",
       "    </tr>\n",
       "    <tr>\n",
       "      <th>25</th>\n",
       "      <td>125</td>\n",
       "      <td>CENTERFOLDS</td>\n",
       "      <td>391 BROADWAY ST</td>\n",
       "      <td>San Francisco</td>\n",
       "      <td>CA</td>\n",
       "      <td>94133</td>\n",
       "      <td>37.798233</td>\n",
       "      <td>-122.403637</td>\n",
       "      <td>+14158340662</td>\n",
       "      <td>94133</td>\n",
       "    </tr>\n",
       "    <tr>\n",
       "      <th>26</th>\n",
       "      <td>134</td>\n",
       "      <td>MINT</td>\n",
       "      <td>400 MCALLISTER ST</td>\n",
       "      <td>San Francisco</td>\n",
       "      <td>CA</td>\n",
       "      <td>94102</td>\n",
       "      <td>37.780247</td>\n",
       "      <td>-122.418974</td>\n",
       "      <td>+14155515942</td>\n",
       "      <td>94102</td>\n",
       "    </tr>\n",
       "    <tr>\n",
       "      <th>27</th>\n",
       "      <td>140</td>\n",
       "      <td>CAFE MADELEINE</td>\n",
       "      <td>300 CALIFORNIA ST</td>\n",
       "      <td>San Francisco</td>\n",
       "      <td>CA</td>\n",
       "      <td>94104</td>\n",
       "      <td>37.793268</td>\n",
       "      <td>-122.400323</td>\n",
       "      <td>+14153623332</td>\n",
       "      <td>94104</td>\n",
       "    </tr>\n",
       "    <tr>\n",
       "      <th>28</th>\n",
       "      <td>141</td>\n",
       "      <td>AFC SUSHI @ MOLLIE STONE'S 2</td>\n",
       "      <td>2435 CALIFORNIA ST</td>\n",
       "      <td>San Francisco</td>\n",
       "      <td>CA</td>\n",
       "      <td>94115</td>\n",
       "      <td>37.788773</td>\n",
       "      <td>-122.434697</td>\n",
       "      <td>+14155674902</td>\n",
       "      <td>94115</td>\n",
       "    </tr>\n",
       "    <tr>\n",
       "      <th>29</th>\n",
       "      <td>146</td>\n",
       "      <td>DEJA VU PIZZA &amp; PASTA</td>\n",
       "      <td>3227 16TH ST</td>\n",
       "      <td>San Francisco</td>\n",
       "      <td>CA</td>\n",
       "      <td>94103</td>\n",
       "      <td>37.764713</td>\n",
       "      <td>-122.424709</td>\n",
       "      <td>+14152551600</td>\n",
       "      <td>94103</td>\n",
       "    </tr>\n",
       "    <tr>\n",
       "      <th>...</th>\n",
       "      <td>...</td>\n",
       "      <td>...</td>\n",
       "      <td>...</td>\n",
       "      <td>...</td>\n",
       "      <td>...</td>\n",
       "      <td>...</td>\n",
       "      <td>...</td>\n",
       "      <td>...</td>\n",
       "      <td>...</td>\n",
       "      <td>...</td>\n",
       "    </tr>\n",
       "    <tr>\n",
       "      <th>6376</th>\n",
       "      <td>94305</td>\n",
       "      <td>ROSAMUNDE SAUSAGE GRILL</td>\n",
       "      <td>545 HAIGHT ST</td>\n",
       "      <td>San Francisco</td>\n",
       "      <td>CA</td>\n",
       "      <td>94117</td>\n",
       "      <td>NaN</td>\n",
       "      <td>NaN</td>\n",
       "      <td>+14154376851</td>\n",
       "      <td>94117</td>\n",
       "    </tr>\n",
       "    <tr>\n",
       "      <th>6377</th>\n",
       "      <td>94310</td>\n",
       "      <td>YOKAI EXPRESS</td>\n",
       "      <td>135 4TH ST</td>\n",
       "      <td>San Francisco</td>\n",
       "      <td>CA</td>\n",
       "      <td>94103</td>\n",
       "      <td>NaN</td>\n",
       "      <td>NaN</td>\n",
       "      <td>+14158234502</td>\n",
       "      <td>94103</td>\n",
       "    </tr>\n",
       "    <tr>\n",
       "      <th>6378</th>\n",
       "      <td>94318</td>\n",
       "      <td>YUANBAO JIAOZI</td>\n",
       "      <td>2110 IRVING ST</td>\n",
       "      <td>San Francisco</td>\n",
       "      <td>CA</td>\n",
       "      <td>94122</td>\n",
       "      <td>NaN</td>\n",
       "      <td>NaN</td>\n",
       "      <td>+14156013979</td>\n",
       "      <td>94122</td>\n",
       "    </tr>\n",
       "    <tr>\n",
       "      <th>6379</th>\n",
       "      <td>94331</td>\n",
       "      <td>MATCHA CAFE MAIKO</td>\n",
       "      <td>1581 WEBSTER ST 175</td>\n",
       "      <td>San Francisco</td>\n",
       "      <td>CA</td>\n",
       "      <td>94115</td>\n",
       "      <td>NaN</td>\n",
       "      <td>NaN</td>\n",
       "      <td>+14150009434</td>\n",
       "      <td>94115</td>\n",
       "    </tr>\n",
       "    <tr>\n",
       "      <th>6380</th>\n",
       "      <td>94334</td>\n",
       "      <td>SUBWAY SANDWICHES #53761</td>\n",
       "      <td>160 BROADWAY ST</td>\n",
       "      <td>San Francisco</td>\n",
       "      <td>CA</td>\n",
       "      <td>94111</td>\n",
       "      <td>NaN</td>\n",
       "      <td>NaN</td>\n",
       "      <td>+14158861913</td>\n",
       "      <td>94111</td>\n",
       "    </tr>\n",
       "    <tr>\n",
       "      <th>6381</th>\n",
       "      <td>94337</td>\n",
       "      <td>SUBWAY SANDWICHES #61240</td>\n",
       "      <td>425 D BATTERY ST</td>\n",
       "      <td>San Francisco</td>\n",
       "      <td>CA</td>\n",
       "      <td>94111</td>\n",
       "      <td>NaN</td>\n",
       "      <td>NaN</td>\n",
       "      <td>+14153991549</td>\n",
       "      <td>94111</td>\n",
       "    </tr>\n",
       "    <tr>\n",
       "      <th>6382</th>\n",
       "      <td>94354</td>\n",
       "      <td>RAINBOW MARKET AND DELI</td>\n",
       "      <td>684 LARKIN ST</td>\n",
       "      <td>San Francisco</td>\n",
       "      <td>CA</td>\n",
       "      <td>94109</td>\n",
       "      <td>NaN</td>\n",
       "      <td>NaN</td>\n",
       "      <td>+14157664681</td>\n",
       "      <td>94109</td>\n",
       "    </tr>\n",
       "    <tr>\n",
       "      <th>6383</th>\n",
       "      <td>94387</td>\n",
       "      <td>FOUNDATION CAFE</td>\n",
       "      <td>645 5TH ST</td>\n",
       "      <td>San Francisco</td>\n",
       "      <td>CA</td>\n",
       "      <td>94107</td>\n",
       "      <td>NaN</td>\n",
       "      <td>NaN</td>\n",
       "      <td>+14153503301</td>\n",
       "      <td>94107</td>\n",
       "    </tr>\n",
       "    <tr>\n",
       "      <th>6384</th>\n",
       "      <td>94388</td>\n",
       "      <td>FOUNDATION CAFE</td>\n",
       "      <td>335 KEARNY ST</td>\n",
       "      <td>San Francisco</td>\n",
       "      <td>CA</td>\n",
       "      <td>94108</td>\n",
       "      <td>NaN</td>\n",
       "      <td>NaN</td>\n",
       "      <td>NaN</td>\n",
       "      <td>94108</td>\n",
       "    </tr>\n",
       "    <tr>\n",
       "      <th>6385</th>\n",
       "      <td>94394</td>\n",
       "      <td>KOKIO REPUBLIC</td>\n",
       "      <td>428 11TH ST</td>\n",
       "      <td>San Francisco</td>\n",
       "      <td>CA</td>\n",
       "      <td>94109</td>\n",
       "      <td>NaN</td>\n",
       "      <td>NaN</td>\n",
       "      <td>+14157996404</td>\n",
       "      <td>94109</td>\n",
       "    </tr>\n",
       "    <tr>\n",
       "      <th>6386</th>\n",
       "      <td>94408</td>\n",
       "      <td>SIZZLING POT KING</td>\n",
       "      <td>139 8TH ST</td>\n",
       "      <td>San Francisco</td>\n",
       "      <td>CA</td>\n",
       "      <td>94103</td>\n",
       "      <td>NaN</td>\n",
       "      <td>NaN</td>\n",
       "      <td>+14158028899</td>\n",
       "      <td>94103</td>\n",
       "    </tr>\n",
       "    <tr>\n",
       "      <th>6387</th>\n",
       "      <td>94409</td>\n",
       "      <td>AUGUST HALL</td>\n",
       "      <td>420 MASON ST</td>\n",
       "      <td>San Francisco</td>\n",
       "      <td>CA</td>\n",
       "      <td>NaN</td>\n",
       "      <td>NaN</td>\n",
       "      <td>NaN</td>\n",
       "      <td>NaN</td>\n",
       "      <td>NaN</td>\n",
       "    </tr>\n",
       "    <tr>\n",
       "      <th>6388</th>\n",
       "      <td>94412</td>\n",
       "      <td>NATIVE BAKING COMPANY</td>\n",
       "      <td>1324 FITZGERALD AVE</td>\n",
       "      <td>San Francisco</td>\n",
       "      <td>CA</td>\n",
       "      <td>94124</td>\n",
       "      <td>NaN</td>\n",
       "      <td>NaN</td>\n",
       "      <td>NaN</td>\n",
       "      <td>94124</td>\n",
       "    </tr>\n",
       "    <tr>\n",
       "      <th>6389</th>\n",
       "      <td>94433</td>\n",
       "      <td>GREEK TOWN LLC</td>\n",
       "      <td>88 02ND ST</td>\n",
       "      <td>San Francisco</td>\n",
       "      <td>CA</td>\n",
       "      <td>94105</td>\n",
       "      <td>NaN</td>\n",
       "      <td>NaN</td>\n",
       "      <td>+14152408032</td>\n",
       "      <td>94105</td>\n",
       "    </tr>\n",
       "    <tr>\n",
       "      <th>6390</th>\n",
       "      <td>94442</td>\n",
       "      <td>SIMPLY CAFE</td>\n",
       "      <td>340 GROVE ST</td>\n",
       "      <td>San Francisco</td>\n",
       "      <td>CA</td>\n",
       "      <td>94102</td>\n",
       "      <td>NaN</td>\n",
       "      <td>NaN</td>\n",
       "      <td>+14156587659</td>\n",
       "      <td>94102</td>\n",
       "    </tr>\n",
       "    <tr>\n",
       "      <th>6391</th>\n",
       "      <td>94456</td>\n",
       "      <td>UBER-ATG (BON APPETIT)</td>\n",
       "      <td>581 20TH ST 2ND FL</td>\n",
       "      <td>San Francisco</td>\n",
       "      <td>CA</td>\n",
       "      <td>94107</td>\n",
       "      <td>NaN</td>\n",
       "      <td>NaN</td>\n",
       "      <td>+14158184997</td>\n",
       "      <td>94107</td>\n",
       "    </tr>\n",
       "    <tr>\n",
       "      <th>6392</th>\n",
       "      <td>94460</td>\n",
       "      <td>DOBBS FERRY</td>\n",
       "      <td>409 GOUGH ST</td>\n",
       "      <td>San Francisco</td>\n",
       "      <td>CA</td>\n",
       "      <td>94102</td>\n",
       "      <td>NaN</td>\n",
       "      <td>NaN</td>\n",
       "      <td>+14155517709</td>\n",
       "      <td>94102</td>\n",
       "    </tr>\n",
       "    <tr>\n",
       "      <th>6393</th>\n",
       "      <td>94465</td>\n",
       "      <td>BEAUTIFULL LLC</td>\n",
       "      <td>3401 CALIFORNIA ST</td>\n",
       "      <td>San Francisco</td>\n",
       "      <td>CA</td>\n",
       "      <td>94118</td>\n",
       "      <td>NaN</td>\n",
       "      <td>NaN</td>\n",
       "      <td>+14157289080</td>\n",
       "      <td>94118</td>\n",
       "    </tr>\n",
       "    <tr>\n",
       "      <th>6394</th>\n",
       "      <td>94468</td>\n",
       "      <td>BAR CRENN</td>\n",
       "      <td>3131 FILLMORE ST</td>\n",
       "      <td>San Francisco</td>\n",
       "      <td>CA</td>\n",
       "      <td>94123</td>\n",
       "      <td>NaN</td>\n",
       "      <td>NaN</td>\n",
       "      <td>NaN</td>\n",
       "      <td>94123</td>\n",
       "    </tr>\n",
       "    <tr>\n",
       "      <th>6395</th>\n",
       "      <td>94502</td>\n",
       "      <td>NEW FORTUNE DIM SUM</td>\n",
       "      <td>811 STOCKTON ST</td>\n",
       "      <td>San Francisco</td>\n",
       "      <td>CA</td>\n",
       "      <td>94108</td>\n",
       "      <td>NaN</td>\n",
       "      <td>NaN</td>\n",
       "      <td>+14153991511</td>\n",
       "      <td>94108</td>\n",
       "    </tr>\n",
       "    <tr>\n",
       "      <th>6396</th>\n",
       "      <td>94521</td>\n",
       "      <td>JOE &amp; THE JUICE HOWARD</td>\n",
       "      <td>301 HOWARD ST</td>\n",
       "      <td>San Francisco</td>\n",
       "      <td>CA</td>\n",
       "      <td>94105</td>\n",
       "      <td>NaN</td>\n",
       "      <td>NaN</td>\n",
       "      <td>NaN</td>\n",
       "      <td>94105</td>\n",
       "    </tr>\n",
       "    <tr>\n",
       "      <th>6397</th>\n",
       "      <td>94522</td>\n",
       "      <td>CAFE JOSEPHINE</td>\n",
       "      <td>199 MUSEUM WAY</td>\n",
       "      <td>San Francisco</td>\n",
       "      <td>CA</td>\n",
       "      <td>94114</td>\n",
       "      <td>NaN</td>\n",
       "      <td>NaN</td>\n",
       "      <td>+14153508976</td>\n",
       "      <td>94114</td>\n",
       "    </tr>\n",
       "    <tr>\n",
       "      <th>6398</th>\n",
       "      <td>94537</td>\n",
       "      <td>BON APPETIT @ USF- OUTTA HERE</td>\n",
       "      <td>2130 FULTON ST</td>\n",
       "      <td>San Francisco</td>\n",
       "      <td>CA</td>\n",
       "      <td>94117</td>\n",
       "      <td>NaN</td>\n",
       "      <td>NaN</td>\n",
       "      <td>+14153604802</td>\n",
       "      <td>94117</td>\n",
       "    </tr>\n",
       "    <tr>\n",
       "      <th>6399</th>\n",
       "      <td>94540</td>\n",
       "      <td>FOAM USA LLC</td>\n",
       "      <td>1745 TARAVAL ST</td>\n",
       "      <td>San Francisco</td>\n",
       "      <td>CA</td>\n",
       "      <td>94116</td>\n",
       "      <td>NaN</td>\n",
       "      <td>NaN</td>\n",
       "      <td>+14156060018</td>\n",
       "      <td>94116</td>\n",
       "    </tr>\n",
       "    <tr>\n",
       "      <th>6400</th>\n",
       "      <td>94542</td>\n",
       "      <td>OCEAN THAI</td>\n",
       "      <td>2545 OCEAN AVE</td>\n",
       "      <td>San Francisco</td>\n",
       "      <td>CA</td>\n",
       "      <td>94132</td>\n",
       "      <td>NaN</td>\n",
       "      <td>NaN</td>\n",
       "      <td>+14155857251</td>\n",
       "      <td>94132</td>\n",
       "    </tr>\n",
       "    <tr>\n",
       "      <th>6401</th>\n",
       "      <td>94544</td>\n",
       "      <td>D'MAIZE CAFE</td>\n",
       "      <td>50 PHELAN AVE</td>\n",
       "      <td>San Francisco</td>\n",
       "      <td>CA</td>\n",
       "      <td>94112</td>\n",
       "      <td>NaN</td>\n",
       "      <td>NaN</td>\n",
       "      <td>+14154240604</td>\n",
       "      <td>94112</td>\n",
       "    </tr>\n",
       "    <tr>\n",
       "      <th>6402</th>\n",
       "      <td>94555</td>\n",
       "      <td>EASY BREEZY FROZEN YOGURT</td>\n",
       "      <td>44 WEST PORTAL AVE</td>\n",
       "      <td>San Francisco</td>\n",
       "      <td>CA</td>\n",
       "      <td>94127</td>\n",
       "      <td>NaN</td>\n",
       "      <td>NaN</td>\n",
       "      <td>+14155053351</td>\n",
       "      <td>94127</td>\n",
       "    </tr>\n",
       "    <tr>\n",
       "      <th>6403</th>\n",
       "      <td>94571</td>\n",
       "      <td>THE PHOENIX PASTIFICIO</td>\n",
       "      <td>200 CLEMENT ST</td>\n",
       "      <td>San Francisco</td>\n",
       "      <td>CA</td>\n",
       "      <td>94118</td>\n",
       "      <td>NaN</td>\n",
       "      <td>NaN</td>\n",
       "      <td>+14154726100</td>\n",
       "      <td>94118</td>\n",
       "    </tr>\n",
       "    <tr>\n",
       "      <th>6404</th>\n",
       "      <td>94572</td>\n",
       "      <td>BROADWAY DIM SUM CAFE</td>\n",
       "      <td>684 BROADWAY ST</td>\n",
       "      <td>San Francisco</td>\n",
       "      <td>CA</td>\n",
       "      <td>94133</td>\n",
       "      <td>NaN</td>\n",
       "      <td>NaN</td>\n",
       "      <td>NaN</td>\n",
       "      <td>94133</td>\n",
       "    </tr>\n",
       "    <tr>\n",
       "      <th>6405</th>\n",
       "      <td>94574</td>\n",
       "      <td>BINKA BITES</td>\n",
       "      <td>2241 GEARY BLVD</td>\n",
       "      <td>San Francisco</td>\n",
       "      <td>CA</td>\n",
       "      <td>94115</td>\n",
       "      <td>NaN</td>\n",
       "      <td>NaN</td>\n",
       "      <td>+14157712907</td>\n",
       "      <td>94115</td>\n",
       "    </tr>\n",
       "  </tbody>\n",
       "</table>\n",
       "<p>6406 rows × 10 columns</p>\n",
       "</div>"
      ],
      "text/plain": [
       "      business_id                                  name  \\\n",
       "0              19                 NRGIZE LIFESTYLE CAFE   \n",
       "1              24    OMNI S.F. HOTEL - 2ND FLOOR PANTRY   \n",
       "2              31        NORMAN'S ICE CREAM AND FREEZES   \n",
       "3              45                   CHARLIE'S DELI CAFE   \n",
       "4              48                            ART'S CAFE   \n",
       "5              54                   RHODA GOLDMAN PLAZA   \n",
       "6              56                            CAFE X + O   \n",
       "7              58                           OASIS GRILL   \n",
       "8              61                              CHOWDERS   \n",
       "9              66                      STARBUCKS COFFEE   \n",
       "10             67                       REVOLUTION CAFE   \n",
       "11             73                     DINO'S UNCLE VITO   \n",
       "12             76    OMNI S.F. HOTEL - 3RD FLOOR PANTRY   \n",
       "13             77  OMNI S.F. HOTEL - EMPLOYEE CAFETERIA   \n",
       "14             80                       LAW SCHOOL CAFE   \n",
       "15             81                   CLUB ED/BON APPETIT   \n",
       "16             88                          J.B.'S PLACE   \n",
       "17             95                                  VEGA   \n",
       "18             98                          XOX TRUFFLES   \n",
       "19             99         J & M A-1 CAFE RESTAURANT LLC   \n",
       "20            101                      CABLE CAR CORNER   \n",
       "21            102                     AKIKO'S SUSHI BAR   \n",
       "22            108                             RUE LEPIC   \n",
       "23            116             THE WATERFRONT RESTAURANT   \n",
       "24            121                          AKIKOS SUSHI   \n",
       "25            125                           CENTERFOLDS   \n",
       "26            134                                  MINT   \n",
       "27            140                        CAFE MADELEINE   \n",
       "28            141          AFC SUSHI @ MOLLIE STONE'S 2   \n",
       "29            146                 DEJA VU PIZZA & PASTA   \n",
       "...           ...                                   ...   \n",
       "6376        94305               ROSAMUNDE SAUSAGE GRILL   \n",
       "6377        94310                         YOKAI EXPRESS   \n",
       "6378        94318                        YUANBAO JIAOZI   \n",
       "6379        94331                     MATCHA CAFE MAIKO   \n",
       "6380        94334              SUBWAY SANDWICHES #53761   \n",
       "6381        94337              SUBWAY SANDWICHES #61240   \n",
       "6382        94354               RAINBOW MARKET AND DELI   \n",
       "6383        94387                       FOUNDATION CAFE   \n",
       "6384        94388                       FOUNDATION CAFE   \n",
       "6385        94394                        KOKIO REPUBLIC   \n",
       "6386        94408                     SIZZLING POT KING   \n",
       "6387        94409                           AUGUST HALL   \n",
       "6388        94412                 NATIVE BAKING COMPANY   \n",
       "6389        94433                        GREEK TOWN LLC   \n",
       "6390        94442                           SIMPLY CAFE   \n",
       "6391        94456                UBER-ATG (BON APPETIT)   \n",
       "6392        94460                           DOBBS FERRY   \n",
       "6393        94465                        BEAUTIFULL LLC   \n",
       "6394        94468                             BAR CRENN   \n",
       "6395        94502                   NEW FORTUNE DIM SUM   \n",
       "6396        94521                JOE & THE JUICE HOWARD   \n",
       "6397        94522                        CAFE JOSEPHINE   \n",
       "6398        94537         BON APPETIT @ USF- OUTTA HERE   \n",
       "6399        94540                          FOAM USA LLC   \n",
       "6400        94542                            OCEAN THAI   \n",
       "6401        94544                          D'MAIZE CAFE   \n",
       "6402        94555             EASY BREEZY FROZEN YOGURT   \n",
       "6403        94571                THE PHOENIX PASTIFICIO   \n",
       "6404        94572                 BROADWAY DIM SUM CAFE   \n",
       "6405        94574                           BINKA BITES   \n",
       "\n",
       "                            address           city state postal_code  \\\n",
       "0      1200 VAN NESS AVE, 3RD FLOOR  San Francisco    CA       94109   \n",
       "1     500 CALIFORNIA ST, 2ND  FLOOR  San Francisco    CA       94104   \n",
       "2              2801 LEAVENWORTH ST   San Francisco    CA       94133   \n",
       "3                   3202 FOLSOM ST   San Francisco    CA       94110   \n",
       "4                    747 IRVING ST   San Francisco    CA       94122   \n",
       "5                     2180 POST ST   San Francisco    CA       94115   \n",
       "6                   1799 CHURCH ST   San Francisco    CA       94131   \n",
       "7                      91 DRUMM ST   San Francisco    CA       94111   \n",
       "8                 PIER 39  SPACE A3  San Francisco    CA       94133   \n",
       "9                   1800 IRVING ST   San Francisco    CA       94122   \n",
       "10                    3248 22ND ST   San Francisco    CA       94110   \n",
       "11                2101 FILLMORE ST   San Francisco    CA       94115   \n",
       "12     500 CALIFORNIA ST, 3RD FLOOR  San Francisco    CA       94104   \n",
       "13      500 CALIFORNIA ST, BASEMENT  San Francisco    CA       94104   \n",
       "14                  2199 FULTON ST   San Francisco    CA       94117   \n",
       "15                    2350 TURK ST   San Francisco    CA       94117   \n",
       "16                    1435 17TH ST   San Francisco    CA       94107   \n",
       "17                419 CORTLAND AVE   San Francisco    CA       94110   \n",
       "18                754 COLUMBUS AVE   San Francisco    CA       94133   \n",
       "19                     779 CLAY ST   San Francisco    CA       94108   \n",
       "20                  1099 POWELL ST   San Francisco    CA       94108   \n",
       "21                   542A MASON ST   San Francisco    CA       94102   \n",
       "22                      900 PINE ST  San Francisco    CA       94108   \n",
       "23               PIER 7 EMBARCADERO  San Francisco    CA       94111   \n",
       "24                     431 BUSH ST   San Francisco    CA       94108   \n",
       "25                 391 BROADWAY ST   San Francisco    CA       94133   \n",
       "26                400 MCALLISTER ST  San Francisco    CA       94102   \n",
       "27               300 CALIFORNIA ST   San Francisco    CA       94104   \n",
       "28              2435 CALIFORNIA ST   San Francisco    CA       94115   \n",
       "29                    3227 16TH ST   San Francisco    CA       94103   \n",
       "...                             ...            ...   ...         ...   \n",
       "6376                 545 HAIGHT ST   San Francisco    CA       94117   \n",
       "6377                    135 4TH ST   San Francisco    CA       94103   \n",
       "6378                2110 IRVING ST   San Francisco    CA       94122   \n",
       "6379            1581 WEBSTER ST 175  San Francisco    CA       94115   \n",
       "6380               160 BROADWAY ST   San Francisco    CA       94111   \n",
       "6381              425 D BATTERY ST   San Francisco    CA       94111   \n",
       "6382                 684 LARKIN ST   San Francisco    CA       94109   \n",
       "6383                    645 5TH ST   San Francisco    CA       94107   \n",
       "6384                 335 KEARNY ST   San Francisco    CA       94108   \n",
       "6385                   428 11TH ST   San Francisco    CA       94109   \n",
       "6386                    139 8TH ST   San Francisco    CA       94103   \n",
       "6387                  420 MASON ST   San Francisco    CA         NaN   \n",
       "6388           1324 FITZGERALD AVE   San Francisco    CA       94124   \n",
       "6389                    88 02ND ST   San Francisco    CA       94105   \n",
       "6390                  340 GROVE ST   San Francisco    CA       94102   \n",
       "6391             581 20TH ST 2ND FL  San Francisco    CA       94107   \n",
       "6392                  409 GOUGH ST   San Francisco    CA       94102   \n",
       "6393            3401 CALIFORNIA ST   San Francisco    CA       94118   \n",
       "6394              3131 FILLMORE ST   San Francisco    CA       94123   \n",
       "6395               811 STOCKTON ST   San Francisco    CA       94108   \n",
       "6396                 301 HOWARD ST   San Francisco    CA       94105   \n",
       "6397                199 MUSEUM WAY   San Francisco    CA       94114   \n",
       "6398                2130 FULTON ST   San Francisco    CA       94117   \n",
       "6399               1745 TARAVAL ST   San Francisco    CA       94116   \n",
       "6400                2545 OCEAN AVE   San Francisco    CA       94132   \n",
       "6401                 50 PHELAN AVE   San Francisco    CA       94112   \n",
       "6402            44 WEST PORTAL AVE   San Francisco    CA       94127   \n",
       "6403                200 CLEMENT ST   San Francisco    CA       94118   \n",
       "6404               684 BROADWAY ST   San Francisco    CA       94133   \n",
       "6405               2241 GEARY BLVD   San Francisco    CA       94115   \n",
       "\n",
       "       latitude   longitude  phone_number postal_code_5  \n",
       "0     37.786848 -122.421547  +14157763262         94109  \n",
       "1     37.792888 -122.403135  +14156779494         94104  \n",
       "2     37.807155 -122.419004           NaN         94133  \n",
       "3     37.747114 -122.413641  +14156415051         94110  \n",
       "4     37.764013 -122.465749  +14156657440         94122  \n",
       "5     37.784626 -122.437734  +14153455060         94115  \n",
       "6     37.742325 -122.426476  +14158263535         94131  \n",
       "7     37.794483 -122.396584  +14158341942         94111  \n",
       "8     37.808240 -122.410189  +14153914737         94133  \n",
       "9     37.763578 -122.477461  +14152427970         94122  \n",
       "10    37.755419 -122.419542  +14156420474         94110  \n",
       "11    37.788932 -122.433895  +14159224700         94115  \n",
       "12    37.792888 -122.403135  +14156779494         94104  \n",
       "13    37.792888 -122.403135  +14156779494         94104  \n",
       "14    37.774941 -122.452797  +14154222268         94117  \n",
       "15    37.778468 -122.448484  +14154225849         94117  \n",
       "16    37.765003 -122.398084  +14155848446         94107  \n",
       "17    37.739207 -122.417447  +14152856000         94110  \n",
       "18    37.801665 -122.412104  +14154214814         94133  \n",
       "19    37.794293 -122.405967  +14156057219         94108  \n",
       "20    37.794615 -122.409705  +14153625925         94108  \n",
       "21    37.788484 -122.410045  +14159898218         94102  \n",
       "22    37.790868 -122.410854  +14154746070         94108  \n",
       "23    37.793874 -122.396464  +14153912696         94111  \n",
       "24    37.790643 -122.404676  +14153973218         94108  \n",
       "25    37.798233 -122.403637  +14158340662         94133  \n",
       "26    37.780247 -122.418974  +14155515942         94102  \n",
       "27    37.793268 -122.400323  +14153623332         94104  \n",
       "28    37.788773 -122.434697  +14155674902         94115  \n",
       "29    37.764713 -122.424709  +14152551600         94103  \n",
       "...         ...         ...           ...           ...  \n",
       "6376        NaN         NaN  +14154376851         94117  \n",
       "6377        NaN         NaN  +14158234502         94103  \n",
       "6378        NaN         NaN  +14156013979         94122  \n",
       "6379        NaN         NaN  +14150009434         94115  \n",
       "6380        NaN         NaN  +14158861913         94111  \n",
       "6381        NaN         NaN  +14153991549         94111  \n",
       "6382        NaN         NaN  +14157664681         94109  \n",
       "6383        NaN         NaN  +14153503301         94107  \n",
       "6384        NaN         NaN           NaN         94108  \n",
       "6385        NaN         NaN  +14157996404         94109  \n",
       "6386        NaN         NaN  +14158028899         94103  \n",
       "6387        NaN         NaN           NaN           NaN  \n",
       "6388        NaN         NaN           NaN         94124  \n",
       "6389        NaN         NaN  +14152408032         94105  \n",
       "6390        NaN         NaN  +14156587659         94102  \n",
       "6391        NaN         NaN  +14158184997         94107  \n",
       "6392        NaN         NaN  +14155517709         94102  \n",
       "6393        NaN         NaN  +14157289080         94118  \n",
       "6394        NaN         NaN           NaN         94123  \n",
       "6395        NaN         NaN  +14153991511         94108  \n",
       "6396        NaN         NaN           NaN         94105  \n",
       "6397        NaN         NaN  +14153508976         94114  \n",
       "6398        NaN         NaN  +14153604802         94117  \n",
       "6399        NaN         NaN  +14156060018         94116  \n",
       "6400        NaN         NaN  +14155857251         94132  \n",
       "6401        NaN         NaN  +14154240604         94112  \n",
       "6402        NaN         NaN  +14155053351         94127  \n",
       "6403        NaN         NaN  +14154726100         94118  \n",
       "6404        NaN         NaN           NaN         94133  \n",
       "6405        NaN         NaN  +14157712907         94115  \n",
       "\n",
       "[6406 rows x 10 columns]"
      ]
     },
     "execution_count": 191,
     "metadata": {},
     "output_type": "execute_result"
    }
   ],
   "source": [
    "# Run me\n",
    "bus['postal_code_5'] = bus['postal_code'].str[:5]\n",
    "bus"
   ]
  },
  {
   "cell_type": "markdown",
   "metadata": {
    "deletable": false,
    "editable": false,
    "nbgrader": {
     "cell_type": "markdown",
     "checksum": "331c85623dc8d8fa7125b80aec4cf5b2",
     "grade": false,
     "grade_id": "q3c",
     "locked": true,
     "schema_version": 2,
     "solution": false
    },
    "tags": [
     "written"
    ]
   },
   "source": [
    "### Question 3c : A Closer Look at Missing Zip Codes\n",
    "\n",
    "Let's look more closely at businesses with missing zip codes. We'll see that many zip codes are missing for a good reason. Examine the businesses with missing zipcode values.  Pay attention to their addresses.  Do you notice anything interesting? You might need to look at a bunch of entries, i.e. don't just look at the first five.\n",
    "\n",
    "*Hint: You can use the series `isnull` method to create a binary array, which can then be used to show only rows of the dataframe that contain null values.*"
   ]
  },
  {
   "cell_type": "code",
   "execution_count": 192,
   "metadata": {
    "ExecuteTime": {
     "end_time": "2018-08-18T01:21:54.079907Z",
     "start_time": "2018-08-18T01:21:54.072706Z"
    },
    "deletable": false,
    "nbgrader": {
     "cell_type": "code",
     "checksum": "646c868e8c27969c665aa9a30d608656",
     "grade": true,
     "grade_id": "q3c-answer",
     "locked": false,
     "points": 2,
     "schema_version": 2,
     "solution": true
    },
    "tags": [
     "student",
     "written"
    ]
   },
   "outputs": [
    {
     "name": "stdout",
     "output_type": "stream",
     "text": [
      "\n",
      "\n",
      "Though some of the business with missing zip codes have normal addresses, a great deal of those missing zip codes also have \"OFF THE GRID\" or \"OTG\" addresses.\n",
      "\n",
      "\n"
     ]
    }
   ],
   "source": [
    "# Use this cell for your explorations.\n",
    "q3c_answer = r\"\"\"\n",
    "\n",
    "Though some of the business with missing zip codes have normal addresses, a great deal of those missing zip codes also have \"OFF THE GRID\" or \"OTG\" addresses.\n",
    "\n",
    "\"\"\"\n",
    "\n",
    "# YOUR CODE HERE\n",
    "#raise NotImplementedError()\n",
    "\n",
    "print(q3c_answer)"
   ]
  },
  {
   "cell_type": "code",
   "execution_count": 193,
   "metadata": {},
   "outputs": [
    {
     "data": {
      "text/html": [
       "<div>\n",
       "<style scoped>\n",
       "    .dataframe tbody tr th:only-of-type {\n",
       "        vertical-align: middle;\n",
       "    }\n",
       "\n",
       "    .dataframe tbody tr th {\n",
       "        vertical-align: top;\n",
       "    }\n",
       "\n",
       "    .dataframe thead th {\n",
       "        text-align: right;\n",
       "    }\n",
       "</style>\n",
       "<table border=\"1\" class=\"dataframe\">\n",
       "  <thead>\n",
       "    <tr style=\"text-align: right;\">\n",
       "      <th></th>\n",
       "      <th>business_id</th>\n",
       "      <th>name</th>\n",
       "      <th>address</th>\n",
       "      <th>city</th>\n",
       "      <th>state</th>\n",
       "      <th>postal_code</th>\n",
       "      <th>latitude</th>\n",
       "      <th>longitude</th>\n",
       "      <th>phone_number</th>\n",
       "      <th>postal_code_5</th>\n",
       "    </tr>\n",
       "  </thead>\n",
       "  <tbody>\n",
       "    <tr>\n",
       "      <th>1702</th>\n",
       "      <td>8202</td>\n",
       "      <td>XIAO LOONG</td>\n",
       "      <td>250 WEST PORTAL AVENUE</td>\n",
       "      <td>San Francisco</td>\n",
       "      <td>CA</td>\n",
       "      <td>NaN</td>\n",
       "      <td>37.738616</td>\n",
       "      <td>-122.468775</td>\n",
       "      <td>+14152792647</td>\n",
       "      <td>NaN</td>\n",
       "    </tr>\n",
       "    <tr>\n",
       "      <th>1725</th>\n",
       "      <td>9358</td>\n",
       "      <td>EDGEWOOD CHILDREN'S CENTER</td>\n",
       "      <td>1801 VICENTE ST</td>\n",
       "      <td>San Francisco</td>\n",
       "      <td>CA</td>\n",
       "      <td>NaN</td>\n",
       "      <td>37.739083</td>\n",
       "      <td>-122.485437</td>\n",
       "      <td>NaN</td>\n",
       "      <td>NaN</td>\n",
       "    </tr>\n",
       "    <tr>\n",
       "      <th>1731</th>\n",
       "      <td>9582</td>\n",
       "      <td>DIMPLES</td>\n",
       "      <td>1700 POST ST.</td>\n",
       "      <td>San Francisco</td>\n",
       "      <td>CA</td>\n",
       "      <td>NaN</td>\n",
       "      <td>37.785632</td>\n",
       "      <td>-122.429794</td>\n",
       "      <td>+14155190341</td>\n",
       "      <td>NaN</td>\n",
       "    </tr>\n",
       "    <tr>\n",
       "      <th>1747</th>\n",
       "      <td>10011</td>\n",
       "      <td>OSHA THAI NOODLE</td>\n",
       "      <td>819 VALENCIA ST.</td>\n",
       "      <td>San Francisco</td>\n",
       "      <td>CA</td>\n",
       "      <td>NaN</td>\n",
       "      <td>37.759943</td>\n",
       "      <td>-122.421332</td>\n",
       "      <td>+14153109293</td>\n",
       "      <td>NaN</td>\n",
       "    </tr>\n",
       "    <tr>\n",
       "      <th>1754</th>\n",
       "      <td>10227</td>\n",
       "      <td>THE NAPPER TANDY</td>\n",
       "      <td>3200 24TH ST</td>\n",
       "      <td>San Francisco</td>\n",
       "      <td>CA</td>\n",
       "      <td>NaN</td>\n",
       "      <td>37.752581</td>\n",
       "      <td>-122.416482</td>\n",
       "      <td>+14155507510</td>\n",
       "      <td>NaN</td>\n",
       "    </tr>\n",
       "    <tr>\n",
       "      <th>1762</th>\n",
       "      <td>10372</td>\n",
       "      <td>BERNAL HEIGHTS NEIGBORHOOD CENTER</td>\n",
       "      <td>515 CORTLAND AVE</td>\n",
       "      <td>San Francisco</td>\n",
       "      <td>CA</td>\n",
       "      <td>NaN</td>\n",
       "      <td>37.739110</td>\n",
       "      <td>-122.416404</td>\n",
       "      <td>+14152062142</td>\n",
       "      <td>NaN</td>\n",
       "    </tr>\n",
       "    <tr>\n",
       "      <th>1763</th>\n",
       "      <td>10373</td>\n",
       "      <td>EL TONAYENSE #1</td>\n",
       "      <td>1717 HARRISON ST</td>\n",
       "      <td>San Francisco</td>\n",
       "      <td>CA</td>\n",
       "      <td>NaN</td>\n",
       "      <td>37.769426</td>\n",
       "      <td>-122.413446</td>\n",
       "      <td>+14155596127</td>\n",
       "      <td>NaN</td>\n",
       "    </tr>\n",
       "    <tr>\n",
       "      <th>1764</th>\n",
       "      <td>10376</td>\n",
       "      <td>GOOD FRIKIN CHICKEN</td>\n",
       "      <td>10 29TH ST</td>\n",
       "      <td>San Francisco</td>\n",
       "      <td>CA</td>\n",
       "      <td>NaN</td>\n",
       "      <td>37.744369</td>\n",
       "      <td>-122.420967</td>\n",
       "      <td>+14158601365</td>\n",
       "      <td>NaN</td>\n",
       "    </tr>\n",
       "    <tr>\n",
       "      <th>1766</th>\n",
       "      <td>10406</td>\n",
       "      <td>SUNSET YOUTH SERVICES</td>\n",
       "      <td>3918 JUDAH ST</td>\n",
       "      <td>San Francisco</td>\n",
       "      <td>CA</td>\n",
       "      <td>NaN</td>\n",
       "      <td>37.760560</td>\n",
       "      <td>-122.504027</td>\n",
       "      <td>NaN</td>\n",
       "      <td>NaN</td>\n",
       "    </tr>\n",
       "    <tr>\n",
       "      <th>1778</th>\n",
       "      <td>10964</td>\n",
       "      <td>ANGEL'S HOT DOGS</td>\n",
       "      <td>CORNER OF ALAMEDA AND HENRY ADAMS</td>\n",
       "      <td>San Francisco</td>\n",
       "      <td>CA</td>\n",
       "      <td>NaN</td>\n",
       "      <td>NaN</td>\n",
       "      <td>NaN</td>\n",
       "      <td>NaN</td>\n",
       "      <td>NaN</td>\n",
       "    </tr>\n",
       "    <tr>\n",
       "      <th>1788</th>\n",
       "      <td>11416</td>\n",
       "      <td>EL BEACH BURRITO</td>\n",
       "      <td>3914 JUDAH ST</td>\n",
       "      <td>San Francisco</td>\n",
       "      <td>CA</td>\n",
       "      <td>NaN</td>\n",
       "      <td>37.760851</td>\n",
       "      <td>-122.503998</td>\n",
       "      <td>NaN</td>\n",
       "      <td>NaN</td>\n",
       "    </tr>\n",
       "    <tr>\n",
       "      <th>1797</th>\n",
       "      <td>11967</td>\n",
       "      <td>CANTEEN VENDING COMPANY</td>\n",
       "      <td>VARIOUS LOCATIONS</td>\n",
       "      <td>San Francisco</td>\n",
       "      <td>CA</td>\n",
       "      <td>NaN</td>\n",
       "      <td>NaN</td>\n",
       "      <td>NaN</td>\n",
       "      <td>+14159798170</td>\n",
       "      <td>NaN</td>\n",
       "    </tr>\n",
       "    <tr>\n",
       "      <th>1798</th>\n",
       "      <td>11974</td>\n",
       "      <td>WEST COAST VENDING &amp; FOOD SERVICE</td>\n",
       "      <td>VARIOUS LOCATIONS</td>\n",
       "      <td>San Francisco</td>\n",
       "      <td>CA</td>\n",
       "      <td>NaN</td>\n",
       "      <td>NaN</td>\n",
       "      <td>NaN</td>\n",
       "      <td>+14152615954</td>\n",
       "      <td>NaN</td>\n",
       "    </tr>\n",
       "    <tr>\n",
       "      <th>1799</th>\n",
       "      <td>12001</td>\n",
       "      <td>CAHEE'S CATERING</td>\n",
       "      <td>4801 03RD ST</td>\n",
       "      <td>San Francisco</td>\n",
       "      <td>CA</td>\n",
       "      <td>NaN</td>\n",
       "      <td>37.734734</td>\n",
       "      <td>-122.390599</td>\n",
       "      <td>NaN</td>\n",
       "      <td>NaN</td>\n",
       "    </tr>\n",
       "    <tr>\n",
       "      <th>1802</th>\n",
       "      <td>12199</td>\n",
       "      <td>EL GALLO GIRO</td>\n",
       "      <td>3055 23RD ST</td>\n",
       "      <td>San Francisco</td>\n",
       "      <td>CA</td>\n",
       "      <td>NaN</td>\n",
       "      <td>37.754218</td>\n",
       "      <td>-122.413285</td>\n",
       "      <td>+14155772661</td>\n",
       "      <td>NaN</td>\n",
       "    </tr>\n",
       "    <tr>\n",
       "      <th>1805</th>\n",
       "      <td>12344</td>\n",
       "      <td>THE VILLAGE MARKET &amp; PIZZA</td>\n",
       "      <td>750 FONT BLVD</td>\n",
       "      <td>San Francisco</td>\n",
       "      <td>CA</td>\n",
       "      <td>NaN</td>\n",
       "      <td>37.723462</td>\n",
       "      <td>-122.483012</td>\n",
       "      <td>+14153774525</td>\n",
       "      <td>NaN</td>\n",
       "    </tr>\n",
       "    <tr>\n",
       "      <th>1811</th>\n",
       "      <td>13062</td>\n",
       "      <td>EVERETT MIDDLE SCHOOL</td>\n",
       "      <td>450 CHURCH ST</td>\n",
       "      <td>San Francisco</td>\n",
       "      <td>CA</td>\n",
       "      <td>NaN</td>\n",
       "      <td>37.763794</td>\n",
       "      <td>-122.428617</td>\n",
       "      <td>NaN</td>\n",
       "      <td>NaN</td>\n",
       "    </tr>\n",
       "    <tr>\n",
       "      <th>1821</th>\n",
       "      <td>13753</td>\n",
       "      <td>TABOUN</td>\n",
       "      <td>203 PARNASSUS AVE</td>\n",
       "      <td>San Francisco</td>\n",
       "      <td>CA</td>\n",
       "      <td>NaN</td>\n",
       "      <td>37.764574</td>\n",
       "      <td>-122.452950</td>\n",
       "      <td>+14156420168</td>\n",
       "      <td>NaN</td>\n",
       "    </tr>\n",
       "    <tr>\n",
       "      <th>1839</th>\n",
       "      <td>14883</td>\n",
       "      <td>FRIENDSHIP HOUSE HEALING</td>\n",
       "      <td>56 JULIAN</td>\n",
       "      <td>San Francisco</td>\n",
       "      <td>CA</td>\n",
       "      <td>NaN</td>\n",
       "      <td>37.767312</td>\n",
       "      <td>-122.421173</td>\n",
       "      <td>NaN</td>\n",
       "      <td>NaN</td>\n",
       "    </tr>\n",
       "    <tr>\n",
       "      <th>1865</th>\n",
       "      <td>17423</td>\n",
       "      <td>PROJECT OPEN HAND</td>\n",
       "      <td>100 DIAMOND ST</td>\n",
       "      <td>San Francisco</td>\n",
       "      <td>CA</td>\n",
       "      <td>NaN</td>\n",
       "      <td>37.760689</td>\n",
       "      <td>-122.437252</td>\n",
       "      <td>NaN</td>\n",
       "      <td>NaN</td>\n",
       "    </tr>\n",
       "    <tr>\n",
       "      <th>1878</th>\n",
       "      <td>17946</td>\n",
       "      <td>PIZZERIA DELFINA</td>\n",
       "      <td>3611 18TH ST</td>\n",
       "      <td>San Francisco</td>\n",
       "      <td>CA</td>\n",
       "      <td>NaN</td>\n",
       "      <td>37.761657</td>\n",
       "      <td>-122.424347</td>\n",
       "      <td>+14158196457</td>\n",
       "      <td>NaN</td>\n",
       "    </tr>\n",
       "    <tr>\n",
       "      <th>1881</th>\n",
       "      <td>18079</td>\n",
       "      <td>JOE'S COFFEE SHOP</td>\n",
       "      <td>6134 GEARY BLVD</td>\n",
       "      <td>San Francisco</td>\n",
       "      <td>CA</td>\n",
       "      <td>NaN</td>\n",
       "      <td>37.780408</td>\n",
       "      <td>-122.485383</td>\n",
       "      <td>+14156689382</td>\n",
       "      <td>NaN</td>\n",
       "    </tr>\n",
       "    <tr>\n",
       "      <th>1944</th>\n",
       "      <td>19357</td>\n",
       "      <td>ORIGINAL BUFFALO WINGS</td>\n",
       "      <td>2499 LOMBARD ST</td>\n",
       "      <td>San Francisco</td>\n",
       "      <td>CA</td>\n",
       "      <td>NaN</td>\n",
       "      <td>37.799095</td>\n",
       "      <td>-122.442457</td>\n",
       "      <td>+14159318181</td>\n",
       "      <td>NaN</td>\n",
       "    </tr>\n",
       "    <tr>\n",
       "      <th>2095</th>\n",
       "      <td>33114</td>\n",
       "      <td>SAUSALITO CAFE #2</td>\n",
       "      <td>50 BEALE ST 105</td>\n",
       "      <td>San Francisco</td>\n",
       "      <td>CA</td>\n",
       "      <td>NaN</td>\n",
       "      <td>37.792414</td>\n",
       "      <td>-122.397020</td>\n",
       "      <td>NaN</td>\n",
       "      <td>NaN</td>\n",
       "    </tr>\n",
       "    <tr>\n",
       "      <th>2155</th>\n",
       "      <td>34201</td>\n",
       "      <td>TROUBLE COFFEE COMPANY</td>\n",
       "      <td>4033 JUDAH ST</td>\n",
       "      <td>San Francisco</td>\n",
       "      <td>CA</td>\n",
       "      <td>NaN</td>\n",
       "      <td>37.760469</td>\n",
       "      <td>-122.505349</td>\n",
       "      <td>+14156909119</td>\n",
       "      <td>NaN</td>\n",
       "    </tr>\n",
       "    <tr>\n",
       "      <th>2160</th>\n",
       "      <td>34331</td>\n",
       "      <td>STANLEY'S STEAMERS</td>\n",
       "      <td>NW CORNER GRANT AT GEARY ST ON GRANT</td>\n",
       "      <td>San Francisco</td>\n",
       "      <td>CA</td>\n",
       "      <td>NaN</td>\n",
       "      <td>37.787954</td>\n",
       "      <td>-122.405035</td>\n",
       "      <td>NaN</td>\n",
       "      <td>NaN</td>\n",
       "    </tr>\n",
       "    <tr>\n",
       "      <th>2206</th>\n",
       "      <td>35469</td>\n",
       "      <td>SUBWAY #36339</td>\n",
       "      <td>1099 MISSION ST</td>\n",
       "      <td>San Francisco</td>\n",
       "      <td>CA</td>\n",
       "      <td>NaN</td>\n",
       "      <td>37.779466</td>\n",
       "      <td>-122.410903</td>\n",
       "      <td>+14152419033</td>\n",
       "      <td>NaN</td>\n",
       "    </tr>\n",
       "    <tr>\n",
       "      <th>2257</th>\n",
       "      <td>36546</td>\n",
       "      <td>EPIC ROASTHOUSE</td>\n",
       "      <td>PIER26 EMBARCADERO</td>\n",
       "      <td>San Francisco</td>\n",
       "      <td>CA</td>\n",
       "      <td>NaN</td>\n",
       "      <td>NaN</td>\n",
       "      <td>NaN</td>\n",
       "      <td>NaN</td>\n",
       "      <td>NaN</td>\n",
       "    </tr>\n",
       "    <tr>\n",
       "      <th>2263</th>\n",
       "      <td>36608</td>\n",
       "      <td>TAQUERIA ANGELICA'S</td>\n",
       "      <td>1301 CESAR CHAVEZ ST</td>\n",
       "      <td>San Francisco</td>\n",
       "      <td>CA</td>\n",
       "      <td>NaN</td>\n",
       "      <td>37.748543</td>\n",
       "      <td>-122.390883</td>\n",
       "      <td>+14158343695</td>\n",
       "      <td>NaN</td>\n",
       "    </tr>\n",
       "    <tr>\n",
       "      <th>2348</th>\n",
       "      <td>38146</td>\n",
       "      <td>SAN PANCHO'S TACOS</td>\n",
       "      <td>491 BAYSHORE ST</td>\n",
       "      <td>San Francisco</td>\n",
       "      <td>CA</td>\n",
       "      <td>NaN</td>\n",
       "      <td>NaN</td>\n",
       "      <td>NaN</td>\n",
       "      <td>+14153375152</td>\n",
       "      <td>NaN</td>\n",
       "    </tr>\n",
       "    <tr>\n",
       "      <th>...</th>\n",
       "      <td>...</td>\n",
       "      <td>...</td>\n",
       "      <td>...</td>\n",
       "      <td>...</td>\n",
       "      <td>...</td>\n",
       "      <td>...</td>\n",
       "      <td>...</td>\n",
       "      <td>...</td>\n",
       "      <td>...</td>\n",
       "      <td>...</td>\n",
       "    </tr>\n",
       "    <tr>\n",
       "      <th>5657</th>\n",
       "      <td>89436</td>\n",
       "      <td>ELIXIRIA</td>\n",
       "      <td>301 25TH AVE</td>\n",
       "      <td>San Francisco</td>\n",
       "      <td>CA</td>\n",
       "      <td>NaN</td>\n",
       "      <td>NaN</td>\n",
       "      <td>NaN</td>\n",
       "      <td>+14159486537</td>\n",
       "      <td>NaN</td>\n",
       "    </tr>\n",
       "    <tr>\n",
       "      <th>5697</th>\n",
       "      <td>89678</td>\n",
       "      <td>BONITO POKE</td>\n",
       "      <td>2277 SHAFTER AVE</td>\n",
       "      <td>San Francisco</td>\n",
       "      <td>CA</td>\n",
       "      <td>NaN</td>\n",
       "      <td>NaN</td>\n",
       "      <td>NaN</td>\n",
       "      <td>+14155335548</td>\n",
       "      <td>NaN</td>\n",
       "    </tr>\n",
       "    <tr>\n",
       "      <th>5706</th>\n",
       "      <td>89723</td>\n",
       "      <td>PASSIONE PIZZA</td>\n",
       "      <td>OFF THE GRID</td>\n",
       "      <td>San Francisco</td>\n",
       "      <td>CA</td>\n",
       "      <td>NaN</td>\n",
       "      <td>NaN</td>\n",
       "      <td>NaN</td>\n",
       "      <td>+14152068822</td>\n",
       "      <td>NaN</td>\n",
       "    </tr>\n",
       "    <tr>\n",
       "      <th>5714</th>\n",
       "      <td>89759</td>\n",
       "      <td>LAMAS PERUVIAN FOOD TRUCK</td>\n",
       "      <td>PRIVATE LOCATIONS</td>\n",
       "      <td>San Francisco</td>\n",
       "      <td>CA</td>\n",
       "      <td>NaN</td>\n",
       "      <td>NaN</td>\n",
       "      <td>NaN</td>\n",
       "      <td>+14157979866</td>\n",
       "      <td>NaN</td>\n",
       "    </tr>\n",
       "    <tr>\n",
       "      <th>5732</th>\n",
       "      <td>89839</td>\n",
       "      <td>COOKSOO TRUCK LLC</td>\n",
       "      <td>APPROVED PRIVATE LOCATIONS</td>\n",
       "      <td>San Francisco</td>\n",
       "      <td>CA</td>\n",
       "      <td>NaN</td>\n",
       "      <td>NaN</td>\n",
       "      <td>NaN</td>\n",
       "      <td>+14152765462</td>\n",
       "      <td>NaN</td>\n",
       "    </tr>\n",
       "    <tr>\n",
       "      <th>5736</th>\n",
       "      <td>89856</td>\n",
       "      <td>THE KOREAN KITCHEN</td>\n",
       "      <td>1220 09TH AVE</td>\n",
       "      <td>San Francisco</td>\n",
       "      <td>CA</td>\n",
       "      <td>NaN</td>\n",
       "      <td>NaN</td>\n",
       "      <td>NaN</td>\n",
       "      <td>+14157305897</td>\n",
       "      <td>NaN</td>\n",
       "    </tr>\n",
       "    <tr>\n",
       "      <th>5738</th>\n",
       "      <td>89900</td>\n",
       "      <td>TOUT SWEET PATISSERIE</td>\n",
       "      <td>170 O'FARRELL ST</td>\n",
       "      <td>San Francisco</td>\n",
       "      <td>CA</td>\n",
       "      <td>NaN</td>\n",
       "      <td>NaN</td>\n",
       "      <td>NaN</td>\n",
       "      <td>+14156529020</td>\n",
       "      <td>NaN</td>\n",
       "    </tr>\n",
       "    <tr>\n",
       "      <th>5786</th>\n",
       "      <td>90194</td>\n",
       "      <td>JACKRABBIT</td>\n",
       "      <td>OFF THE GRID</td>\n",
       "      <td>San Francisco</td>\n",
       "      <td>CA</td>\n",
       "      <td>NaN</td>\n",
       "      <td>NaN</td>\n",
       "      <td>NaN</td>\n",
       "      <td>+14153782051</td>\n",
       "      <td>NaN</td>\n",
       "    </tr>\n",
       "    <tr>\n",
       "      <th>5789</th>\n",
       "      <td>90213</td>\n",
       "      <td>SENOR SISIG (#6)</td>\n",
       "      <td>OFF THE GRID</td>\n",
       "      <td>San Francisco</td>\n",
       "      <td>CA</td>\n",
       "      <td>NaN</td>\n",
       "      <td>NaN</td>\n",
       "      <td>NaN</td>\n",
       "      <td>+14156085048</td>\n",
       "      <td>NaN</td>\n",
       "    </tr>\n",
       "    <tr>\n",
       "      <th>5827</th>\n",
       "      <td>90353</td>\n",
       "      <td>PARK GYROS</td>\n",
       "      <td>2831 CESAR CHAVEZ ST</td>\n",
       "      <td>San Francisco</td>\n",
       "      <td>CA</td>\n",
       "      <td>NaN</td>\n",
       "      <td>NaN</td>\n",
       "      <td>NaN</td>\n",
       "      <td>+14154303256</td>\n",
       "      <td>NaN</td>\n",
       "    </tr>\n",
       "    <tr>\n",
       "      <th>5835</th>\n",
       "      <td>90433</td>\n",
       "      <td>GAGA'S ROLLIN DINER</td>\n",
       "      <td>OFF THE GRID</td>\n",
       "      <td>San Francisco</td>\n",
       "      <td>CA</td>\n",
       "      <td>NaN</td>\n",
       "      <td>NaN</td>\n",
       "      <td>NaN</td>\n",
       "      <td>+14156553116</td>\n",
       "      <td>NaN</td>\n",
       "    </tr>\n",
       "    <tr>\n",
       "      <th>5836</th>\n",
       "      <td>90434</td>\n",
       "      <td>BAAGAN</td>\n",
       "      <td>OFF THE GRID</td>\n",
       "      <td>San Francisco</td>\n",
       "      <td>CA</td>\n",
       "      <td>NaN</td>\n",
       "      <td>NaN</td>\n",
       "      <td>NaN</td>\n",
       "      <td>+14157572038</td>\n",
       "      <td>NaN</td>\n",
       "    </tr>\n",
       "    <tr>\n",
       "      <th>5840</th>\n",
       "      <td>90441</td>\n",
       "      <td>SF HILTON BANQUET FACILITIES</td>\n",
       "      <td>333 O'FARRELL</td>\n",
       "      <td>San Francisco</td>\n",
       "      <td>CA</td>\n",
       "      <td>NaN</td>\n",
       "      <td>NaN</td>\n",
       "      <td>NaN</td>\n",
       "      <td>+14157711400</td>\n",
       "      <td>NaN</td>\n",
       "    </tr>\n",
       "    <tr>\n",
       "      <th>5848</th>\n",
       "      <td>90470</td>\n",
       "      <td>NORTH BORDER TACO</td>\n",
       "      <td>TREASURE ISLAND</td>\n",
       "      <td>San Francisco</td>\n",
       "      <td>CA</td>\n",
       "      <td>NaN</td>\n",
       "      <td>NaN</td>\n",
       "      <td>NaN</td>\n",
       "      <td>+14153706314</td>\n",
       "      <td>NaN</td>\n",
       "    </tr>\n",
       "    <tr>\n",
       "      <th>5862</th>\n",
       "      <td>90536</td>\n",
       "      <td>SERENDIPITY SF</td>\n",
       "      <td>APPROVED PRIVATE LOCATIONS</td>\n",
       "      <td>San Francisco</td>\n",
       "      <td>CA</td>\n",
       "      <td>NaN</td>\n",
       "      <td>NaN</td>\n",
       "      <td>NaN</td>\n",
       "      <td>+14154791437</td>\n",
       "      <td>NaN</td>\n",
       "    </tr>\n",
       "    <tr>\n",
       "      <th>5865</th>\n",
       "      <td>90560</td>\n",
       "      <td>COLETTA GELATO</td>\n",
       "      <td>OFF THE GRID</td>\n",
       "      <td>San Francisco</td>\n",
       "      <td>CA</td>\n",
       "      <td>NaN</td>\n",
       "      <td>NaN</td>\n",
       "      <td>NaN</td>\n",
       "      <td>+14152991032</td>\n",
       "      <td>NaN</td>\n",
       "    </tr>\n",
       "    <tr>\n",
       "      <th>5876</th>\n",
       "      <td>90597</td>\n",
       "      <td>MOONRAKER MOBILE (#2)</td>\n",
       "      <td>OFF THE GRID</td>\n",
       "      <td>San Francisco</td>\n",
       "      <td>CA</td>\n",
       "      <td>NaN</td>\n",
       "      <td>NaN</td>\n",
       "      <td>NaN</td>\n",
       "      <td>+14155571232</td>\n",
       "      <td>NaN</td>\n",
       "    </tr>\n",
       "    <tr>\n",
       "      <th>5890</th>\n",
       "      <td>90708</td>\n",
       "      <td>CREPERIE SAINT GERMAIN</td>\n",
       "      <td>201 2ND ST</td>\n",
       "      <td>San Francisco</td>\n",
       "      <td>CA</td>\n",
       "      <td>NaN</td>\n",
       "      <td>NaN</td>\n",
       "      <td>NaN</td>\n",
       "      <td>+14159487348</td>\n",
       "      <td>NaN</td>\n",
       "    </tr>\n",
       "    <tr>\n",
       "      <th>5898</th>\n",
       "      <td>90792</td>\n",
       "      <td>THE GAME DAY TRUCK</td>\n",
       "      <td>OFF THE GRID</td>\n",
       "      <td>San Francisco</td>\n",
       "      <td>CA</td>\n",
       "      <td>NaN</td>\n",
       "      <td>NaN</td>\n",
       "      <td>NaN</td>\n",
       "      <td>+14157626170</td>\n",
       "      <td>NaN</td>\n",
       "    </tr>\n",
       "    <tr>\n",
       "      <th>5985</th>\n",
       "      <td>91170</td>\n",
       "      <td>PASSION PERUANA, LLC</td>\n",
       "      <td>993 NORTH POINT ST</td>\n",
       "      <td>San Francisco</td>\n",
       "      <td>CA</td>\n",
       "      <td>NaN</td>\n",
       "      <td>NaN</td>\n",
       "      <td>NaN</td>\n",
       "      <td>NaN</td>\n",
       "      <td>NaN</td>\n",
       "    </tr>\n",
       "    <tr>\n",
       "      <th>6006</th>\n",
       "      <td>91273</td>\n",
       "      <td>DA POKE MAN</td>\n",
       "      <td>OFF THE GRID</td>\n",
       "      <td>San Francisco</td>\n",
       "      <td>CA</td>\n",
       "      <td>NaN</td>\n",
       "      <td>NaN</td>\n",
       "      <td>NaN</td>\n",
       "      <td>+14157899447</td>\n",
       "      <td>NaN</td>\n",
       "    </tr>\n",
       "    <tr>\n",
       "      <th>6015</th>\n",
       "      <td>91313</td>\n",
       "      <td>TACOS SANTO TORIBIO</td>\n",
       "      <td>928 TOLAND</td>\n",
       "      <td>San Francisco</td>\n",
       "      <td>CA</td>\n",
       "      <td>NaN</td>\n",
       "      <td>NaN</td>\n",
       "      <td>NaN</td>\n",
       "      <td>+14155059190</td>\n",
       "      <td>NaN</td>\n",
       "    </tr>\n",
       "    <tr>\n",
       "      <th>6078</th>\n",
       "      <td>91826</td>\n",
       "      <td>THE WAFFLE ROOST</td>\n",
       "      <td>OFF THE GRID</td>\n",
       "      <td>San Francisco</td>\n",
       "      <td>CA</td>\n",
       "      <td>NaN</td>\n",
       "      <td>NaN</td>\n",
       "      <td>NaN</td>\n",
       "      <td>+14153144823</td>\n",
       "      <td>NaN</td>\n",
       "    </tr>\n",
       "    <tr>\n",
       "      <th>6101</th>\n",
       "      <td>91955</td>\n",
       "      <td>KOME SUSHI BURRITO</td>\n",
       "      <td>OTG</td>\n",
       "      <td>San Francisco</td>\n",
       "      <td>CA</td>\n",
       "      <td>NaN</td>\n",
       "      <td>NaN</td>\n",
       "      <td>NaN</td>\n",
       "      <td>+14153949717</td>\n",
       "      <td>NaN</td>\n",
       "    </tr>\n",
       "    <tr>\n",
       "      <th>6168</th>\n",
       "      <td>92417</td>\n",
       "      <td>MAI THAI KITCHEN</td>\n",
       "      <td>OTG</td>\n",
       "      <td>San Francisco</td>\n",
       "      <td>CA</td>\n",
       "      <td>NaN</td>\n",
       "      <td>NaN</td>\n",
       "      <td>NaN</td>\n",
       "      <td>NaN</td>\n",
       "      <td>NaN</td>\n",
       "    </tr>\n",
       "    <tr>\n",
       "      <th>6194</th>\n",
       "      <td>92563</td>\n",
       "      <td>LA BOULANGERIE DE SAN FRANCISCO</td>\n",
       "      <td>655 MONTGOMERY ST</td>\n",
       "      <td>San Francisco</td>\n",
       "      <td>CA</td>\n",
       "      <td>NaN</td>\n",
       "      <td>NaN</td>\n",
       "      <td>NaN</td>\n",
       "      <td>+14158239635</td>\n",
       "      <td>NaN</td>\n",
       "    </tr>\n",
       "    <tr>\n",
       "      <th>6223</th>\n",
       "      <td>92857</td>\n",
       "      <td>MOBI MUNCH, INC.</td>\n",
       "      <td>OFF THE GRID</td>\n",
       "      <td>San Francisco</td>\n",
       "      <td>CA</td>\n",
       "      <td>NaN</td>\n",
       "      <td>NaN</td>\n",
       "      <td>NaN</td>\n",
       "      <td>+14152899800</td>\n",
       "      <td>NaN</td>\n",
       "    </tr>\n",
       "    <tr>\n",
       "      <th>6240</th>\n",
       "      <td>93029</td>\n",
       "      <td>BAHN MI ZON</td>\n",
       "      <td>OFF THE GRID</td>\n",
       "      <td>San Francisco</td>\n",
       "      <td>CA</td>\n",
       "      <td>NaN</td>\n",
       "      <td>NaN</td>\n",
       "      <td>NaN</td>\n",
       "      <td>+14152414342</td>\n",
       "      <td>NaN</td>\n",
       "    </tr>\n",
       "    <tr>\n",
       "      <th>6354</th>\n",
       "      <td>94123</td>\n",
       "      <td>BON APPETIT @ AIRBNB</td>\n",
       "      <td>999 BRANNAN ST</td>\n",
       "      <td>San Francisco</td>\n",
       "      <td>CA</td>\n",
       "      <td>NaN</td>\n",
       "      <td>NaN</td>\n",
       "      <td>NaN</td>\n",
       "      <td>+1415 Alieri</td>\n",
       "      <td>NaN</td>\n",
       "    </tr>\n",
       "    <tr>\n",
       "      <th>6387</th>\n",
       "      <td>94409</td>\n",
       "      <td>AUGUST HALL</td>\n",
       "      <td>420 MASON ST</td>\n",
       "      <td>San Francisco</td>\n",
       "      <td>CA</td>\n",
       "      <td>NaN</td>\n",
       "      <td>NaN</td>\n",
       "      <td>NaN</td>\n",
       "      <td>NaN</td>\n",
       "      <td>NaN</td>\n",
       "    </tr>\n",
       "  </tbody>\n",
       "</table>\n",
       "<p>240 rows × 10 columns</p>\n",
       "</div>"
      ],
      "text/plain": [
       "      business_id                               name  \\\n",
       "1702         8202                         XIAO LOONG   \n",
       "1725         9358         EDGEWOOD CHILDREN'S CENTER   \n",
       "1731         9582                            DIMPLES   \n",
       "1747        10011                   OSHA THAI NOODLE   \n",
       "1754        10227                   THE NAPPER TANDY   \n",
       "1762        10372  BERNAL HEIGHTS NEIGBORHOOD CENTER   \n",
       "1763        10373                    EL TONAYENSE #1   \n",
       "1764        10376                GOOD FRIKIN CHICKEN   \n",
       "1766        10406              SUNSET YOUTH SERVICES   \n",
       "1778        10964                   ANGEL'S HOT DOGS   \n",
       "1788        11416                   EL BEACH BURRITO   \n",
       "1797        11967            CANTEEN VENDING COMPANY   \n",
       "1798        11974  WEST COAST VENDING & FOOD SERVICE   \n",
       "1799        12001                   CAHEE'S CATERING   \n",
       "1802        12199                      EL GALLO GIRO   \n",
       "1805        12344         THE VILLAGE MARKET & PIZZA   \n",
       "1811        13062              EVERETT MIDDLE SCHOOL   \n",
       "1821        13753                             TABOUN   \n",
       "1839        14883           FRIENDSHIP HOUSE HEALING   \n",
       "1865        17423                  PROJECT OPEN HAND   \n",
       "1878        17946                   PIZZERIA DELFINA   \n",
       "1881        18079                  JOE'S COFFEE SHOP   \n",
       "1944        19357             ORIGINAL BUFFALO WINGS   \n",
       "2095        33114                  SAUSALITO CAFE #2   \n",
       "2155        34201             TROUBLE COFFEE COMPANY   \n",
       "2160        34331                 STANLEY'S STEAMERS   \n",
       "2206        35469                      SUBWAY #36339   \n",
       "2257        36546                    EPIC ROASTHOUSE   \n",
       "2263        36608                TAQUERIA ANGELICA'S   \n",
       "2348        38146                 SAN PANCHO'S TACOS   \n",
       "...           ...                                ...   \n",
       "5657        89436                           ELIXIRIA   \n",
       "5697        89678                        BONITO POKE   \n",
       "5706        89723                     PASSIONE PIZZA   \n",
       "5714        89759          LAMAS PERUVIAN FOOD TRUCK   \n",
       "5732        89839                  COOKSOO TRUCK LLC   \n",
       "5736        89856                 THE KOREAN KITCHEN   \n",
       "5738        89900              TOUT SWEET PATISSERIE   \n",
       "5786        90194                         JACKRABBIT   \n",
       "5789        90213                   SENOR SISIG (#6)   \n",
       "5827        90353                         PARK GYROS   \n",
       "5835        90433                GAGA'S ROLLIN DINER   \n",
       "5836        90434                             BAAGAN   \n",
       "5840        90441       SF HILTON BANQUET FACILITIES   \n",
       "5848        90470                  NORTH BORDER TACO   \n",
       "5862        90536                     SERENDIPITY SF   \n",
       "5865        90560                     COLETTA GELATO   \n",
       "5876        90597              MOONRAKER MOBILE (#2)   \n",
       "5890        90708             CREPERIE SAINT GERMAIN   \n",
       "5898        90792                 THE GAME DAY TRUCK   \n",
       "5985        91170               PASSION PERUANA, LLC   \n",
       "6006        91273                        DA POKE MAN   \n",
       "6015        91313                TACOS SANTO TORIBIO   \n",
       "6078        91826                   THE WAFFLE ROOST   \n",
       "6101        91955                 KOME SUSHI BURRITO   \n",
       "6168        92417                   MAI THAI KITCHEN   \n",
       "6194        92563    LA BOULANGERIE DE SAN FRANCISCO   \n",
       "6223        92857                   MOBI MUNCH, INC.   \n",
       "6240        93029                        BAHN MI ZON   \n",
       "6354        94123               BON APPETIT @ AIRBNB   \n",
       "6387        94409                        AUGUST HALL   \n",
       "\n",
       "                                    address           city state postal_code  \\\n",
       "1702                 250 WEST PORTAL AVENUE  San Francisco    CA         NaN   \n",
       "1725                       1801 VICENTE ST   San Francisco    CA         NaN   \n",
       "1731                          1700 POST ST.  San Francisco    CA         NaN   \n",
       "1747                       819 VALENCIA ST.  San Francisco    CA         NaN   \n",
       "1754                          3200 24TH ST   San Francisco    CA         NaN   \n",
       "1762                       515 CORTLAND AVE  San Francisco    CA         NaN   \n",
       "1763                      1717 HARRISON ST   San Francisco    CA         NaN   \n",
       "1764                            10 29TH ST   San Francisco    CA         NaN   \n",
       "1766                          3918 JUDAH ST  San Francisco    CA         NaN   \n",
       "1778      CORNER OF ALAMEDA AND HENRY ADAMS  San Francisco    CA         NaN   \n",
       "1788                          3914 JUDAH ST  San Francisco    CA         NaN   \n",
       "1797                      VARIOUS LOCATIONS  San Francisco    CA         NaN   \n",
       "1798                      VARIOUS LOCATIONS  San Francisco    CA         NaN   \n",
       "1799                          4801 03RD ST   San Francisco    CA         NaN   \n",
       "1802                          3055 23RD ST   San Francisco    CA         NaN   \n",
       "1805                          750 FONT BLVD  San Francisco    CA         NaN   \n",
       "1811                         450 CHURCH ST   San Francisco    CA         NaN   \n",
       "1821                     203 PARNASSUS AVE   San Francisco    CA         NaN   \n",
       "1839                              56 JULIAN  San Francisco    CA         NaN   \n",
       "1865                        100 DIAMOND ST   San Francisco    CA         NaN   \n",
       "1878                          3611 18TH ST   San Francisco    CA         NaN   \n",
       "1881                       6134 GEARY BLVD   San Francisco    CA         NaN   \n",
       "1944                       2499 LOMBARD ST   San Francisco    CA         NaN   \n",
       "2095                        50 BEALE ST 105  San Francisco    CA         NaN   \n",
       "2155                         4033 JUDAH ST   San Francisco    CA         NaN   \n",
       "2160   NW CORNER GRANT AT GEARY ST ON GRANT  San Francisco    CA         NaN   \n",
       "2206                       1099 MISSION ST   San Francisco    CA         NaN   \n",
       "2257                   PIER26 EMBARCADERO    San Francisco    CA         NaN   \n",
       "2263                  1301 CESAR CHAVEZ ST   San Francisco    CA         NaN   \n",
       "2348                       491 BAYSHORE ST   San Francisco    CA         NaN   \n",
       "...                                     ...            ...   ...         ...   \n",
       "5657                          301 25TH AVE   San Francisco    CA         NaN   \n",
       "5697                      2277 SHAFTER AVE   San Francisco    CA         NaN   \n",
       "5706                         OFF THE GRID    San Francisco    CA         NaN   \n",
       "5714                    PRIVATE LOCATIONS    San Francisco    CA         NaN   \n",
       "5732           APPROVED PRIVATE LOCATIONS    San Francisco    CA         NaN   \n",
       "5736                         1220 09TH AVE   San Francisco    CA         NaN   \n",
       "5738                      170 O'FARRELL ST   San Francisco    CA         NaN   \n",
       "5786                         OFF THE GRID    San Francisco    CA         NaN   \n",
       "5789                         OFF THE GRID    San Francisco    CA         NaN   \n",
       "5827                  2831 CESAR CHAVEZ ST   San Francisco    CA         NaN   \n",
       "5835                         OFF THE GRID    San Francisco    CA         NaN   \n",
       "5836                         OFF THE GRID    San Francisco    CA         NaN   \n",
       "5840                        333 O'FARRELL    San Francisco    CA         NaN   \n",
       "5848                      TREASURE ISLAND    San Francisco    CA         NaN   \n",
       "5862           APPROVED PRIVATE LOCATIONS    San Francisco    CA         NaN   \n",
       "5865                         OFF THE GRID    San Francisco    CA         NaN   \n",
       "5876                         OFF THE GRID    San Francisco    CA         NaN   \n",
       "5890                            201 2ND ST   San Francisco    CA         NaN   \n",
       "5898                         OFF THE GRID    San Francisco    CA         NaN   \n",
       "5985                    993 NORTH POINT ST   San Francisco    CA         NaN   \n",
       "6006                         OFF THE GRID    San Francisco    CA         NaN   \n",
       "6015                           928 TOLAND    San Francisco    CA         NaN   \n",
       "6078                         OFF THE GRID    San Francisco    CA         NaN   \n",
       "6101                                  OTG    San Francisco    CA         NaN   \n",
       "6168                                  OTG    San Francisco    CA         NaN   \n",
       "6194                     655 MONTGOMERY ST   San Francisco    CA         NaN   \n",
       "6223                         OFF THE GRID    San Francisco    CA         NaN   \n",
       "6240                         OFF THE GRID    San Francisco    CA         NaN   \n",
       "6354                       999 BRANNAN ST    San Francisco    CA         NaN   \n",
       "6387                          420 MASON ST   San Francisco    CA         NaN   \n",
       "\n",
       "       latitude   longitude  phone_number postal_code_5  \n",
       "1702  37.738616 -122.468775  +14152792647           NaN  \n",
       "1725  37.739083 -122.485437           NaN           NaN  \n",
       "1731  37.785632 -122.429794  +14155190341           NaN  \n",
       "1747  37.759943 -122.421332  +14153109293           NaN  \n",
       "1754  37.752581 -122.416482  +14155507510           NaN  \n",
       "1762  37.739110 -122.416404  +14152062142           NaN  \n",
       "1763  37.769426 -122.413446  +14155596127           NaN  \n",
       "1764  37.744369 -122.420967  +14158601365           NaN  \n",
       "1766  37.760560 -122.504027           NaN           NaN  \n",
       "1778        NaN         NaN           NaN           NaN  \n",
       "1788  37.760851 -122.503998           NaN           NaN  \n",
       "1797        NaN         NaN  +14159798170           NaN  \n",
       "1798        NaN         NaN  +14152615954           NaN  \n",
       "1799  37.734734 -122.390599           NaN           NaN  \n",
       "1802  37.754218 -122.413285  +14155772661           NaN  \n",
       "1805  37.723462 -122.483012  +14153774525           NaN  \n",
       "1811  37.763794 -122.428617           NaN           NaN  \n",
       "1821  37.764574 -122.452950  +14156420168           NaN  \n",
       "1839  37.767312 -122.421173           NaN           NaN  \n",
       "1865  37.760689 -122.437252           NaN           NaN  \n",
       "1878  37.761657 -122.424347  +14158196457           NaN  \n",
       "1881  37.780408 -122.485383  +14156689382           NaN  \n",
       "1944  37.799095 -122.442457  +14159318181           NaN  \n",
       "2095  37.792414 -122.397020           NaN           NaN  \n",
       "2155  37.760469 -122.505349  +14156909119           NaN  \n",
       "2160  37.787954 -122.405035           NaN           NaN  \n",
       "2206  37.779466 -122.410903  +14152419033           NaN  \n",
       "2257        NaN         NaN           NaN           NaN  \n",
       "2263  37.748543 -122.390883  +14158343695           NaN  \n",
       "2348        NaN         NaN  +14153375152           NaN  \n",
       "...         ...         ...           ...           ...  \n",
       "5657        NaN         NaN  +14159486537           NaN  \n",
       "5697        NaN         NaN  +14155335548           NaN  \n",
       "5706        NaN         NaN  +14152068822           NaN  \n",
       "5714        NaN         NaN  +14157979866           NaN  \n",
       "5732        NaN         NaN  +14152765462           NaN  \n",
       "5736        NaN         NaN  +14157305897           NaN  \n",
       "5738        NaN         NaN  +14156529020           NaN  \n",
       "5786        NaN         NaN  +14153782051           NaN  \n",
       "5789        NaN         NaN  +14156085048           NaN  \n",
       "5827        NaN         NaN  +14154303256           NaN  \n",
       "5835        NaN         NaN  +14156553116           NaN  \n",
       "5836        NaN         NaN  +14157572038           NaN  \n",
       "5840        NaN         NaN  +14157711400           NaN  \n",
       "5848        NaN         NaN  +14153706314           NaN  \n",
       "5862        NaN         NaN  +14154791437           NaN  \n",
       "5865        NaN         NaN  +14152991032           NaN  \n",
       "5876        NaN         NaN  +14155571232           NaN  \n",
       "5890        NaN         NaN  +14159487348           NaN  \n",
       "5898        NaN         NaN  +14157626170           NaN  \n",
       "5985        NaN         NaN           NaN           NaN  \n",
       "6006        NaN         NaN  +14157899447           NaN  \n",
       "6015        NaN         NaN  +14155059190           NaN  \n",
       "6078        NaN         NaN  +14153144823           NaN  \n",
       "6101        NaN         NaN  +14153949717           NaN  \n",
       "6168        NaN         NaN           NaN           NaN  \n",
       "6194        NaN         NaN  +14158239635           NaN  \n",
       "6223        NaN         NaN  +14152899800           NaN  \n",
       "6240        NaN         NaN  +14152414342           NaN  \n",
       "6354        NaN         NaN  +1415 Alieri           NaN  \n",
       "6387        NaN         NaN           NaN           NaN  \n",
       "\n",
       "[240 rows x 10 columns]"
      ]
     },
     "execution_count": 193,
     "metadata": {},
     "output_type": "execute_result"
    }
   ],
   "source": [
    "bus[bus.loc[:, \"postal_code_5\"].isnull()]"
   ]
  },
  {
   "cell_type": "markdown",
   "metadata": {
    "deletable": false,
    "editable": false,
    "nbgrader": {
     "cell_type": "markdown",
     "checksum": "5fe0564b91bb7d1bae1abda41ff3d756",
     "grade": false,
     "grade_id": "q3d",
     "locked": true,
     "schema_version": 2,
     "solution": false
    }
   },
   "source": [
    "### Question 3d: Incorrect Zip Codes"
   ]
  },
  {
   "cell_type": "markdown",
   "metadata": {
    "deletable": false,
    "editable": false,
    "nbgrader": {
     "cell_type": "markdown",
     "checksum": "4497ed037afce30fb3622e8bc7f34759",
     "grade": false,
     "grade_id": "cell-e48949d5308e5f4b",
     "locked": true,
     "schema_version": 2,
     "solution": false
    }
   },
   "source": [
    "This dataset is supposed to be only about San Francisco, so let's set up a list of all San Francisco zip codes."
   ]
  },
  {
   "cell_type": "code",
   "execution_count": 194,
   "metadata": {
    "deletable": false,
    "editable": false,
    "nbgrader": {
     "cell_type": "code",
     "checksum": "3bee0bcba761bd397c24fd0d97cc7eaf",
     "grade": false,
     "grade_id": "cell-6e48f854beb16cbb",
     "locked": true,
     "schema_version": 2,
     "solution": false
    }
   },
   "outputs": [],
   "source": [
    "all_sf_zip_codes = [\"94102\", \"94103\", \"94104\", \"94105\", \"94107\", \"94108\", \"94109\", \"94110\", \"94111\", \"94112\", \"94114\", \"94115\", \"94116\", \"94117\", \"94118\", \"94119\", \"94120\", \"94121\", \"94122\", \"94123\", \"94124\", \"94125\", \"94126\", \"94127\", \"94128\", \"94129\", \"94130\", \"94131\", \"94132\", \"94133\", \"94134\", \"94137\", \"94139\", \"94140\", \"94141\", \"94142\", \"94143\", \"94144\", \"94145\", \"94146\", \"94147\", \"94151\", \"94158\", \"94159\", \"94160\", \"94161\", \"94163\", \"94164\", \"94172\", \"94177\", \"94188\"]"
   ]
  },
  {
   "cell_type": "markdown",
   "metadata": {
    "deletable": false,
    "editable": false,
    "nbgrader": {
     "cell_type": "markdown",
     "checksum": "1acd6b5a91d8795cf506039d89756d20",
     "grade": false,
     "grade_id": "cell-57244ec02a330146",
     "locked": true,
     "schema_version": 2,
     "solution": false
    }
   },
   "source": [
    "Set `weird_zip_code_businesses` equal to a new dataframe showing only rows corresponding to zip codes that are not valid AND not NaN. Use the `postal_code_5` field.\n",
    "\n",
    "*Hint: The `~` operator inverts a boolean array. Use in conjunction with `isin`.*\n",
    "\n",
    "*Hint: The `notnull` method can be used to form a useful boolean array for this problem.*\n",
    "\n"
   ]
  },
  {
   "cell_type": "code",
   "execution_count": 195,
   "metadata": {
    "deletable": false,
    "nbgrader": {
     "cell_type": "code",
     "checksum": "2591386f4d8a46b91f96ae757c2bafad",
     "grade": false,
     "grade_id": "cell-c5f486cab68d56a0",
     "locked": false,
     "schema_version": 2,
     "solution": true
    }
   },
   "outputs": [],
   "source": [
    "weird_zip_code_businesses = bus[(bus.loc[:, \"postal_code_5\"].notnull()) & ~(bus.loc[:, \"postal_code_5\"].isin(all_sf_zip_codes))]\n",
    "\n",
    "# YOUR CODE HERE\n",
    "#raise NotImplementedError()"
   ]
  },
  {
   "cell_type": "code",
   "execution_count": 196,
   "metadata": {
    "deletable": false,
    "editable": false,
    "nbgrader": {
     "cell_type": "code",
     "checksum": "6854d7f8afab21dcff649a9eb6b952c0",
     "grade": false,
     "grade_id": "cell-9fa715b199881548",
     "locked": true,
     "schema_version": 2,
     "solution": false
    }
   },
   "outputs": [
    {
     "data": {
      "text/html": [
       "<div>\n",
       "<style scoped>\n",
       "    .dataframe tbody tr th:only-of-type {\n",
       "        vertical-align: middle;\n",
       "    }\n",
       "\n",
       "    .dataframe tbody tr th {\n",
       "        vertical-align: top;\n",
       "    }\n",
       "\n",
       "    .dataframe thead th {\n",
       "        text-align: right;\n",
       "    }\n",
       "</style>\n",
       "<table border=\"1\" class=\"dataframe\">\n",
       "  <thead>\n",
       "    <tr style=\"text-align: right;\">\n",
       "      <th></th>\n",
       "      <th>business_id</th>\n",
       "      <th>name</th>\n",
       "      <th>address</th>\n",
       "      <th>city</th>\n",
       "      <th>state</th>\n",
       "      <th>postal_code</th>\n",
       "      <th>latitude</th>\n",
       "      <th>longitude</th>\n",
       "      <th>phone_number</th>\n",
       "      <th>postal_code_5</th>\n",
       "    </tr>\n",
       "  </thead>\n",
       "  <tbody>\n",
       "    <tr>\n",
       "      <th>1211</th>\n",
       "      <td>5208</td>\n",
       "      <td>GOLDEN GATE YACHT CLUB</td>\n",
       "      <td>1 YACHT RD</td>\n",
       "      <td>San Francisco</td>\n",
       "      <td>CA</td>\n",
       "      <td>941</td>\n",
       "      <td>37.807878</td>\n",
       "      <td>-122.442499</td>\n",
       "      <td>+14153462628</td>\n",
       "      <td>941</td>\n",
       "    </tr>\n",
       "    <tr>\n",
       "      <th>1372</th>\n",
       "      <td>5755</td>\n",
       "      <td>J &amp; J VENDING</td>\n",
       "      <td>VARIOUS LOACATIONS (17)</td>\n",
       "      <td>San Francisco</td>\n",
       "      <td>CA</td>\n",
       "      <td>94545</td>\n",
       "      <td>NaN</td>\n",
       "      <td>NaN</td>\n",
       "      <td>+14156750910</td>\n",
       "      <td>94545</td>\n",
       "    </tr>\n",
       "    <tr>\n",
       "      <th>1373</th>\n",
       "      <td>5757</td>\n",
       "      <td>RICO VENDING, INC</td>\n",
       "      <td>VARIOUS LOCATIONS</td>\n",
       "      <td>San Francisco</td>\n",
       "      <td>CA</td>\n",
       "      <td>94066</td>\n",
       "      <td>NaN</td>\n",
       "      <td>NaN</td>\n",
       "      <td>+14155836723</td>\n",
       "      <td>94066</td>\n",
       "    </tr>\n",
       "    <tr>\n",
       "      <th>2258</th>\n",
       "      <td>36547</td>\n",
       "      <td>EPIC ROASTHOUSE</td>\n",
       "      <td>PIER 26 EMBARARCADERO</td>\n",
       "      <td>San Francisco</td>\n",
       "      <td>CA</td>\n",
       "      <td>95105</td>\n",
       "      <td>37.788962</td>\n",
       "      <td>-122.387941</td>\n",
       "      <td>+14153699955</td>\n",
       "      <td>95105</td>\n",
       "    </tr>\n",
       "    <tr>\n",
       "      <th>2293</th>\n",
       "      <td>37167</td>\n",
       "      <td>INTERCONTINENTAL SAN FRANCISCO EMPLOYEE CAFETERIA</td>\n",
       "      <td>888 HOWARD ST 2ND FLOOR</td>\n",
       "      <td>San Francisco</td>\n",
       "      <td>CA</td>\n",
       "      <td>94013</td>\n",
       "      <td>37.781664</td>\n",
       "      <td>-122.404778</td>\n",
       "      <td>+14156166532</td>\n",
       "      <td>94013</td>\n",
       "    </tr>\n",
       "    <tr>\n",
       "      <th>2295</th>\n",
       "      <td>37169</td>\n",
       "      <td>INTERCONTINENTAL SAN FRANCISCO 4TH FL. KITCHEN</td>\n",
       "      <td>888 HOWARD ST 4TH FLOOR</td>\n",
       "      <td>San Francisco</td>\n",
       "      <td>CA</td>\n",
       "      <td>94013</td>\n",
       "      <td>37.781664</td>\n",
       "      <td>-122.404778</td>\n",
       "      <td>+14156166532</td>\n",
       "      <td>94013</td>\n",
       "    </tr>\n",
       "    <tr>\n",
       "      <th>2846</th>\n",
       "      <td>64540</td>\n",
       "      <td>LEO'S HOT DOGS</td>\n",
       "      <td>2301 MISSION ST</td>\n",
       "      <td>San Francisco</td>\n",
       "      <td>CA</td>\n",
       "      <td>CA</td>\n",
       "      <td>37.760054</td>\n",
       "      <td>-122.419166</td>\n",
       "      <td>+14152406434</td>\n",
       "      <td>CA</td>\n",
       "    </tr>\n",
       "    <tr>\n",
       "      <th>2852</th>\n",
       "      <td>64660</td>\n",
       "      <td>HAIGHT STREET MARKET</td>\n",
       "      <td>1530 HAIGHT ST</td>\n",
       "      <td>San Francisco</td>\n",
       "      <td>CA</td>\n",
       "      <td>92672</td>\n",
       "      <td>37.769957</td>\n",
       "      <td>-122.447533</td>\n",
       "      <td>+14152550643</td>\n",
       "      <td>92672</td>\n",
       "    </tr>\n",
       "    <tr>\n",
       "      <th>2857</th>\n",
       "      <td>64738</td>\n",
       "      <td>JAPACURRY</td>\n",
       "      <td>PUBLIC</td>\n",
       "      <td>San Francisco</td>\n",
       "      <td>CA</td>\n",
       "      <td>CA</td>\n",
       "      <td>37.777122</td>\n",
       "      <td>-122.419639</td>\n",
       "      <td>+14152444785</td>\n",
       "      <td>CA</td>\n",
       "    </tr>\n",
       "    <tr>\n",
       "      <th>2969</th>\n",
       "      <td>65856</td>\n",
       "      <td>BAMBOO ASIA</td>\n",
       "      <td>41 MONTGOMERY ST</td>\n",
       "      <td>San Francisco</td>\n",
       "      <td>CA</td>\n",
       "      <td>94101</td>\n",
       "      <td>37.774998</td>\n",
       "      <td>-122.418299</td>\n",
       "      <td>+14156246790</td>\n",
       "      <td>94101</td>\n",
       "    </tr>\n",
       "    <tr>\n",
       "      <th>3142</th>\n",
       "      <td>67875</td>\n",
       "      <td>THE CHAIRMAN TRUCK</td>\n",
       "      <td>OFF THE GRID</td>\n",
       "      <td>San Francisco</td>\n",
       "      <td>CA</td>\n",
       "      <td>00000</td>\n",
       "      <td>37.777122</td>\n",
       "      <td>-122.419639</td>\n",
       "      <td>+14158461711</td>\n",
       "      <td>00000</td>\n",
       "    </tr>\n",
       "    <tr>\n",
       "      <th>3665</th>\n",
       "      <td>72127</td>\n",
       "      <td>REVOLUTION FOODS</td>\n",
       "      <td>5383 CAPWELL</td>\n",
       "      <td>San Francisco</td>\n",
       "      <td>CA</td>\n",
       "      <td>94621</td>\n",
       "      <td>NaN</td>\n",
       "      <td>NaN</td>\n",
       "      <td>NaN</td>\n",
       "      <td>94621</td>\n",
       "    </tr>\n",
       "    <tr>\n",
       "      <th>3758</th>\n",
       "      <td>74674</td>\n",
       "      <td>ELI'S HOT DOGS</td>\n",
       "      <td>101 BAYSHORE BLVD</td>\n",
       "      <td>San Francisco</td>\n",
       "      <td>CA</td>\n",
       "      <td>94014</td>\n",
       "      <td>NaN</td>\n",
       "      <td>NaN</td>\n",
       "      <td>+14158301168</td>\n",
       "      <td>94014</td>\n",
       "    </tr>\n",
       "    <tr>\n",
       "      <th>4853</th>\n",
       "      <td>83744</td>\n",
       "      <td>LA FROMAGERIE</td>\n",
       "      <td>101 MONTGOMERY ST</td>\n",
       "      <td>San Francisco</td>\n",
       "      <td>CA</td>\n",
       "      <td>94101</td>\n",
       "      <td>NaN</td>\n",
       "      <td>NaN</td>\n",
       "      <td>+14153682943</td>\n",
       "      <td>94101</td>\n",
       "    </tr>\n",
       "    <tr>\n",
       "      <th>5060</th>\n",
       "      <td>85459</td>\n",
       "      <td>ORBIT ROOM</td>\n",
       "      <td>1900 MARKET ST</td>\n",
       "      <td>San Francisco</td>\n",
       "      <td>CA</td>\n",
       "      <td>94602</td>\n",
       "      <td>NaN</td>\n",
       "      <td>NaN</td>\n",
       "      <td>+14153705584</td>\n",
       "      <td>94602</td>\n",
       "    </tr>\n",
       "    <tr>\n",
       "      <th>5325</th>\n",
       "      <td>87059</td>\n",
       "      <td>COFFEE BAR-MONTGOMERY</td>\n",
       "      <td>101 MONTGOMERY ST SUITE 101C</td>\n",
       "      <td>San Francisco</td>\n",
       "      <td>CA</td>\n",
       "      <td>94014</td>\n",
       "      <td>NaN</td>\n",
       "      <td>NaN</td>\n",
       "      <td>+14158158774</td>\n",
       "      <td>94014</td>\n",
       "    </tr>\n",
       "    <tr>\n",
       "      <th>5480</th>\n",
       "      <td>88139</td>\n",
       "      <td>TACOLICIOUS</td>\n",
       "      <td>2250 CHESTNUT ST</td>\n",
       "      <td>San Francisco</td>\n",
       "      <td>CA</td>\n",
       "      <td>Ca</td>\n",
       "      <td>NaN</td>\n",
       "      <td>NaN</td>\n",
       "      <td>+14156496077</td>\n",
       "      <td>Ca</td>\n",
       "    </tr>\n",
       "    <tr>\n",
       "      <th>5894</th>\n",
       "      <td>90733</td>\n",
       "      <td>JEEPSILOG</td>\n",
       "      <td>2 MARINA BLVD</td>\n",
       "      <td>San Francisco</td>\n",
       "      <td>CA</td>\n",
       "      <td>94080</td>\n",
       "      <td>NaN</td>\n",
       "      <td>NaN</td>\n",
       "      <td>+14157035586</td>\n",
       "      <td>94080</td>\n",
       "    </tr>\n",
       "    <tr>\n",
       "      <th>6002</th>\n",
       "      <td>91249</td>\n",
       "      <td>AN THE GO</td>\n",
       "      <td>OFF THE GRID</td>\n",
       "      <td>San Francisco</td>\n",
       "      <td>CA</td>\n",
       "      <td>00000</td>\n",
       "      <td>NaN</td>\n",
       "      <td>NaN</td>\n",
       "      <td>+14158192000</td>\n",
       "      <td>00000</td>\n",
       "    </tr>\n",
       "    <tr>\n",
       "      <th>6130</th>\n",
       "      <td>92141</td>\n",
       "      <td>ALFARO TRUCK</td>\n",
       "      <td>332 VALENCIA ST</td>\n",
       "      <td>San Francisco</td>\n",
       "      <td>CA</td>\n",
       "      <td>64110</td>\n",
       "      <td>NaN</td>\n",
       "      <td>NaN</td>\n",
       "      <td>+14159409273</td>\n",
       "      <td>64110</td>\n",
       "    </tr>\n",
       "    <tr>\n",
       "      <th>6300</th>\n",
       "      <td>93484</td>\n",
       "      <td>CARDONA'S FOOD TRUCK</td>\n",
       "      <td>2430 WHIPPLE RD</td>\n",
       "      <td>San Francisco</td>\n",
       "      <td>CA</td>\n",
       "      <td>94544</td>\n",
       "      <td>NaN</td>\n",
       "      <td>NaN</td>\n",
       "      <td>+14153365990</td>\n",
       "      <td>94544</td>\n",
       "    </tr>\n",
       "  </tbody>\n",
       "</table>\n",
       "</div>"
      ],
      "text/plain": [
       "      business_id                                               name  \\\n",
       "1211         5208                             GOLDEN GATE YACHT CLUB   \n",
       "1372         5755                                      J & J VENDING   \n",
       "1373         5757                                  RICO VENDING, INC   \n",
       "2258        36547                                    EPIC ROASTHOUSE   \n",
       "2293        37167  INTERCONTINENTAL SAN FRANCISCO EMPLOYEE CAFETERIA   \n",
       "2295        37169     INTERCONTINENTAL SAN FRANCISCO 4TH FL. KITCHEN   \n",
       "2846        64540                                     LEO'S HOT DOGS   \n",
       "2852        64660                               HAIGHT STREET MARKET   \n",
       "2857        64738                                          JAPACURRY   \n",
       "2969        65856                                        BAMBOO ASIA   \n",
       "3142        67875                                 THE CHAIRMAN TRUCK   \n",
       "3665        72127                                   REVOLUTION FOODS   \n",
       "3758        74674                                     ELI'S HOT DOGS   \n",
       "4853        83744                                      LA FROMAGERIE   \n",
       "5060        85459                                         ORBIT ROOM   \n",
       "5325        87059                              COFFEE BAR-MONTGOMERY   \n",
       "5480        88139                                        TACOLICIOUS   \n",
       "5894        90733                                          JEEPSILOG   \n",
       "6002        91249                                          AN THE GO   \n",
       "6130        92141                                       ALFARO TRUCK   \n",
       "6300        93484                               CARDONA'S FOOD TRUCK   \n",
       "\n",
       "                           address           city state postal_code  \\\n",
       "1211                   1 YACHT RD   San Francisco    CA         941   \n",
       "1372       VARIOUS LOACATIONS (17)  San Francisco    CA       94545   \n",
       "1373             VARIOUS LOCATIONS  San Francisco    CA       94066   \n",
       "2258       PIER 26 EMBARARCADERO    San Francisco    CA       95105   \n",
       "2293       888 HOWARD ST 2ND FLOOR  San Francisco    CA       94013   \n",
       "2295       888 HOWARD ST 4TH FLOOR  San Francisco    CA       94013   \n",
       "2846              2301 MISSION ST   San Francisco    CA          CA   \n",
       "2852               1530 HAIGHT ST   San Francisco    CA       92672   \n",
       "2857                      PUBLIC    San Francisco    CA          CA   \n",
       "2969             41 MONTGOMERY ST   San Francisco    CA       94101   \n",
       "3142                OFF THE GRID    San Francisco    CA       00000   \n",
       "3665                5383 CAPWELL    San Francisco    CA       94621   \n",
       "3758            101 BAYSHORE BLVD   San Francisco    CA       94014   \n",
       "4853            101 MONTGOMERY ST   San Francisco    CA       94101   \n",
       "5060               1900 MARKET ST   San Francisco    CA       94602   \n",
       "5325  101 MONTGOMERY ST SUITE 101C  San Francisco    CA       94014   \n",
       "5480             2250 CHESTNUT ST   San Francisco    CA          Ca   \n",
       "5894                2 MARINA BLVD   San Francisco    CA       94080   \n",
       "6002                OFF THE GRID    San Francisco    CA       00000   \n",
       "6130              332 VALENCIA ST   San Francisco    CA       64110   \n",
       "6300              2430 WHIPPLE RD   San Francisco    CA       94544   \n",
       "\n",
       "       latitude   longitude  phone_number postal_code_5  \n",
       "1211  37.807878 -122.442499  +14153462628           941  \n",
       "1372        NaN         NaN  +14156750910         94545  \n",
       "1373        NaN         NaN  +14155836723         94066  \n",
       "2258  37.788962 -122.387941  +14153699955         95105  \n",
       "2293  37.781664 -122.404778  +14156166532         94013  \n",
       "2295  37.781664 -122.404778  +14156166532         94013  \n",
       "2846  37.760054 -122.419166  +14152406434            CA  \n",
       "2852  37.769957 -122.447533  +14152550643         92672  \n",
       "2857  37.777122 -122.419639  +14152444785            CA  \n",
       "2969  37.774998 -122.418299  +14156246790         94101  \n",
       "3142  37.777122 -122.419639  +14158461711         00000  \n",
       "3665        NaN         NaN           NaN         94621  \n",
       "3758        NaN         NaN  +14158301168         94014  \n",
       "4853        NaN         NaN  +14153682943         94101  \n",
       "5060        NaN         NaN  +14153705584         94602  \n",
       "5325        NaN         NaN  +14158158774         94014  \n",
       "5480        NaN         NaN  +14156496077            Ca  \n",
       "5894        NaN         NaN  +14157035586         94080  \n",
       "6002        NaN         NaN  +14158192000         00000  \n",
       "6130        NaN         NaN  +14159409273         64110  \n",
       "6300        NaN         NaN  +14153365990         94544  "
      ]
     },
     "execution_count": 196,
     "metadata": {},
     "output_type": "execute_result"
    }
   ],
   "source": [
    "weird_zip_code_businesses"
   ]
  },
  {
   "cell_type": "markdown",
   "metadata": {
    "deletable": false,
    "editable": false,
    "nbgrader": {
     "cell_type": "markdown",
     "checksum": "33a0923274ae873d68795581d784a76d",
     "grade": false,
     "grade_id": "cell-98f842a32db99f23",
     "locked": true,
     "schema_version": 2,
     "solution": false
    }
   },
   "source": [
    "If we were doing very serious data analysis, we might indivdually look up every one of these strange records. Let's focus on just two of them: zip codes 94545 and 94602. Use a search engine to identify what cities these zip codes appear in. Try to explain why you think these two zip codes appear in your dataframe. For the one with zip code 94602, try searching for the business name and locate its real address."
   ]
  },
  {
   "cell_type": "code",
   "execution_count": 197,
   "metadata": {
    "deletable": false,
    "nbgrader": {
     "cell_type": "code",
     "checksum": "940250e8de8de66b3f0c30e7699ba1dd",
     "grade": true,
     "grade_id": "cell-56691be6d6a68838",
     "locked": false,
     "points": 1,
     "schema_version": 2,
     "solution": true
    }
   },
   "outputs": [
    {
     "name": "stdout",
     "output_type": "stream",
     "text": [
      "\n",
      "\n",
      "94545 - This business is a vending machine company, and lists its adsress as \"VARIOUS LOCATIONS\", since there are presumably many machines in various locations. However, for the zip code, they might have simply put the company's zip code (which is not necessarily in SF).\n",
      "\n",
      "94602 - The Orbit Room, which is located in SF, has an actual zip code of 94102. It is possible that this zip code (94602) is simply a typo.\n",
      "\n",
      "\n"
     ]
    }
   ],
   "source": [
    "# Use this cell for your explorations.\n",
    "q3d_answer = r\"\"\"\n",
    "\n",
    "94545 - This business is a vending machine company, and lists its adsress as \"VARIOUS LOCATIONS\", since there are presumably many machines in various locations. However, for the zip code, they might have simply put the company's zip code (which is not necessarily in SF).\n",
    "\n",
    "94602 - The Orbit Room, which is located in SF, has an actual zip code of 94102. It is possible that this zip code (94602) is simply a typo.\n",
    "\n",
    "\"\"\"\n",
    "\n",
    "\n",
    "# YOUR CODE HERE\n",
    "#raise NotImplementedError()\n",
    "\n",
    "print(q3d_answer)"
   ]
  },
  {
   "cell_type": "markdown",
   "metadata": {
    "deletable": false,
    "editable": false,
    "nbgrader": {
     "cell_type": "markdown",
     "checksum": "4407c7951f313b7dbcdfd9eed8bf0dd5",
     "grade": false,
     "grade_id": "cell-92663ead60440a42",
     "locked": true,
     "schema_version": 2,
     "solution": false
    }
   },
   "source": [
    "### Question 3e\n",
    "\n",
    "We often want to clean the data to improve our analysis. This cleaning might include changing values for a variable or dropping records.\n",
    "\n",
    "Let's correct 94602 to the more likely value based on your analysis.  Let's modify the derived field `zip_code` using `bus['zip_code'].str.replace` to replace 94602 with the correct value based on this business's real address that you learn by using a search engine."
   ]
  },
  {
   "cell_type": "code",
   "execution_count": 198,
   "metadata": {
    "deletable": false,
    "nbgrader": {
     "cell_type": "code",
     "checksum": "bb52365a71dbba5a390f3abb065421e8",
     "grade": false,
     "grade_id": "cell-2128312ebada9d3c",
     "locked": false,
     "schema_version": 2,
     "solution": true
    }
   },
   "outputs": [],
   "source": [
    "# WARNING: Be careful when uncommenting the line below, it will set the entire column to NaN unless you \n",
    "# put something to the right of the ellipses.\n",
    "# bus['postal_code_5'] = ... \n",
    "\n",
    "# YOUR CODE HERE\n",
    "\n",
    "bus[\"postal_code_5\"] = bus['postal_code_5'].str.replace(\"94602\", \"94102\")\n",
    "\n",
    "#raise NotImplementedError()"
   ]
  },
  {
   "cell_type": "code",
   "execution_count": 199,
   "metadata": {
    "deletable": false,
    "editable": false,
    "nbgrader": {
     "cell_type": "code",
     "checksum": "5366fbe7dadd9a1a0d643a4c17478f23",
     "grade": true,
     "grade_id": "cell-49a20368350c8866",
     "locked": true,
     "points": 1,
     "schema_version": 2,
     "solution": false
    }
   },
   "outputs": [],
   "source": [
    "assert \"94602\" not in bus['postal_code_5']"
   ]
  },
  {
   "cell_type": "markdown",
   "metadata": {
    "deletable": false,
    "editable": false,
    "nbgrader": {
     "cell_type": "markdown",
     "checksum": "3d91416c6c2605d5341a5dab91132763",
     "grade": false,
     "grade_id": "q4a",
     "locked": true,
     "schema_version": 2,
     "solution": false
    }
   },
   "source": [
    "---\n",
    "## 4: Latitude and Longitude\n",
    "\n",
    "Let's also consider latitude and longitude values and get a sense of how many are missing.\n",
    "\n",
    "### Question 4a\n",
    "\n",
    "How many businesses are missing longitude values?\n",
    "\n",
    "*Hint: Use isnull.*"
   ]
  },
  {
   "cell_type": "code",
   "execution_count": null,
   "metadata": {
    "ExecuteTime": {
     "end_time": "2018-08-18T01:21:54.132374Z",
     "start_time": "2018-08-18T01:21:54.123081Z"
    },
    "deletable": false,
    "nbgrader": {
     "cell_type": "code",
     "checksum": "3ee1335794a8dcfcfa1d346078b5cf9c",
     "grade": false,
     "grade_id": "q4a-answer",
     "locked": false,
     "schema_version": 2,
     "solution": true
    },
    "tags": [
     "student"
    ]
   },
   "outputs": [],
   "source": [
    "missing_latlongs = ...\n",
    "\n",
    "# YOUR CODE HERE\n",
    "raise NotImplementedError()"
   ]
  },
  {
   "cell_type": "markdown",
   "metadata": {
    "deletable": false,
    "editable": false,
    "nbgrader": {
     "cell_type": "markdown",
     "checksum": "d5bb1678539aba276e039bb00263f012",
     "grade": false,
     "grade_id": "cell-d5483608cecb8855",
     "locked": true,
     "schema_version": 2,
     "solution": false
    }
   },
   "source": [
    "Do not delete the empty cell below!"
   ]
  },
  {
   "cell_type": "code",
   "execution_count": null,
   "metadata": {
    "ExecuteTime": {
     "end_time": "2018-08-18T01:21:54.142865Z",
     "start_time": "2018-08-18T01:21:54.134470Z"
    },
    "deletable": false,
    "editable": false,
    "nbgrader": {
     "cell_type": "code",
     "checksum": "10e8898abda1c4bf156ccae070717624",
     "grade": true,
     "grade_id": "q4a-tests",
     "locked": true,
     "points": 1,
     "schema_version": 2,
     "solution": false
    },
    "tags": [
     "solution"
    ]
   },
   "outputs": [],
   "source": []
  },
  {
   "cell_type": "markdown",
   "metadata": {
    "deletable": false,
    "editable": false,
    "nbgrader": {
     "cell_type": "markdown",
     "checksum": "428522c07a2c582f5f91fe84a99fee61",
     "grade": false,
     "grade_id": "annex-zip",
     "locked": true,
     "schema_version": 2,
     "solution": false
    }
   },
   "source": [
    "As a somewhat contrived exercise in data manipulation, let's try to identify which zip codes are missing the most longitude values."
   ]
  },
  {
   "cell_type": "markdown",
   "metadata": {
    "deletable": false,
    "editable": false,
    "nbgrader": {
     "cell_type": "markdown",
     "checksum": "6b2b8b425335acdb728db1983326c3c0",
     "grade": false,
     "grade_id": "cell-22502e4e3bc97a90",
     "locked": true,
     "schema_version": 2,
     "solution": false
    }
   },
   "source": [
    "Throughout problems 4a and 4b, let's focus on only the \"dense\" zip codes of the city of San Francisco, listed below as `sf_dense_zip`."
   ]
  },
  {
   "cell_type": "code",
   "execution_count": null,
   "metadata": {
    "ExecuteTime": {
     "end_time": "2018-08-18T01:21:54.153495Z",
     "start_time": "2018-08-18T01:21:54.145177Z"
    },
    "deletable": false,
    "editable": false,
    "nbgrader": {
     "cell_type": "code",
     "checksum": "10256f0722dcb5571d44e8e32abde121",
     "grade": false,
     "grade_id": "annex-zip-codes",
     "locked": true,
     "schema_version": 2,
     "solution": false
    }
   },
   "outputs": [],
   "source": [
    "sf_dense_zip = [\"94102\", \"94103\", \"94104\", \"94105\", \"94107\", \"94108\",\n",
    "            \"94109\", \"94110\", \"94111\", \"94112\", \"94114\", \"94115\",\n",
    "            \"94116\", \"94117\", \"94118\", \"94121\", \"94122\", \"94123\", \n",
    "            \"94124\", \"94127\", \"94131\", \"94132\", \"94133\", \"94134\"]"
   ]
  },
  {
   "cell_type": "markdown",
   "metadata": {
    "deletable": false,
    "editable": false,
    "nbgrader": {
     "cell_type": "markdown",
     "checksum": "f2e345a1f67c7455061e72f1445ff2a5",
     "grade": false,
     "grade_id": "cell-04deef019a758f65",
     "locked": true,
     "schema_version": 2,
     "solution": false
    }
   },
   "source": [
    "In the cell below, create a series where the index is `postal_code_5`, and the value is the number of businesses with missing longitudes in that zip code. Your series should be in descending order. Only businesses from `sf_dense_zip` should be included.\n",
    "\n",
    "For example, 94110 should be at the top of the series, with the value 294.\n",
    "\n",
    "*Hint: Start by making a new dataframe called `bus_sf` that only has businesses from `sf_dense_zip`.\n",
    "\n",
    "*Hint: Create a custom function to compute the number of null entries in a series, and use this function with the `agg` method.*"
   ]
  },
  {
   "cell_type": "code",
   "execution_count": null,
   "metadata": {
    "deletable": false,
    "nbgrader": {
     "cell_type": "code",
     "checksum": "ff033ccd98f2c6156a799787f0fb9b9d",
     "grade": false,
     "grade_id": "cell-acf341c6f3ee2e77",
     "locked": false,
     "schema_version": 2,
     "solution": true
    }
   },
   "outputs": [],
   "source": [
    "num_missing_in_each_zip = ...\n",
    "\n",
    "# YOUR CODE HERE\n",
    "raise NotImplementedError()"
   ]
  },
  {
   "cell_type": "markdown",
   "metadata": {
    "deletable": false,
    "editable": false,
    "nbgrader": {
     "cell_type": "markdown",
     "checksum": "ace798cbfd8f6ed90e8e767f0aa43a5c",
     "grade": false,
     "grade_id": "cell-987050a5a2a2c01d",
     "locked": true,
     "schema_version": 2,
     "solution": false
    }
   },
   "source": [
    "Do not edit the empty cell below."
   ]
  },
  {
   "cell_type": "code",
   "execution_count": null,
   "metadata": {
    "deletable": false,
    "editable": false,
    "nbgrader": {
     "cell_type": "code",
     "checksum": "5469d69ad4556339c82e49f8ee110e9e",
     "grade": true,
     "grade_id": "cell-447acda0ad48397b",
     "locked": true,
     "points": 1,
     "schema_version": 2,
     "solution": false
    }
   },
   "outputs": [],
   "source": []
  },
  {
   "cell_type": "markdown",
   "metadata": {
    "deletable": false,
    "editable": false,
    "nbgrader": {
     "cell_type": "markdown",
     "checksum": "347b56391f35459d5483c5bb6c9044a5",
     "grade": false,
     "grade_id": "q4b",
     "locked": true,
     "schema_version": 2,
     "solution": false
    }
   },
   "source": [
    "### Question 4b\n",
    "\n",
    "In question 4a, we counted the number of null values per zip code. Let's now count the proportion of null values.\n",
    "\n",
    "Create a new dataframe of counts of the null and proportion of null values, storing the result in `fraction_missing_df`. It should have an index called `postal_code_5` and should also have 3 columns:\n",
    "\n",
    "1. `null count`: The number of missing values for the zip code.\n",
    "2. `not null count`: The number of present values for the zip code.\n",
    "3. `fraction null`: The fraction of values that are null for the zip code.\n",
    "\n",
    "Your data frame should be sorted by the fraction null in descending order.\n",
    "\n",
    "Recommended approach: Build three series with the appropriate names and data and then combine them into a dataframe. This will require some new syntax you may not have seen. You already have code from question 4a that computes the `null count` series.\n",
    "\n",
    "To pursue this recommended approach, you might find these two functions useful:\n",
    "\n",
    "* `rename`: Renames the values of a series.\n",
    "* `pd.concat`: Can be used to combine a list of Series into a dataframe. Example: `pd.concat([s1, s2, s3], axis=1)` will combine series 1, 2, and 3 into a dataframe.\n",
    "\n",
    "*Hint: You can use the divison operator to compute the ratio of two series.*\n",
    "\n",
    "*Hint: The ~ operator can invert a binary array. Or alternately, the `notnull` method can be used to create a binary array from a series.*\n",
    "\n",
    "*Note: An alternate approach is to create three aggregation functions as pass them in a list to the `agg` function.*"
   ]
  },
  {
   "cell_type": "code",
   "execution_count": null,
   "metadata": {
    "deletable": false,
    "nbgrader": {
     "cell_type": "code",
     "checksum": "79152baabcdce56e1655d3c1444062e7",
     "grade": false,
     "grade_id": "q4b-answer",
     "locked": false,
     "schema_version": 2,
     "solution": true
    }
   },
   "outputs": [],
   "source": [
    "fraction_missing_df = ...\n",
    "\n",
    "# YOUR CODE HERE\n",
    "raise NotImplementedError()"
   ]
  },
  {
   "cell_type": "markdown",
   "metadata": {
    "deletable": false,
    "editable": false,
    "nbgrader": {
     "cell_type": "markdown",
     "checksum": "070f9b3dcf8f152e0234ed4834f13952",
     "grade": false,
     "grade_id": "do-not-edit-5",
     "locked": true,
     "schema_version": 2,
     "solution": false
    }
   },
   "source": [
    "Do not edit the empty cell below."
   ]
  },
  {
   "cell_type": "code",
   "execution_count": null,
   "metadata": {
    "ExecuteTime": {
     "end_time": "2018-08-18T01:21:54.204513Z",
     "start_time": "2018-08-18T01:21:54.186968Z"
    },
    "deletable": false,
    "editable": false,
    "nbgrader": {
     "cell_type": "code",
     "checksum": "760832c82aadb50e782ec9089a191a54",
     "grade": true,
     "grade_id": "q4b-tests",
     "locked": true,
     "points": 3,
     "schema_version": 2,
     "solution": false
    },
    "tags": [
     "solution"
    ]
   },
   "outputs": [],
   "source": []
  },
  {
   "cell_type": "markdown",
   "metadata": {
    "deletable": false,
    "editable": false,
    "nbgrader": {
     "cell_type": "markdown",
     "checksum": "362796f9106152ed01a3379a05162c8a",
     "grade": false,
     "grade_id": "summary-business",
     "locked": true,
     "schema_version": 2,
     "solution": false
    }
   },
   "source": [
    "## Summary of the Business Data\n",
    "\n",
    "Before we move on to explore the other data, let's take stock of what we have learned and the implications of our findings on future analysis. \n",
    "\n",
    "* We found that the business id is unique across records and so we may be able to use it as a key in joining tables. \n",
    "* We found that there are many errors with the zip codes. As a result, we may want to drop the records with zip codes outside of San Francisco or to treat them differently. For some of the bad values, we could take the time to look up the restaurant address online and fix these errors.   \n",
    "* We found that there are a huge number of missing longitude (and latitude) values. Fixing would require a lot of work, but could in principle be automated for business with well formed addresses. "
   ]
  },
  {
   "cell_type": "markdown",
   "metadata": {
    "deletable": false,
    "editable": false,
    "nbgrader": {
     "cell_type": "markdown",
     "checksum": "4649bec66c892adbcb0ce8bc9dd94dcf",
     "grade": false,
     "grade_id": "q5a",
     "locked": true,
     "schema_version": 2,
     "solution": false
    }
   },
   "source": [
    "---\n",
    "## 5: Investigate the Inspection Data\n",
    "\n",
    "Let's now turn to the inspection DataFrame. Earlier, we found that `ins` has 4 columns named `business_id`, `score`, `date` and `type`.  In this section, we determine the granularity of `ins` and investigate the kinds of information provided for the inspections. "
   ]
  },
  {
   "cell_type": "markdown",
   "metadata": {
    "deletable": false,
    "editable": false,
    "nbgrader": {
     "cell_type": "markdown",
     "checksum": "5d6dd7e18e409a7eb18fc25cb9c471a8",
     "grade": false,
     "grade_id": "cell-174ed23c543ad9da",
     "locked": true,
     "schema_version": 2,
     "solution": false
    }
   },
   "source": [
    "Let's start by looking again at the first 5 rows of `ins` to see what we're working with."
   ]
  },
  {
   "cell_type": "code",
   "execution_count": null,
   "metadata": {
    "deletable": false,
    "editable": false,
    "nbgrader": {
     "cell_type": "code",
     "checksum": "5b416af971756b3f078d4e2ae8f2fda2",
     "grade": false,
     "grade_id": "cell-f0fbe724a2783e33",
     "locked": true,
     "schema_version": 2,
     "solution": false
    }
   },
   "outputs": [],
   "source": [
    "ins.head(5)"
   ]
  },
  {
   "cell_type": "markdown",
   "metadata": {
    "deletable": false,
    "editable": false,
    "nbgrader": {
     "cell_type": "markdown",
     "checksum": "29b4e08490e7007bed1b484261f59293",
     "grade": false,
     "grade_id": "cell-84f5d3684c7b6a66",
     "locked": true,
     "schema_version": 2,
     "solution": false
    }
   },
   "source": [
    "### Question 5a\n",
    "From calling `head`, we know that each row in this table corresponds to the inspection of a single business. Let's get a sense of the total number of inspections conducted, as well as the total number of unique businesses that occur in the dataset."
   ]
  },
  {
   "cell_type": "code",
   "execution_count": null,
   "metadata": {
    "ExecuteTime": {
     "end_time": "2018-08-18T01:21:54.210570Z",
     "start_time": "2018-08-18T01:21:54.206688Z"
    },
    "deletable": false,
    "nbgrader": {
     "cell_type": "code",
     "checksum": "a773469df58397b2fbeaeb23fbbf0538",
     "grade": false,
     "grade_id": "q5a-answer",
     "locked": false,
     "schema_version": 2,
     "solution": true
    },
    "tags": [
     "student"
    ]
   },
   "outputs": [],
   "source": [
    "# The number of rows in ins\n",
    "rows_in_table = ...\n",
    "\n",
    "# The number of unique business IDs in ins.\n",
    "unique_ins_ids = ...\n",
    "\n",
    "# YOUR CODE HERE\n",
    "raise NotImplementedError()"
   ]
  },
  {
   "cell_type": "markdown",
   "metadata": {
    "deletable": false,
    "editable": false,
    "nbgrader": {
     "cell_type": "markdown",
     "checksum": "fd59e633da1af85ba4475f7a43bfe23d",
     "grade": false,
     "grade_id": "cell-b8ddcdb777d04982",
     "locked": true,
     "schema_version": 2,
     "solution": false
    }
   },
   "source": [
    "Do not delete the empty cell below!"
   ]
  },
  {
   "cell_type": "code",
   "execution_count": null,
   "metadata": {
    "ExecuteTime": {
     "end_time": "2018-08-18T01:21:54.220679Z",
     "start_time": "2018-08-18T01:21:54.212633Z"
    },
    "deletable": false,
    "editable": false,
    "nbgrader": {
     "cell_type": "code",
     "checksum": "5f4b8e5a49b796b2463fdde9958000d2",
     "grade": true,
     "grade_id": "q5a-tests",
     "locked": true,
     "points": 1,
     "schema_version": 2,
     "solution": false
    }
   },
   "outputs": [],
   "source": []
  },
  {
   "cell_type": "markdown",
   "metadata": {
    "deletable": false,
    "editable": false,
    "nbgrader": {
     "cell_type": "markdown",
     "checksum": "c2ad7d6509f17ffb711b48725329bace",
     "grade": false,
     "grade_id": "cell-160dfa10f86e78ff",
     "locked": true,
     "schema_version": 2,
     "solution": false
    }
   },
   "source": [
    "As you should have seen above, we have an average of roughly 3 inspections per business."
   ]
  },
  {
   "cell_type": "markdown",
   "metadata": {
    "deletable": false,
    "editable": false,
    "nbgrader": {
     "cell_type": "markdown",
     "checksum": "379e81cf7e462b9d59fed4b04ec44dd9",
     "grade": false,
     "grade_id": "q5b",
     "locked": true,
     "schema_version": 2,
     "solution": false
    }
   },
   "source": [
    "### Question 5b\n",
    "\n",
    "Next, we examine the Series in the `ins` dataframe called `type`. From examining the first few rows of `ins`, we see that `type` is a string and one of its values is 'routine', presumably for a routine inspection. What values does `type` take on? How many occurrences of each value is in the DataFrame? What are the implications for further analysis? For this problem, you need only fill in the string with a description; there's no specific dataframe or series that you need to create."
   ]
  },
  {
   "cell_type": "code",
   "execution_count": null,
   "metadata": {
    "ExecuteTime": {
     "end_time": "2018-08-18T01:21:54.233970Z",
     "start_time": "2018-08-18T01:21:54.222908Z"
    },
    "deletable": false,
    "nbgrader": {
     "cell_type": "code",
     "checksum": "e9368907ad62ba57f514f53809162c95",
     "grade": true,
     "grade_id": "q5b-answer",
     "locked": false,
     "points": 1,
     "schema_version": 2,
     "solution": true
    },
    "tags": [
     "student",
     "written"
    ]
   },
   "outputs": [],
   "source": [
    "q5b_answer = r\"\"\"\n",
    "\n",
    "Put your answer here, replacing this text. Do not take into account the ### YOUR CODE HERE below\n",
    "\n",
    "\"\"\"\n",
    "\n",
    "# YOUR CODE HERE\n",
    "raise NotImplementedError()\n",
    "\n",
    "print(q5b_answer)"
   ]
  },
  {
   "cell_type": "markdown",
   "metadata": {
    "deletable": false,
    "editable": false,
    "nbgrader": {
     "cell_type": "markdown",
     "checksum": "ccfb90ad98c7e678348a320321062111",
     "grade": false,
     "grade_id": "q5c",
     "locked": true,
     "schema_version": 2,
     "solution": false
    }
   },
   "source": [
    "### Question 5c\n",
    "\n",
    "In this question, we're going to try to figure out what years the data spans. Unfortunately, the dates in our file are formatted as strings such as `20160503`, which are a little tricky to interpret. The ideal solution for this problem is to modify our dates so that they are in an appropriate format for analysis. \n",
    "\n",
    "In the cell below, we attempt to add a new column to `ins` called `new_date` which contains the `date` stored as a datetime object. This calls the `pd.to_datetime` method, which converts a series of string representations of dates (and/or times) to a series containing a datetime object."
   ]
  },
  {
   "cell_type": "code",
   "execution_count": null,
   "metadata": {
    "deletable": false,
    "editable": false,
    "nbgrader": {
     "cell_type": "code",
     "checksum": "42f7615c6c2b19c1ae984d742e29899c",
     "grade": false,
     "grade_id": "cell-ef5885d023fc290e",
     "locked": true,
     "schema_version": 2,
     "solution": false
    }
   },
   "outputs": [],
   "source": [
    "ins['new_date'] = pd.to_datetime(ins['date'])\n",
    "ins.head(5)"
   ]
  },
  {
   "cell_type": "markdown",
   "metadata": {
    "deletable": false,
    "editable": false,
    "nbgrader": {
     "cell_type": "markdown",
     "checksum": "9eb019b636d6328286093f3ca5ffcca1",
     "grade": false,
     "grade_id": "cell-d48dfa6ba214c40f",
     "locked": true,
     "schema_version": 2,
     "solution": false
    }
   },
   "source": [
    "As you'll see, the resulting `new_date` column doesn't make any sense. This is because the default behavior of the `to_datetime()` method does not properly process the passed string. We can fix this by telling `to_datetime` how to do its job by providing a format string."
   ]
  },
  {
   "cell_type": "code",
   "execution_count": null,
   "metadata": {
    "deletable": false,
    "editable": false,
    "nbgrader": {
     "cell_type": "code",
     "checksum": "b16608a6cfbd3f6135a3aa7c23ef9572",
     "grade": false,
     "grade_id": "cell-574b120d333a379d",
     "locked": true,
     "schema_version": 2,
     "solution": false
    }
   },
   "outputs": [],
   "source": [
    "ins['new_date'] = pd.to_datetime(ins['date'], format='%Y%m%d')\n",
    "ins.head(5)"
   ]
  },
  {
   "cell_type": "markdown",
   "metadata": {
    "deletable": false,
    "editable": false,
    "nbgrader": {
     "cell_type": "markdown",
     "checksum": "fa3e3290ab161a2a0715f9b89d1d9fb5",
     "grade": false,
     "grade_id": "cell-1e743520b4c12c5e",
     "locked": true,
     "schema_version": 2,
     "solution": false
    }
   },
   "source": [
    "This is still not ideal for our analysis, so we'll add one more column that is just equal to the year by using the `dt.year` property of the new series we just created."
   ]
  },
  {
   "cell_type": "code",
   "execution_count": null,
   "metadata": {
    "deletable": false,
    "editable": false,
    "nbgrader": {
     "cell_type": "code",
     "checksum": "06d74ce7bd7f85e1b1a9f5688aece18c",
     "grade": false,
     "grade_id": "cell-e64451846eeb632e",
     "locked": true,
     "schema_version": 2,
     "solution": false
    }
   },
   "outputs": [],
   "source": [
    "ins['year'] = ins['new_date'].dt.year\n",
    "ins.head(5)"
   ]
  },
  {
   "cell_type": "markdown",
   "metadata": {
    "deletable": false,
    "editable": false,
    "nbgrader": {
     "cell_type": "markdown",
     "checksum": "94592c38b72844797245c242ef91cd1e",
     "grade": false,
     "grade_id": "q5d",
     "locked": true,
     "schema_version": 2,
     "solution": false
    },
    "tags": [
     "written"
    ]
   },
   "source": [
    "Now that we have this handy `year` column, we can try to understand our data better.\n",
    "\n",
    "What range of years is covered in this data set? Are there roughly the same number of inspections each year? Provide your answer in text only."
   ]
  },
  {
   "cell_type": "code",
   "execution_count": null,
   "metadata": {
    "ExecuteTime": {
     "end_time": "2018-08-18T01:21:54.296957Z",
     "start_time": "2018-08-18T01:21:54.289662Z"
    },
    "deletable": false,
    "nbgrader": {
     "cell_type": "code",
     "checksum": "3ae8fc3f14aecbafc1bd7dc4f64e95ab",
     "grade": true,
     "grade_id": "q5c-answer",
     "locked": false,
     "points": 1,
     "schema_version": 2,
     "solution": true
    },
    "tags": [
     "student",
     "written"
    ]
   },
   "outputs": [],
   "source": [
    "q5c_answer = r\"\"\"\n",
    "\n",
    "Put your answer here, replacing this text. Do not take into account the ### YOUR CODE HERE below\n",
    "\n",
    "\"\"\"\n",
    "\n",
    "# YOUR CODE HERE\n",
    "raise NotImplementedError()\n",
    "\n",
    "print(q5c_answer)"
   ]
  },
  {
   "cell_type": "markdown",
   "metadata": {
    "deletable": false,
    "editable": false,
    "nbgrader": {
     "cell_type": "markdown",
     "checksum": "f9fb527fe638a42afe7c52be9146b655",
     "grade": false,
     "grade_id": "q6a",
     "locked": true,
     "schema_version": 2,
     "solution": false
    }
   },
   "source": [
    "---\n",
    "## 6: Explore inspection score"
   ]
  },
  {
   "cell_type": "markdown",
   "metadata": {
    "deletable": false,
    "editable": false,
    "nbgrader": {
     "cell_type": "markdown",
     "checksum": "be1979a33ddbbee202777f03b91dcd93",
     "grade": false,
     "grade_id": "inspections-focus",
     "locked": true,
     "schema_version": 2,
     "solution": false
    }
   },
   "source": [
    "### Question 6a\n",
    "Let's look at the distribution of scores. As we saw before when we called `head` on this data, inspection scores appear to be integer values. The discreteness of this variable means that we can use a barplot to visualize the distribution of the inspection score. Find the counts of the number of inspections for each score. Specifically, create a series in `scoreCts` where the index is the score and the value is the number of times that score was given.\n",
    "\n",
    "Then make a bar plot of these counts. It should look like the image below. It does not need to look exactly the same, but it should be fairly close.\n",
    "\n",
    "<img src=\"hist.png\" width=400>\n"
   ]
  },
  {
   "cell_type": "code",
   "execution_count": null,
   "metadata": {
    "ExecuteTime": {
     "end_time": "2018-08-18T01:21:54.309085Z",
     "start_time": "2018-08-18T01:21:54.299128Z"
    },
    "deletable": false,
    "nbgrader": {
     "cell_type": "code",
     "checksum": "edac94ced10efef8ee39155ac7f6b5ae",
     "grade": true,
     "grade_id": "inspections-focus-code",
     "locked": false,
     "points": 2,
     "schema_version": 2,
     "solution": true
    }
   },
   "outputs": [],
   "source": [
    "scoreCts = ...\n",
    "\n",
    "# YOUR CODE HERE\n",
    "raise NotImplementedError()\n",
    "\n",
    "#plt.show()"
   ]
  },
  {
   "cell_type": "markdown",
   "metadata": {
    "deletable": false,
    "editable": false,
    "nbgrader": {
     "cell_type": "markdown",
     "checksum": "9750fffe9633e73fa9ac25d64b7106df",
     "grade": false,
     "grade_id": "q6b",
     "locked": true,
     "schema_version": 2,
     "solution": false
    },
    "tags": [
     "written"
    ]
   },
   "source": [
    "### Question 6b\n",
    "\n",
    "Describe the qualities of the distribution of the inspections scores based on your bar plot. Consider the mode(s), symmetry, tails, gaps, and anamolous values. Are there any unusual features of this distribution? What do your observations imply about the scores?"
   ]
  },
  {
   "cell_type": "code",
   "execution_count": null,
   "metadata": {
    "ExecuteTime": {
     "end_time": "2018-08-18T01:21:54.514679Z",
     "start_time": "2018-08-18T01:21:54.511225Z"
    },
    "deletable": false,
    "nbgrader": {
     "cell_type": "code",
     "checksum": "6915549f4df62a4c2809704d817430c1",
     "grade": true,
     "grade_id": "q6b-answer",
     "locked": false,
     "points": 3,
     "schema_version": 2,
     "solution": true
    },
    "tags": [
     "student",
     "written"
    ]
   },
   "outputs": [],
   "source": [
    "q6b_answer = r\"\"\"\n",
    "\n",
    "Put your answer here, replacing this text. Do not take into account the ### YOUR CODE HERE below\n",
    "\n",
    "\"\"\"\n",
    "\n",
    "# YOUR CODE HERE\n",
    "raise NotImplementedError()\n",
    "\n",
    "print(q6b_answer)"
   ]
  },
  {
   "cell_type": "markdown",
   "metadata": {
    "deletable": false,
    "editable": false,
    "nbgrader": {
     "cell_type": "markdown",
     "checksum": "c1d73e16bbdb278423368f5693739a4b",
     "grade": false,
     "grade_id": "cell-5015c9badefcef07",
     "locked": true,
     "schema_version": 2,
     "solution": false
    }
   },
   "source": [
    "### Question 6c"
   ]
  },
  {
   "cell_type": "markdown",
   "metadata": {
    "deletable": false,
    "editable": false,
    "nbgrader": {
     "cell_type": "markdown",
     "checksum": "5577492653f30f19eb3d618865c88550",
     "grade": false,
     "grade_id": "cell-c84c79731d73d13c",
     "locked": true,
     "schema_version": 2,
     "solution": false
    }
   },
   "source": [
    "Let's figure out which restaurants had the worst scores ever. Let's start by creating a new dataframe called `ins_named`. It should be exactly the same as `ins`, except that it should have the name and address of every business, as determined by the `bus` dataframe. If a `business_id` in `ins` does not exist in `bus`, the name and address should be given as NaN.\n",
    "\n",
    "*Hint: Use the merge method to join the `ins` dataframe with the appropriate portion of the `bus` dataframe.*"
   ]
  },
  {
   "cell_type": "code",
   "execution_count": null,
   "metadata": {
    "deletable": false,
    "nbgrader": {
     "cell_type": "code",
     "checksum": "fca5d71d742e5f2efa2d54d96659d1f6",
     "grade": false,
     "grade_id": "cell-74ff1f795567e724",
     "locked": false,
     "schema_version": 2,
     "solution": true
    }
   },
   "outputs": [],
   "source": [
    "ins_named = ...\n",
    "\n",
    "# YOUR CODE HERE\n",
    "raise NotImplementedError()"
   ]
  },
  {
   "cell_type": "markdown",
   "metadata": {
    "deletable": false,
    "editable": false,
    "nbgrader": {
     "cell_type": "markdown",
     "checksum": "f9d9df737450d1ae8b24eb15feaf27fb",
     "grade": false,
     "grade_id": "cell-21208e1c9459aaa7",
     "locked": true,
     "schema_version": 2,
     "solution": false
    }
   },
   "source": [
    "Using this data frame, identify the restaurant with the lowest inspection scores ever. Optionally: head to yelp.com and look up the reviews page for this restaurant. Copy and paste anything interesting you want to share."
   ]
  },
  {
   "cell_type": "code",
   "execution_count": null,
   "metadata": {
    "deletable": false,
    "nbgrader": {
     "cell_type": "code",
     "checksum": "a6f425b2b64129f1e6203c2d62d8cf4c",
     "grade": true,
     "grade_id": "cell-ffca1dd2365b327b",
     "locked": false,
     "points": 3,
     "schema_version": 2,
     "solution": true
    }
   },
   "outputs": [],
   "source": [
    "q6c_answer = r\"\"\"\n",
    "\n",
    "Put your answer here, replacing this text. Do not take into account the ### YOUR CODE HERE below\n",
    "\n",
    "\"\"\"\n",
    "\n",
    "# YOUR CODE HERE\n",
    "raise NotImplementedError()\n",
    "\n",
    "print(q6c_answer)"
   ]
  },
  {
   "cell_type": "markdown",
   "metadata": {
    "deletable": false,
    "editable": false,
    "nbgrader": {
     "cell_type": "markdown",
     "checksum": "d063f5f06c5ef5b87eb73f379cf0679a",
     "grade": false,
     "grade_id": "cell-ac6ea7361824a936",
     "locked": true,
     "schema_version": 2,
     "solution": false
    }
   },
   "source": [
    "Just for fun you can also look up the restaurants with the best scores. You'll see that lots of them aren't restaurants at all!"
   ]
  },
  {
   "cell_type": "markdown",
   "metadata": {
    "deletable": false,
    "editable": false,
    "nbgrader": {
     "cell_type": "markdown",
     "checksum": "b8789afbce822ccbff372630604a9885",
     "grade": false,
     "grade_id": "cell-22a0a8f7f74f431a",
     "locked": true,
     "schema_version": 2,
     "solution": false
    }
   },
   "source": [
    "---\n",
    "## 7: Restaurant Ratings Over Time"
   ]
  },
  {
   "cell_type": "markdown",
   "metadata": {
    "deletable": false,
    "editable": false,
    "nbgrader": {
     "cell_type": "markdown",
     "checksum": "298388e96df38e9381780bc33c81913a",
     "grade": false,
     "grade_id": "cell-aa4959b7d3bcd9d7",
     "locked": true,
     "schema_version": 2,
     "solution": false
    }
   },
   "source": [
    "Let's consider various scenarios involving restaurants with multiple ratings over time."
   ]
  },
  {
   "cell_type": "markdown",
   "metadata": {
    "deletable": false,
    "editable": false,
    "nbgrader": {
     "cell_type": "markdown",
     "checksum": "a726ddcd527dd3be3b95099b79eee0e4",
     "grade": false,
     "grade_id": "cell-2ccb9a66fca2becd",
     "locked": true,
     "schema_version": 2,
     "solution": false
    }
   },
   "source": [
    "### Question 7a"
   ]
  },
  {
   "cell_type": "markdown",
   "metadata": {
    "deletable": false,
    "editable": false,
    "nbgrader": {
     "cell_type": "markdown",
     "checksum": "3bd1e122c09cd025e10649269bebd13a",
     "grade": false,
     "grade_id": "cell-2331831e448277ce",
     "locked": true,
     "schema_version": 2,
     "solution": false
    }
   },
   "source": [
    "Let's see which restaurant has had the most extreme change in their ratings. Let the \"swing\" of a restaurant be defined as the difference between its lowest and highest ever rating. If a restaurant has been reviewed fewer than two times, its swing is zero. Using whatever technique you want to use, identify the three restaurants that are tied for the maximum swing value."
   ]
  },
  {
   "cell_type": "code",
   "execution_count": null,
   "metadata": {
    "deletable": false,
    "nbgrader": {
     "cell_type": "code",
     "checksum": "2121faddd45ad70538da53cc99192320",
     "grade": true,
     "grade_id": "cell-c9669f58aa7a758b",
     "locked": false,
     "points": 2,
     "schema_version": 2,
     "solution": true
    }
   },
   "outputs": [],
   "source": [
    "q7a_answer = r\"\"\"\n",
    "\n",
    "Put your answer here, replacing this text. Do not take into account the ### YOUR CODE HERE below\n",
    "\n",
    "\"\"\"\n",
    "\n",
    "# YOUR CODE HERE\n",
    "raise NotImplementedError()\n",
    "\n",
    "print(q7a_answer)"
   ]
  },
  {
   "cell_type": "markdown",
   "metadata": {
    "deletable": false,
    "editable": false,
    "nbgrader": {
     "cell_type": "markdown",
     "checksum": "99c6f992c06d5309b595b0a778d20afd",
     "grade": false,
     "grade_id": "cell-9a9b4b1f7bb3370b",
     "locked": true,
     "schema_version": 2,
     "solution": false
    }
   },
   "source": [
    "### Question 7b\n",
    "\n",
    "To get a sense of the number of times each restaurant has been inspected, create a multi-indexed dataframe called `inspections_by_id_and_year` where each row corresponds to data about a given business in a single year, and there is a single data column named `count` that represents the number of inspections for that business in that year. The first index in the MultiIndex should be on `business_id`, and the second should be on `year`.\n",
    "\n",
    "An example row in this dataframe might look tell you that business_id is 573, year is 2017, and count is 4.\n",
    "\n",
    "*Hint: Use groupby to group based on both the `business_id` and the `year`.*\n",
    "\n",
    "*Hint: Use rename to change the name of the column to `count`.*"
   ]
  },
  {
   "cell_type": "code",
   "execution_count": null,
   "metadata": {
    "deletable": false,
    "nbgrader": {
     "cell_type": "code",
     "checksum": "2c9f5dbd9cc62479306ec6d1577c72a7",
     "grade": false,
     "grade_id": "cell-4fc0d1651b6e1c59",
     "locked": false,
     "schema_version": 2,
     "solution": true
    }
   },
   "outputs": [],
   "source": [
    "inspections_by_id_and_year = ...\n",
    "\n",
    "# YOUR CODE HERE\n",
    "raise NotImplementedError()"
   ]
  },
  {
   "cell_type": "markdown",
   "metadata": {
    "deletable": false,
    "editable": false,
    "nbgrader": {
     "cell_type": "markdown",
     "checksum": "5d275f1aa316ef2073df76244348190a",
     "grade": false,
     "grade_id": "cell-4063371614e685a7",
     "locked": true,
     "schema_version": 2,
     "solution": false
    }
   },
   "source": [
    "Do not edit the empty cell below!"
   ]
  },
  {
   "cell_type": "code",
   "execution_count": null,
   "metadata": {
    "deletable": false,
    "editable": false,
    "nbgrader": {
     "cell_type": "code",
     "checksum": "32eb09121eac409566e165347d53189e",
     "grade": true,
     "grade_id": "cell-c2ed9461283cbce1",
     "locked": true,
     "points": 2,
     "schema_version": 2,
     "solution": false
    }
   },
   "outputs": [],
   "source": []
  },
  {
   "cell_type": "markdown",
   "metadata": {
    "deletable": false,
    "editable": false,
    "nbgrader": {
     "cell_type": "markdown",
     "checksum": "9a8eb92771043d7d45881973bd331acc",
     "grade": false,
     "grade_id": "cell-bea99093d7cad880",
     "locked": true,
     "schema_version": 2,
     "solution": false
    }
   },
   "source": [
    "You should see that some businesses are inspected many times in a single year. Let's get a sense of the distribution of the counts of the number of inspections by calling `value_counts`. There are quite a lot of businesses with 2 inspections in the same year, so it seems like it might be interesting to see what we can learn from such businesses."
   ]
  },
  {
   "cell_type": "code",
   "execution_count": null,
   "metadata": {
    "deletable": false,
    "editable": false,
    "nbgrader": {
     "cell_type": "code",
     "checksum": "2cf6686aeb94449116c15ab3656086f7",
     "grade": false,
     "grade_id": "cell-7389be51062a967b",
     "locked": true,
     "schema_version": 2,
     "solution": false
    }
   },
   "outputs": [],
   "source": [
    "inspections_by_id_and_year['count'].value_counts()"
   ]
  },
  {
   "cell_type": "markdown",
   "metadata": {
    "deletable": false,
    "editable": false,
    "nbgrader": {
     "cell_type": "markdown",
     "checksum": "e30c71143b58d50b02805c15795baf28",
     "grade": false,
     "grade_id": "q7c",
     "locked": true,
     "schema_version": 2,
     "solution": false
    }
   },
   "source": [
    "### Question 7c\n",
    "\n",
    "What's the relationship between the first and second scores for the businesses with 2 inspections in a year? Do they typically improve? For simplicity, let's focus on only 2016 for this problem.\n",
    "\n",
    "First, make a dataframe called `scores_pairs_by_business` indexed by `business_id` (containing only businesses with exactly 2 inspections in 2016).  This dataframe contains the field `score_pair` consisting of the score pairs ordered chronologically  `[first_score, second_score]`. \n",
    "\n",
    "Plot these scores. That is, make a scatter plot to display these pairs of scores. Include on the plot a reference line with slope 1. \n",
    "\n",
    "You may find the functions `sort_values`, `groupby`, `filter` and `agg` helpful, though not all necessary. \n",
    "\n",
    "The first few rows of the resulting table should look something like:\n",
    "\n",
    "<table border=\"1\" class=\"dataframe\">\n",
    "  <thead>\n",
    "    <tr style=\"text-align: right;\">\n",
    "      <th></th>\n",
    "      <th>score_pair</th>\n",
    "    </tr>\n",
    "    <tr>\n",
    "      <th>business_id</th>\n",
    "      <th></th>\n",
    "    </tr>\n",
    "  </thead>\n",
    "  <tbody>\n",
    "    <tr>\n",
    "      <th>24</th>\n",
    "      <td>[96, 98]</td>\n",
    "    </tr>\n",
    "    <tr>\n",
    "      <th>45</th>\n",
    "      <td>[78, 84]</td>\n",
    "    </tr>\n",
    "    <tr>\n",
    "      <th>66</th>\n",
    "      <td>[98, 100]</td>\n",
    "    </tr>\n",
    "    <tr>\n",
    "      <th>67</th>\n",
    "      <td>[87, 94]</td>\n",
    "    </tr>\n",
    "    <tr>\n",
    "      <th>76</th>\n",
    "      <td>[100, 98]</td>\n",
    "    </tr>\n",
    "  </tbody>\n",
    "</table>\n",
    "\n",
    "The scatter plot shoud look like this:\n",
    "\n",
    "<img src=\"scat.png\" width=400>\n",
    "*Note: Each score pair must be a list type; numpy arrays will not pass the autograder.*\n",
    "\n",
    "*Hint: Use the `filter` method from lecture 3 to create a new dataframe that only contains restaurants that received exactly 2 inspections.*\n",
    "\n",
    "*Hint: Our answer is a single line of code that uses `sort_values`, `groupby`, `filter`, `groupby`, `agg`, and `rename` in that order. Your answer does not need to use these exact methods.*"
   ]
  },
  {
   "cell_type": "code",
   "execution_count": null,
   "metadata": {
    "ExecuteTime": {
     "end_time": "2018-08-18T01:21:57.055537Z",
     "start_time": "2018-08-18T01:21:54.541279Z"
    },
    "deletable": false,
    "nbgrader": {
     "cell_type": "code",
     "checksum": "5e4bd0e0053afc93d2fc06375661e0b2",
     "grade": false,
     "grade_id": "q7c-answer",
     "locked": false,
     "schema_version": 2,
     "solution": true
    },
    "tags": [
     "student"
    ]
   },
   "outputs": [],
   "source": [
    "scores_pairs_by_business = ...\n",
    "\n",
    "# For some odd reason, we can't just pass `list` into `.agg` so we define this function:\n",
    "# You may or may not use it\n",
    "\n",
    "ins2016 = ins[ins['year'] == 2016]\n",
    "\n",
    "def group_to_list(group):\n",
    "    return list(group)\n",
    "\n",
    "# YOUR CODE HERE\n",
    "raise NotImplementedError()"
   ]
  },
  {
   "cell_type": "code",
   "execution_count": null,
   "metadata": {
    "ExecuteTime": {
     "end_time": "2018-08-18T01:21:59.329515Z",
     "start_time": "2018-08-18T01:21:57.059537Z"
    },
    "deletable": false,
    "editable": false,
    "nbgrader": {
     "cell_type": "code",
     "checksum": "1168f1a5ae8cb8a690a2579446448bc2",
     "grade": true,
     "grade_id": "q7c-tests",
     "locked": true,
     "points": 4,
     "schema_version": 2,
     "solution": false
    },
    "tags": [
     "solution"
    ]
   },
   "outputs": [],
   "source": [
    "assert isinstance(scores_pairs_by_business, pd.DataFrame)\n",
    "assert scores_pairs_by_business.columns == ['score_pair']"
   ]
  },
  {
   "cell_type": "code",
   "execution_count": null,
   "metadata": {
    "ExecuteTime": {
     "end_time": "2018-08-18T01:21:59.555721Z",
     "start_time": "2018-08-18T01:21:59.331772Z"
    },
    "deletable": false,
    "nbgrader": {
     "cell_type": "code",
     "checksum": "dec67b6b736a773f3b35f818465fa00b",
     "grade": true,
     "grade_id": "q7c-plot-answer",
     "locked": false,
     "points": 2,
     "schema_version": 2,
     "solution": true
    },
    "tags": [
     "student",
     "written"
    ]
   },
   "outputs": [],
   "source": [
    "# Create scatter plot here.\n",
    "\n",
    "# YOUR CODE HERE\n",
    "raise NotImplementedError()"
   ]
  },
  {
   "cell_type": "markdown",
   "metadata": {
    "deletable": false,
    "editable": false,
    "nbgrader": {
     "cell_type": "markdown",
     "checksum": "0e33837a0891be69a318e85fa7561cb2",
     "grade": false,
     "grade_id": "q7d",
     "locked": true,
     "schema_version": 2,
     "solution": false
    }
   },
   "source": [
    "### Question 7d\n",
    "\n",
    "Another way to compare the scores from the two inspections is to examine the difference in scores. Subtract the first score from the second in `scores_pairs_by_business`. Make a histogram of these differences in the scores. We might expect these differences to be positive, indicating an improvement from the first to the second inspection.\n",
    "\n",
    "The histogram should look like this:\n",
    "\n",
    "<img src=\"hist_2.png\" width=400>\n",
    "\n",
    "*Hint: Use `second_score` and `first_score` created in the scatter plot code above.*\n",
    "\n",
    "*Hint: Convert the scores into numpy arrays to make them easier to deal with.*\n",
    "\n",
    "*Hint: Try changing the number of bins when you call plt.hist.*"
   ]
  },
  {
   "cell_type": "code",
   "execution_count": null,
   "metadata": {
    "ExecuteTime": {
     "end_time": "2018-08-18T01:21:59.739987Z",
     "start_time": "2018-08-18T01:21:59.558636Z"
    },
    "deletable": false,
    "nbgrader": {
     "cell_type": "code",
     "checksum": "01104b067bfaf62bbc72285f2f684490",
     "grade": true,
     "grade_id": "q7d-answer",
     "locked": false,
     "points": 2,
     "schema_version": 2,
     "solution": true
    },
    "tags": [
     "student",
     "written"
    ]
   },
   "outputs": [],
   "source": [
    "# Create histogram here\n",
    "# YOUR CODE HERE\n",
    "raise NotImplementedError()"
   ]
  },
  {
   "cell_type": "markdown",
   "metadata": {
    "deletable": false,
    "editable": false,
    "nbgrader": {
     "cell_type": "markdown",
     "checksum": "24d47caf1ea73e22fa389bf6249fc9e3",
     "grade": false,
     "grade_id": "q7e",
     "locked": true,
     "schema_version": 2,
     "solution": false
    }
   },
   "source": [
    "### Question 7e\n",
    "\n",
    "If a restaurant's score improves from the first to the second inspection, what do you expect to see in the scatter plot that you made in question 7c? What do you see?\n",
    "\n",
    "If a restaurant's score improves from the first to the second inspection, how would this be reflected in the histogram of the difference in the scores that you made in question 7d? What do you see?"
   ]
  },
  {
   "cell_type": "code",
   "execution_count": null,
   "metadata": {
    "ExecuteTime": {
     "end_time": "2018-08-18T01:21:59.749757Z",
     "start_time": "2018-08-18T01:21:59.743534Z"
    },
    "deletable": false,
    "nbgrader": {
     "cell_type": "code",
     "checksum": "e6936560cef84c905c3f2fbbdb8af1fb",
     "grade": true,
     "grade_id": "q7e-answer",
     "locked": false,
     "points": 3,
     "schema_version": 2,
     "solution": true
    },
    "tags": [
     "student",
     "written"
    ]
   },
   "outputs": [],
   "source": [
    "q7c_answer = r\"\"\"\n",
    "\n",
    "Put your answer here, replacing this text. Do not take into account the ###YOUR CODE HERE below.\n",
    "\n",
    "\"\"\"\n",
    "\n",
    "# YOUR CODE HERE\n",
    "raise NotImplementedError()\n",
    "\n",
    "print(q7c_answer)"
   ]
  },
  {
   "cell_type": "markdown",
   "metadata": {
    "deletable": false,
    "editable": false,
    "nbgrader": {
     "cell_type": "markdown",
     "checksum": "4ec9da9a74d4b03d7e63355137600dda",
     "grade": false,
     "grade_id": "summary-inspections",
     "locked": true,
     "schema_version": 2,
     "solution": false
    }
   },
   "source": [
    "## Summary of the Inspections Data\n",
    "\n",
    "What we have learned about the inspections data? What might be some next steps in our investigation? \n",
    "\n",
    "* We found that the records are at the inspection level and that we have inspections for multiple years.   \n",
    "* We also found that many restaurants have more than one inspection a year. \n",
    "* By joining the business and inspection data, we identified the name of the restaurant with the worst rating and optionally the names of the restaurants with the best rating.\n",
    "* We identified the restaurants that have had the largest swing in rating over time.\n",
    "* We also examined the relationship between the scores when a restaurant has multiple inspections in a year. Our findings were a bit counterintuitive and may warrant further investigation. \n"
   ]
  },
  {
   "cell_type": "markdown",
   "metadata": {
    "deletable": false,
    "editable": false,
    "nbgrader": {
     "cell_type": "markdown",
     "checksum": "ecff537759ed4eed0cf1fdb7a505a7b7",
     "grade": false,
     "grade_id": "read-only",
     "locked": true,
     "schema_version": 2,
     "solution": false
    }
   },
   "source": [
    "## Congrats !\n",
    "\n",
    "Congrats! You are finished with HW1."
   ]
  },
  {
   "cell_type": "markdown",
   "metadata": {},
   "source": [
    "## Submission\n",
    "\n",
    "You're done!\n",
    "\n",
    "Before submitting this assignment, ensure to:\n",
    "\n",
    "1. Restart the Kernel (in the menubar, select Kernel->Restart & Run All)\n",
    "2. Validate the notebook by clicking the \"Validate\" button\n",
    "\n",
    "Finally, make sure to **submit** the assignment via the Assignments tab in Datahub"
   ]
  }
 ],
 "metadata": {
  "kernelspec": {
   "display_name": "Python 3",
   "language": "python",
   "name": "python3"
  },
  "language_info": {
   "codemirror_mode": {
    "name": "ipython",
    "version": 3
   },
   "file_extension": ".py",
   "mimetype": "text/x-python",
   "name": "python",
   "nbconvert_exporter": "python",
   "pygments_lexer": "ipython3",
   "version": "3.6.4"
  }
 },
 "nbformat": 4,
 "nbformat_minor": 2
}
