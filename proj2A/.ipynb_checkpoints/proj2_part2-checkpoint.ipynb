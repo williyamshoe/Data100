{
 "cells": [
  {
   "cell_type": "markdown",
   "metadata": {},
   "source": [
    "Before you turn in the homework, make sure everything runs as expected. To do so, select **Kernel**$\\rightarrow$**Restart & Run All** in the toolbar above.  Remember to submit both on **DataHub** and **Gradescope**.\n",
    "\n",
    "Please fill in your name and include a list of your collaborators below."
   ]
  },
  {
   "cell_type": "code",
   "execution_count": 1,
   "metadata": {},
   "outputs": [],
   "source": [
    "NAME = \"William Sheu\"\n",
    "COLLABORATORS = \"\""
   ]
  },
  {
   "cell_type": "markdown",
   "metadata": {},
   "source": [
    "---"
   ]
  },
  {
   "cell_type": "markdown",
   "metadata": {
    "deletable": false,
    "editable": false,
    "nbgrader": {
     "cell_type": "markdown",
     "checksum": "c17a374ee5fca26303b97c576402bf28",
     "grade": false,
     "grade_id": "cell-776bdcdaa31aa0dd",
     "locked": true,
     "schema_version": 2,
     "solution": false
    }
   },
   "source": [
    "# Project 2: NYC Taxi Rides\n",
    "# Part 2: EDA, Visualization, Feature Engineering\n",
    "\n",
    "In this part, we will conduct EDA on the NYC Taxi dataset that we cleaned and train/validation split in part 1. We will also guide you through the engineering of some features that hopefully will help our model to accurately understand the data.\n"
   ]
  },
  {
   "cell_type": "markdown",
   "metadata": {
    "deletable": false,
    "editable": false,
    "nbgrader": {
     "cell_type": "markdown",
     "checksum": "05437286b2def4a205758bee6498ff4f",
     "grade": false,
     "grade_id": "cell-007c385238a61963",
     "locked": true,
     "schema_version": 2,
     "solution": false
    }
   },
   "source": [
    "# Imports\n",
    "\n",
    "Let us start by loading the Python libraries and custom tools we will use in this part.  "
   ]
  },
  {
   "cell_type": "code",
   "execution_count": 2,
   "metadata": {
    "ExecuteTime": {
     "end_time": "2018-11-13T01:05:48.353104Z",
     "start_time": "2018-11-13T01:05:45.920515Z"
    },
    "deletable": false,
    "editable": false,
    "nbgrader": {
     "cell_type": "code",
     "checksum": "02c8370eb48a5033364426c1af74bfcb",
     "grade": false,
     "grade_id": "cell-91e2a5cbad6e67c3",
     "locked": true,
     "schema_version": 2,
     "solution": false
    }
   },
   "outputs": [],
   "source": [
    "import pandas as pd\n",
    "import numpy as np\n",
    "import random\n",
    "import matplotlib.pyplot as plt\n",
    "import seaborn as sns\n",
    "import os\n",
    "from pathlib import Path\n",
    "\n",
    "plt.rcParams['figure.figsize'] = (12, 9)\n",
    "plt.rcParams['font.size'] = 12\n",
    "\n",
    "sns.set(style=\"whitegrid\", palette=\"muted\")\n",
    "%matplotlib inline"
   ]
  },
  {
   "cell_type": "markdown",
   "metadata": {
    "deletable": false,
    "editable": false,
    "nbgrader": {
     "cell_type": "markdown",
     "checksum": "42cb3fbc3628fc0b241ff0ff34d0efa5",
     "grade": false,
     "grade_id": "cell-a794e2ebb2ad894c",
     "locked": true,
     "schema_version": 2,
     "solution": false
    }
   },
   "source": [
    "## Loading & Formatting data\n",
    "\n",
    "The following code loads the data into a pandas DataFrame."
   ]
  },
  {
   "cell_type": "code",
   "execution_count": 3,
   "metadata": {
    "ExecuteTime": {
     "end_time": "2018-11-13T01:11:37.273635Z",
     "start_time": "2018-11-13T01:11:37.246087Z"
    },
    "deletable": false,
    "editable": false,
    "nbgrader": {
     "cell_type": "code",
     "checksum": "f56732a5dfec0ade8b6d6f8995686cd0",
     "grade": false,
     "grade_id": "cell-b8f561b21945b66a",
     "locked": true,
     "schema_version": 2,
     "solution": false
    }
   },
   "outputs": [],
   "source": [
    "# Run this cell to load the data. \n",
    "data_file = Path(\"data/part1\", \"cleaned_data.hdf\")\n",
    "train_df = pd.read_hdf(data_file, \"train\")"
   ]
  },
  {
   "cell_type": "code",
   "execution_count": 4,
   "metadata": {
    "ExecuteTime": {
     "end_time": "2018-11-13T01:05:48.678365Z",
     "start_time": "2018-11-13T01:05:48.645799Z"
    },
    "deletable": false,
    "editable": false,
    "nbgrader": {
     "cell_type": "code",
     "checksum": "40ac74b272bddb0ee03e84605baef1f5",
     "grade": false,
     "grade_id": "cell-b84e158143a48d24",
     "locked": true,
     "schema_version": 2,
     "solution": false
    }
   },
   "outputs": [
    {
     "data": {
      "text/html": [
       "<div>\n",
       "<style scoped>\n",
       "    .dataframe tbody tr th:only-of-type {\n",
       "        vertical-align: middle;\n",
       "    }\n",
       "\n",
       "    .dataframe tbody tr th {\n",
       "        vertical-align: top;\n",
       "    }\n",
       "\n",
       "    .dataframe thead th {\n",
       "        text-align: right;\n",
       "    }\n",
       "</style>\n",
       "<table border=\"1\" class=\"dataframe\">\n",
       "  <thead>\n",
       "    <tr style=\"text-align: right;\">\n",
       "      <th></th>\n",
       "      <th>record_id</th>\n",
       "      <th>VendorID</th>\n",
       "      <th>tpep_pickup_datetime</th>\n",
       "      <th>tpep_dropoff_datetime</th>\n",
       "      <th>passenger_count</th>\n",
       "      <th>trip_distance</th>\n",
       "      <th>pickup_longitude</th>\n",
       "      <th>pickup_latitude</th>\n",
       "      <th>RatecodeID</th>\n",
       "      <th>store_and_fwd_flag</th>\n",
       "      <th>...</th>\n",
       "      <th>dropoff_latitude</th>\n",
       "      <th>payment_type</th>\n",
       "      <th>fare_amount</th>\n",
       "      <th>extra</th>\n",
       "      <th>mta_tax</th>\n",
       "      <th>tip_amount</th>\n",
       "      <th>tolls_amount</th>\n",
       "      <th>improvement_surcharge</th>\n",
       "      <th>total_amount</th>\n",
       "      <th>duration</th>\n",
       "    </tr>\n",
       "  </thead>\n",
       "  <tbody>\n",
       "    <tr>\n",
       "      <th>16434</th>\n",
       "      <td>8614300</td>\n",
       "      <td>2</td>\n",
       "      <td>2016-01-21 17:37:12</td>\n",
       "      <td>2016-01-21 18:37:56</td>\n",
       "      <td>2</td>\n",
       "      <td>10.89</td>\n",
       "      <td>-73.863403</td>\n",
       "      <td>40.769432</td>\n",
       "      <td>1</td>\n",
       "      <td>N</td>\n",
       "      <td>...</td>\n",
       "      <td>40.688210</td>\n",
       "      <td>1</td>\n",
       "      <td>41.5</td>\n",
       "      <td>1.0</td>\n",
       "      <td>0.5</td>\n",
       "      <td>6.00</td>\n",
       "      <td>0.0</td>\n",
       "      <td>0.3</td>\n",
       "      <td>49.30</td>\n",
       "      <td>3644.0</td>\n",
       "    </tr>\n",
       "    <tr>\n",
       "      <th>21929</th>\n",
       "      <td>7230200</td>\n",
       "      <td>2</td>\n",
       "      <td>2016-01-29 23:22:26</td>\n",
       "      <td>2016-01-29 23:31:23</td>\n",
       "      <td>2</td>\n",
       "      <td>1.00</td>\n",
       "      <td>-74.008087</td>\n",
       "      <td>40.739365</td>\n",
       "      <td>1</td>\n",
       "      <td>N</td>\n",
       "      <td>...</td>\n",
       "      <td>40.729271</td>\n",
       "      <td>1</td>\n",
       "      <td>7.0</td>\n",
       "      <td>0.5</td>\n",
       "      <td>0.5</td>\n",
       "      <td>1.66</td>\n",
       "      <td>0.0</td>\n",
       "      <td>0.3</td>\n",
       "      <td>9.96</td>\n",
       "      <td>537.0</td>\n",
       "    </tr>\n",
       "    <tr>\n",
       "      <th>3370</th>\n",
       "      <td>9830300</td>\n",
       "      <td>2</td>\n",
       "      <td>2016-01-05 18:50:16</td>\n",
       "      <td>2016-01-05 18:56:00</td>\n",
       "      <td>2</td>\n",
       "      <td>0.56</td>\n",
       "      <td>-73.972923</td>\n",
       "      <td>40.755650</td>\n",
       "      <td>1</td>\n",
       "      <td>N</td>\n",
       "      <td>...</td>\n",
       "      <td>40.758469</td>\n",
       "      <td>1</td>\n",
       "      <td>5.0</td>\n",
       "      <td>1.0</td>\n",
       "      <td>0.5</td>\n",
       "      <td>1.00</td>\n",
       "      <td>0.0</td>\n",
       "      <td>0.3</td>\n",
       "      <td>7.80</td>\n",
       "      <td>344.0</td>\n",
       "    </tr>\n",
       "    <tr>\n",
       "      <th>21975</th>\n",
       "      <td>7251500</td>\n",
       "      <td>2</td>\n",
       "      <td>2016-01-30 00:14:34</td>\n",
       "      <td>2016-01-30 00:47:13</td>\n",
       "      <td>1</td>\n",
       "      <td>6.65</td>\n",
       "      <td>-73.992027</td>\n",
       "      <td>40.718662</td>\n",
       "      <td>1</td>\n",
       "      <td>N</td>\n",
       "      <td>...</td>\n",
       "      <td>40.661118</td>\n",
       "      <td>1</td>\n",
       "      <td>25.5</td>\n",
       "      <td>0.5</td>\n",
       "      <td>0.5</td>\n",
       "      <td>2.68</td>\n",
       "      <td>0.0</td>\n",
       "      <td>0.3</td>\n",
       "      <td>29.48</td>\n",
       "      <td>1959.0</td>\n",
       "    </tr>\n",
       "    <tr>\n",
       "      <th>13758</th>\n",
       "      <td>6168000</td>\n",
       "      <td>1</td>\n",
       "      <td>2016-01-18 13:25:24</td>\n",
       "      <td>2016-01-18 13:38:51</td>\n",
       "      <td>1</td>\n",
       "      <td>2.10</td>\n",
       "      <td>-73.953125</td>\n",
       "      <td>40.784538</td>\n",
       "      <td>1</td>\n",
       "      <td>N</td>\n",
       "      <td>...</td>\n",
       "      <td>40.760792</td>\n",
       "      <td>2</td>\n",
       "      <td>11.5</td>\n",
       "      <td>0.0</td>\n",
       "      <td>0.5</td>\n",
       "      <td>0.00</td>\n",
       "      <td>0.0</td>\n",
       "      <td>0.3</td>\n",
       "      <td>12.30</td>\n",
       "      <td>807.0</td>\n",
       "    </tr>\n",
       "  </tbody>\n",
       "</table>\n",
       "<p>5 rows × 21 columns</p>\n",
       "</div>"
      ],
      "text/plain": [
       "       record_id  VendorID tpep_pickup_datetime tpep_dropoff_datetime  \\\n",
       "16434    8614300         2  2016-01-21 17:37:12   2016-01-21 18:37:56   \n",
       "21929    7230200         2  2016-01-29 23:22:26   2016-01-29 23:31:23   \n",
       "3370     9830300         2  2016-01-05 18:50:16   2016-01-05 18:56:00   \n",
       "21975    7251500         2  2016-01-30 00:14:34   2016-01-30 00:47:13   \n",
       "13758    6168000         1  2016-01-18 13:25:24   2016-01-18 13:38:51   \n",
       "\n",
       "       passenger_count  trip_distance  pickup_longitude  pickup_latitude  \\\n",
       "16434                2          10.89        -73.863403        40.769432   \n",
       "21929                2           1.00        -74.008087        40.739365   \n",
       "3370                 2           0.56        -73.972923        40.755650   \n",
       "21975                1           6.65        -73.992027        40.718662   \n",
       "13758                1           2.10        -73.953125        40.784538   \n",
       "\n",
       "       RatecodeID store_and_fwd_flag    ...     dropoff_latitude  \\\n",
       "16434           1                  N    ...            40.688210   \n",
       "21929           1                  N    ...            40.729271   \n",
       "3370            1                  N    ...            40.758469   \n",
       "21975           1                  N    ...            40.661118   \n",
       "13758           1                  N    ...            40.760792   \n",
       "\n",
       "       payment_type  fare_amount  extra  mta_tax  tip_amount  tolls_amount  \\\n",
       "16434             1         41.5    1.0      0.5        6.00           0.0   \n",
       "21929             1          7.0    0.5      0.5        1.66           0.0   \n",
       "3370              1          5.0    1.0      0.5        1.00           0.0   \n",
       "21975             1         25.5    0.5      0.5        2.68           0.0   \n",
       "13758             2         11.5    0.0      0.5        0.00           0.0   \n",
       "\n",
       "       improvement_surcharge  total_amount  duration  \n",
       "16434                    0.3         49.30    3644.0  \n",
       "21929                    0.3          9.96     537.0  \n",
       "3370                     0.3          7.80     344.0  \n",
       "21975                    0.3         29.48    1959.0  \n",
       "13758                    0.3         12.30     807.0  \n",
       "\n",
       "[5 rows x 21 columns]"
      ]
     },
     "execution_count": 4,
     "metadata": {},
     "output_type": "execute_result"
    }
   ],
   "source": [
    "train_df.head()"
   ]
  },
  {
   "cell_type": "markdown",
   "metadata": {
    "deletable": false,
    "editable": false,
    "nbgrader": {
     "cell_type": "markdown",
     "checksum": "15bd1231ec82dba3df3c3d271112fb90",
     "grade": false,
     "grade_id": "cell-56836ce41f8ecf3d",
     "locked": true,
     "schema_version": 2,
     "solution": false
    }
   },
   "source": [
    "## 1: Data Overview \n",
    "\n",
    "As a reminder, the raw taxi data contains the following columns:\n",
    "- `recordID`: primary key of this database\n",
    "- `VendorID`: a code indicating the provider associated with the trip record\n",
    "- `passenger_count`: the number of passengers in the vehicle (driver entered value)\n",
    "- `trip_distance`: trip distance\n",
    "- `tpep_dropoff_datetime`: date and time when the meter was engaged\n",
    "- `tpep_pickup_datetime`: date and time when the meter was disengaged\n",
    "- `pickup_longitude`: the longitude where the meter was engaged\n",
    "- `pickup_latitude`: the latitude where the meter was engaged\n",
    "- `dropoff_longitude`: the longitude where the meter was disengaged\n",
    "- `dropoff_latitude`: the latitude where the meter was disengaged\n",
    "- `duration`: duration of the trip in seconds\n",
    "- `payment_type`: the payment type\n",
    "- `fare_amount`: the time-and-distance fare calculated by the meter\n",
    "- `extra`: miscellaneous extras and surcharges\n",
    "- `mta_tax`: MTA tax that is automatically triggered based on the metered rate in use\t\n",
    "- `tip_amount`: the\tamount of credit card tips, cash tips are not included\n",
    "- `tolls_amount`: amount paid for tolls\n",
    "- `improvement_surcharge`: fixed fee\n",
    "- `total_amount`: total amount paid by passengers, cash tips are not included"
   ]
  },
  {
   "cell_type": "markdown",
   "metadata": {
    "deletable": false,
    "editable": false,
    "nbgrader": {
     "cell_type": "markdown",
     "checksum": "04fa48aed6e3a30018b6acd17bca2b7c",
     "grade": false,
     "grade_id": "cell-a97d7ea0468418f6",
     "locked": true,
     "schema_version": 2,
     "solution": false
    }
   },
   "source": [
    "Let us take a closer look at the target `duration` variable. In the cell below, we plot its distribution using `sns.distplot`. This should give us an idea about whether we have some outliers in our data."
   ]
  },
  {
   "cell_type": "code",
   "execution_count": 5,
   "metadata": {
    "ExecuteTime": {
     "end_time": "2018-11-13T01:05:49.029940Z",
     "start_time": "2018-11-13T01:05:48.680867Z"
    },
    "deletable": false,
    "editable": false,
    "nbgrader": {
     "cell_type": "code",
     "checksum": "3102bdde707cdd616c967efd46a0b1b1",
     "grade": false,
     "grade_id": "q1a",
     "locked": true,
     "schema_version": 2,
     "solution": false
    }
   },
   "outputs": [
    {
     "data": {
      "image/png": "[encoded data removed]",
      "text/plain": [
       "<matplotlib.figure.Figure at 0x7f928f7727f0>"
      ]
     },
     "metadata": {},
     "output_type": "display_data"
    }
   ],
   "source": [
    "fig, ax = plt.subplots(figsize=(12, 9))\n",
    "\n",
    "# Plot the distribution of duration using sns.distplot\n",
    "# You can fill `ax=ax` to sns.distplot to plot in the ax object created above\n",
    "\n",
    "sns.distplot(train_df['duration'], ax=ax, kde=False)\n",
    "\n",
    "plt.title('Duration distribution');"
   ]
  },
  {
   "cell_type": "markdown",
   "metadata": {
    "deletable": false,
    "editable": false,
    "nbgrader": {
     "cell_type": "markdown",
     "checksum": "1bf9fb76668897996ca4c495abb885b0",
     "grade": false,
     "grade_id": "cell-91bd0711ded06b79",
     "locked": true,
     "schema_version": 2,
     "solution": false
    }
   },
   "source": [
    "As expected for a positive valued variable, we observe a skewed distribution. Note that we seem to have a handful of very long trips within our data. Use an appropriate data transformation to squeeze this highly-skewed distribution. Plot a `sns.distplot` of the transformed duration data for `train_df`."
   ]
  },
  {
   "cell_type": "code",
   "execution_count": 6,
   "metadata": {
    "ExecuteTime": {
     "end_time": "2018-11-13T01:05:49.352480Z",
     "start_time": "2018-11-13T01:05:49.032253Z"
    },
    "deletable": false,
    "editable": false,
    "nbgrader": {
     "cell_type": "code",
     "checksum": "6d77b0d55fcf89c55f4578416946564e",
     "grade": false,
     "grade_id": "q1b",
     "locked": true,
     "schema_version": 2,
     "solution": false
    }
   },
   "outputs": [
    {
     "data": {
      "image/png": "[encoded data removed]",
      "text/plain": [
       "<matplotlib.figure.Figure at 0x7f928a70f080>"
      ]
     },
     "metadata": {},
     "output_type": "display_data"
    }
   ],
   "source": [
    "fig, ax = plt.subplots(figsize=(12, 9))\n",
    "\n",
    "# Use a log transformation to squeeze the distribution\n",
    "# You can add + 1 to all values before taking the log to handle possible 0 values for distribution\n",
    "\n",
    "sns.distplot(np.log(train_df['duration'] + 1),\n",
    "             ax=ax,\n",
    "             axlabel='log(duration)',\n",
    "             kde=False)\n",
    "\n",
    "plt.title('log(duration) distribution');"
   ]
  },
  {
   "cell_type": "markdown",
   "metadata": {
    "deletable": false,
    "editable": false,
    "nbgrader": {
     "cell_type": "markdown",
     "checksum": "1faca666b7e762295b059cc8987219a0",
     "grade": false,
     "grade_id": "cell-a9758eb833d74742",
     "locked": true,
     "schema_version": 2,
     "solution": false
    }
   },
   "source": [
    "After transforming our data, we should immediately observe that we are dealing with what seems to be log-normal distribution for the target variable `duration`. We can see the behavior of shorter rides better, whereas before they were lumped in a bar near 0. This is a nice result, since it can facilitate modeling later. \n",
    "\n",
    "**Note:** Keep in mind that we want to avoid peeking at our validation data because it may introduce bias. Therefore, we will be focusing on analyzing the training data for the remainder of this notebook."
   ]
  },
  {
   "cell_type": "markdown",
   "metadata": {
    "deletable": false,
    "editable": false,
    "nbgrader": {
     "cell_type": "markdown",
     "checksum": "334393eac9eb2ebf02c855a65a25b226",
     "grade": false,
     "grade_id": "cell-28f3a72ca2ee97c8",
     "locked": true,
     "schema_version": 2,
     "solution": false
    }
   },
   "source": [
    "## 2: Date Analysis\n",
    "\n",
    "In order to understand the general pattern/trends of our taxi ride data, we will plot the number of taxi rides requested over time. Please run the following cell."
   ]
  },
  {
   "cell_type": "code",
   "execution_count": 7,
   "metadata": {
    "ExecuteTime": {
     "end_time": "2018-11-13T01:10:11.271059Z",
     "start_time": "2018-11-13T01:10:10.678378Z"
    },
    "deletable": false,
    "editable": false,
    "nbgrader": {
     "cell_type": "code",
     "checksum": "145907bc37bbf7935cb110292d66c1ca",
     "grade": false,
     "grade_id": "cell-ac28dbce97521377",
     "locked": true,
     "schema_version": 2,
     "solution": false
    }
   },
   "outputs": [
    {
     "data": {
      "image/png": "[encoded data removed]",
      "text/plain": [
       "<matplotlib.figure.Figure at 0x7f928f2d8a58>"
      ]
     },
     "metadata": {},
     "output_type": "display_data"
    }
   ],
   "source": [
    "plt.figure(figsize=(12, 9))\n",
    "\n",
    "# Make a temporary copy of our datasets\n",
    "tmp_train = train_df.copy()\n",
    "tmp_train['date'] = tmp_train['tpep_pickup_datetime'].dt.date\n",
    "tmp_train = tmp_train.groupby('date').count()['pickup_longitude']\n",
    "\n",
    "# Plot the temporal overlap\n",
    "plt.plot(tmp_train, '.-', label='train_df')\n",
    "\n",
    "plt.title('Number of Taxi Rides per Start Day')\n",
    "plt.xlabel(\"Start Date\")\n",
    "plt.legend()\n",
    "plt.ylabel('Number of Taxi Rides');"
   ]
  },
  {
   "cell_type": "markdown",
   "metadata": {
    "deletable": false,
    "editable": false,
    "nbgrader": {
     "cell_type": "markdown",
     "checksum": "df9133df55ceb54baaf9e8b167f225d0",
     "grade": false,
     "grade_id": "q2a",
     "locked": true,
     "schema_version": 2,
     "solution": false
    }
   },
   "source": [
    "### Question 2a\n",
    "Taking a closer look at the plot above, we notice a drastic drop in taxi rides towards the end of Janurary.\n",
    "What is the date corresponding to the lowest number of taxi rides? Enter your answer as a string in the format MM-DD-YYYY."
   ]
  },
  {
   "cell_type": "code",
   "execution_count": 8,
   "metadata": {
    "ExecuteTime": {
     "end_time": "2018-11-13T01:05:49.623469Z",
     "start_time": "2018-11-13T01:05:49.618992Z"
    },
    "deletable": false,
    "nbgrader": {
     "cell_type": "code",
     "checksum": "6fa0fca9fc22079c96ef8bb1b4960de1",
     "grade": false,
     "grade_id": "q2a-answer",
     "locked": false,
     "schema_version": 2,
     "solution": true
    }
   },
   "outputs": [
    {
     "name": "stdout",
     "output_type": "stream",
     "text": [
      "01-23-2016\n"
     ]
    }
   ],
   "source": [
    "lowest_rides_date = \"01-23-2016\"\n",
    "\n",
    "# YOUR CODE HERE\n",
    "#raise NotImplementedError()\n",
    "\n",
    "print(lowest_rides_date)"
   ]
  },
  {
   "cell_type": "code",
   "execution_count": 9,
   "metadata": {
    "ExecuteTime": {
     "end_time": "2018-11-13T01:05:49.652429Z",
     "start_time": "2018-11-13T01:05:49.626233Z"
    },
    "deletable": false,
    "editable": false,
    "nbgrader": {
     "cell_type": "code",
     "checksum": "8c8b6d2b26be0c0c1d6c7f94781b6614",
     "grade": true,
     "grade_id": "q2a-test",
     "locked": true,
     "points": 1,
     "schema_version": 2,
     "solution": false
    }
   },
   "outputs": [],
   "source": [
    "# Hidden test!"
   ]
  },
  {
   "cell_type": "markdown",
   "metadata": {
    "deletable": false,
    "editable": false,
    "nbgrader": {
     "cell_type": "markdown",
     "checksum": "c5b91d2311d41982dfac616a41ab3a3a",
     "grade": false,
     "grade_id": "q2b",
     "locked": true,
     "schema_version": 2,
     "solution": false
    }
   },
   "source": [
    "### Question 2b\n",
    "What event could have caused this drop in taxi rides? Feel free to use Google."
   ]
  },
  {
   "cell_type": "code",
   "execution_count": null,
   "metadata": {
    "ExecuteTime": {
     "end_time": "2018-11-13T01:05:49.681167Z",
     "start_time": "2018-11-13T01:05:49.655680Z"
    },
    "deletable": false,
    "nbgrader": {
     "cell_type": "code",
     "checksum": "73515a4e56034451b9b156278197fbce",
     "grade": true,
     "grade_id": "q2b-answer",
     "locked": false,
     "points": 1,
     "schema_version": 2,
     "solution": true
    }
   },
   "outputs": [],
   "source": [
    "q2b_answer = r\"\"\"\n",
    "\n",
    "Put your answer here, replacing this text. Do not take into account the ### YOUR CODE HERE below\n",
    "\n",
    "\"\"\"\n",
    "\n",
    "# YOUR CODE HERE\n",
    "raise NotImplementedError()\n",
    "\n",
    "print(q2b_answer)"
   ]
  },
  {
   "cell_type": "markdown",
   "metadata": {
    "deletable": false,
    "editable": false,
    "nbgrader": {
     "cell_type": "markdown",
     "checksum": "029a0587f3399d8055ea6288a4b9bd9d",
     "grade": false,
     "grade_id": "cell-aea3086898d64984",
     "locked": true,
     "schema_version": 2,
     "solution": false
    }
   },
   "source": [
    "## 3. Spatial/Locational Analysis\n",
    "\n",
    "We are curious about the distribution of taxi pickup/dropoff coordinates. We also may be interested in observing whether this distribution changes as we condition of longer/shorter taxi rides. In the cells below, we will categorize our data into long and short rides based on duration. Then we will plot the latitude and longitude coordinates of rides conditioned on these categories.\n",
    "\n",
    "First you may want to familiarize yourself with a [map of Manhattan](https://www.google.com/maps/place/Manhattan,+New+York,+NY/@40.7590402,-74.0394431,12z/data=!3m1!4b1!4m5!3m4!1s0x89c2588f046ee661:0xa0b3281fcecc08c!8m2!3d40.7830603!4d-73.9712488)."
   ]
  },
  {
   "cell_type": "markdown",
   "metadata": {
    "deletable": false,
    "editable": false,
    "nbgrader": {
     "cell_type": "markdown",
     "checksum": "bac41ceb850055e240765c031ad33564",
     "grade": false,
     "grade_id": "agergsrtha",
     "locked": true,
     "schema_version": 2,
     "solution": false
    }
   },
   "source": [
    "Here we split `train_df` into two data frames, one called `short_rides` and one called `long_rides`. `short_rides` should contain all rides less than or equal to 15 minutes and `long_rides` should contain rides more than 15 minutes. \n",
    "\n",
    "**Note:** We chose 15 minutes because the mean duration of a ride is roughly 700 seconds ~ 12 minutes. We then round up to the nearest nice multiple of 5. Note that you should adjust how you determine short/long rides and outliers when feature engineering."
   ]
  },
  {
   "cell_type": "code",
   "execution_count": null,
   "metadata": {
    "ExecuteTime": {
     "end_time": "2018-11-13T01:11:43.538896Z",
     "start_time": "2018-11-13T01:11:43.529794Z"
    },
    "deletable": false,
    "editable": false,
    "nbgrader": {
     "cell_type": "code",
     "checksum": "f2322054aab0ea84c7d9b01f01804516",
     "grade": false,
     "grade_id": "afwefah",
     "locked": true,
     "schema_version": 2,
     "solution": false
    }
   },
   "outputs": [],
   "source": [
    "short_rides = train_df[train_df[\"duration\"] <= 900] # rides less than or equal to 15 mins\n",
    "long_rides = train_df[train_df[\"duration\"] > 900] # rides more than 15 minutes"
   ]
  },
  {
   "cell_type": "code",
   "execution_count": null,
   "metadata": {
    "ExecuteTime": {
     "end_time": "2018-11-13T01:10:18.804686Z",
     "start_time": "2018-11-13T01:10:18.801485Z"
    },
    "deletable": false,
    "editable": false,
    "nbgrader": {
     "cell_type": "code",
     "checksum": "808784c99bdf934846853318dcb1395a",
     "grade": false,
     "grade_id": "aerhaer",
     "locked": true,
     "schema_version": 2,
     "solution": false
    }
   },
   "outputs": [],
   "source": [
    "assert len(short_rides) == 12830\n",
    "assert len(long_rides) == 5524"
   ]
  },
  {
   "cell_type": "markdown",
   "metadata": {
    "deletable": false,
    "editable": false,
    "nbgrader": {
     "cell_type": "markdown",
     "checksum": "a9cf14c3b6427c29d880588096147cb1",
     "grade": false,
     "grade_id": "rtystrhsrt",
     "locked": true,
     "schema_version": 2,
     "solution": false
    }
   },
   "source": [
    "Below we generate 4 scatter plots. The scatter plots are ordered as follows:\n",
    "\n",
    "* ax1: plot the __start__ location of short duration rides\n",
    "* ax2: plot the __start__ location of long duration rides\n",
    "* ax3: plot the __end__ location of short duration rides\n",
    "* ax4: plot the __end__ location of long duration rides"
   ]
  },
  {
   "cell_type": "code",
   "execution_count": null,
   "metadata": {
    "ExecuteTime": {
     "end_time": "2018-11-13T01:05:50.694054Z",
     "start_time": "2018-11-13T01:05:49.742240Z"
    },
    "deletable": false,
    "editable": false,
    "nbgrader": {
     "cell_type": "code",
     "checksum": "175e3a08d69db5eaa4194f0f4d54aec2",
     "grade": false,
     "grade_id": "aerhra",
     "locked": true,
     "schema_version": 2,
     "solution": false
    }
   },
   "outputs": [],
   "source": [
    "# Set random seed of reproducibility\n",
    "random.seed(42)\n",
    "\n",
    "# City boundaries\n",
    "city_long_border = (-74.03, -73.75)\n",
    "city_lat_border = (40.63, 40.85)\n",
    "\n",
    "# Define figure\n",
    "fig, ((ax1, ax2), (ax3, ax4)) = plt.subplots(ncols=2, nrows = 2, figsize=(16, 12), sharex=True, sharey=True)\n",
    "alpha = 0.15 # make sure to include these as an argument\n",
    "s = 1 # make sure to include this as an argument\n",
    "\n",
    "short_rides.plot(kind = \"scatter\", x = \"pickup_longitude\", y = \"pickup_latitude\",\n",
    "                     ax = ax1, alpha = alpha, s = s, title='Short Duration, Start Location')\n",
    "long_rides.plot(kind = \"scatter\", x = \"pickup_longitude\", y = \"pickup_latitude\",\n",
    "                    ax = ax2, alpha = alpha, s = s, title='Long Duration, Start Location')\n",
    "short_rides.plot(kind = \"scatter\", x = \"dropoff_longitude\", y = \"dropoff_latitude\",\n",
    "                     ax = ax3, alpha = alpha, s = s , title='Short Duration, End Location')\n",
    "long_rides.plot(kind = \"scatter\", x = \"dropoff_longitude\", y = \"dropoff_latitude\",\n",
    "                    ax = ax4, alpha = alpha, s = s, title='Long Duration, End Location')\n",
    "\n",
    "\n",
    "fig.suptitle('Distribution of start/end locations across short/long rides.')\n",
    "\n",
    "\n",
    "plt.ylim(city_lat_border)\n",
    "plt.xlim(city_long_border);"
   ]
  },
  {
   "cell_type": "markdown",
   "metadata": {
    "deletable": false,
    "editable": false,
    "nbgrader": {
     "cell_type": "markdown",
     "checksum": "dce8e7d77f184fac0b72f1edc1665144",
     "grade": false,
     "grade_id": "q3a",
     "locked": true,
     "schema_version": 2,
     "solution": false
    }
   },
   "source": [
    "### Question 3a\n",
    "\n",
    "What do the plots above look like? \n",
    "\n",
    "In particular:\n",
    "- Find what the following circled regions correspond to:\n",
    "<img src=\"figs/nyc_locations.png\" width=\"50%\"></img>\n",
    "\n",
    "**Hint: Here is a [page](https://www.google.com/maps/place/Manhattan,+New+York,+NY/@40.7590402,-74.0394431,12z/data=!3m1!4b1!4m5!3m4!1s0x89c2588f046ee661:0xa0b3281fcecc08c!8m2!3d40.7830603!4d-73.9712488) that may be useful.**"
   ]
  },
  {
   "cell_type": "code",
   "execution_count": null,
   "metadata": {
    "ExecuteTime": {
     "end_time": "2018-11-13T01:05:50.699614Z",
     "start_time": "2018-11-13T01:05:50.695573Z"
    },
    "deletable": false,
    "nbgrader": {
     "cell_type": "code",
     "checksum": "43290606b48b0272e5c24f65d95fcbe0",
     "grade": true,
     "grade_id": "q3a-answer",
     "locked": false,
     "points": 1,
     "schema_version": 2,
     "solution": true
    }
   },
   "outputs": [],
   "source": [
    "q3a_answer = r\"\"\"\n",
    "\n",
    "Put your answer here, replacing this text. Do not take into account the ### YOUR CODE HERE below\n",
    "\n",
    "\"\"\"\n",
    "\n",
    "# YOUR CODE HERE\n",
    "raise NotImplementedError()\n",
    "\n",
    "print(q3a_answer)"
   ]
  },
  {
   "cell_type": "markdown",
   "metadata": {
    "deletable": false,
    "editable": false,
    "nbgrader": {
     "cell_type": "markdown",
     "checksum": "209c68c99dda5a4d19ae3e934ab6c0e4",
     "grade": false,
     "grade_id": "q3b",
     "locked": true,
     "schema_version": 2,
     "solution": false
    }
   },
   "source": [
    "### Question 3b\n",
    "In each scatter plot above, why are there no points contained within the small rectangular region (towards the top left between the blue points)? Could this be an error/mistake in our data?"
   ]
  },
  {
   "cell_type": "code",
   "execution_count": null,
   "metadata": {
    "ExecuteTime": {
     "end_time": "2018-11-13T01:05:50.726732Z",
     "start_time": "2018-11-13T01:05:50.702267Z"
    },
    "deletable": false,
    "nbgrader": {
     "cell_type": "code",
     "checksum": "6e6f1833b919ac33a4e473143703d1b4",
     "grade": true,
     "grade_id": "q3b-answer",
     "locked": false,
     "points": 1,
     "schema_version": 2,
     "solution": true
    }
   },
   "outputs": [],
   "source": [
    "q3b_answer = r\"\"\"\n",
    "\n",
    "Put your answer here, replacing this text. Do not take into account the ### YOUR CODE HERE below\n",
    "\n",
    "\"\"\"\n",
    "\n",
    "# YOUR CODE HERE\n",
    "raise NotImplementedError()\n",
    "\n",
    "print(q3b_answer)"
   ]
  },
  {
   "cell_type": "markdown",
   "metadata": {
    "deletable": false,
    "editable": false,
    "nbgrader": {
     "cell_type": "markdown",
     "checksum": "421ca7305d585d0d9a8d9cee6e249b07",
     "grade": false,
     "grade_id": "q3c",
     "locked": true,
     "schema_version": 2,
     "solution": false
    }
   },
   "source": [
    "### Question 3c\n",
    "What observations/conclusions do you make based on the scatter plots above? In particular, how are trip duration and pickup/dropoff location related?"
   ]
  },
  {
   "cell_type": "code",
   "execution_count": null,
   "metadata": {
    "ExecuteTime": {
     "end_time": "2018-11-13T01:05:50.754095Z",
     "start_time": "2018-11-13T01:05:50.729111Z"
    },
    "deletable": false,
    "nbgrader": {
     "cell_type": "code",
     "checksum": "1039473eac87da0062a6e5b91f091641",
     "grade": true,
     "grade_id": "q3c-answer",
     "locked": false,
     "points": 2,
     "schema_version": 2,
     "solution": true
    }
   },
   "outputs": [],
   "source": [
    "q3c_answer = r\"\"\"\n",
    "\n",
    "Put your answer here, replacing this text. Do not take into account the ### YOUR CODE HERE below\n",
    "\n",
    "\"\"\"\n",
    "\n",
    "# YOUR CODE HERE\n",
    "raise NotImplementedError()\n",
    "\n",
    "print(q3c_answer)"
   ]
  },
  {
   "cell_type": "markdown",
   "metadata": {
    "deletable": false,
    "editable": false,
    "nbgrader": {
     "cell_type": "markdown",
     "checksum": "2408b732fe039eb04a9e0e0b54f14aaa",
     "grade": false,
     "grade_id": "cell-6ffb8961a604a504",
     "locked": true,
     "schema_version": 2,
     "solution": false
    }
   },
   "source": [
    "This confirms that the trips are localized in NYC, with a very strong concentration in Manhattan **and** on the way to LaGuardia Airport. This might give you ideas of relevant features for feature engineering.  \n",
    "\n",
    "Another way to visualize ride coordinates is using a **heat map** (this also helps us avoid overplotting). The following plots count the number of trips for NYC neighborhoods and areas, plotting with the `geopandas` package and theses [shapefiles](https://geo.nyu.edu/catalog/nyu_2451_36743) (do not mind the values on the colorbar). If you are curious about how to create the figures below, feel free to check out [`geopandas`](http://geopandas.org/)."
   ]
  },
  {
   "cell_type": "markdown",
   "metadata": {
    "deletable": false,
    "editable": false,
    "nbgrader": {
     "cell_type": "markdown",
     "checksum": "1f693fd5badbd3d53001a8f52868b683",
     "grade": false,
     "grade_id": "cell-62069636bd76e79a",
     "locked": true,
     "schema_version": 2,
     "solution": false
    }
   },
   "source": [
    "![neighborhoods](figs/chloro_NY_neighborhoods.png)\n",
    "![neighborhoods](figs/chloro_NY_taxi_zones.png)"
   ]
  },
  {
   "cell_type": "markdown",
   "metadata": {
    "deletable": false,
    "editable": false,
    "nbgrader": {
     "cell_type": "markdown",
     "checksum": "c20d115fb906748d01a1deaa1d4d6bd6",
     "grade": false,
     "grade_id": "cell-0656bbffb925fbfc",
     "locked": true,
     "schema_version": 2,
     "solution": false
    }
   },
   "source": [
    "## 4: Temporal features\n",
    "We can utilize the `start_timestamp` column to design a lot of interesting features."
   ]
  },
  {
   "cell_type": "markdown",
   "metadata": {
    "deletable": false,
    "editable": false,
    "nbgrader": {
     "cell_type": "markdown",
     "checksum": "50da3ba2d46f0c20b6a0f163c43ac44f",
     "grade": false,
     "grade_id": "awegahhh",
     "locked": true,
     "schema_version": 2,
     "solution": false
    }
   },
   "source": [
    "We implement the following temporal (related to time) features using the `add_time_columns` function below.\n",
    "- `month` derived from `start_timestamp`.\n",
    "- `week_of_year` derived from `start_timestamp`.\n",
    "- `day_of_month` derived from `start_timestamp`.\n",
    "- `day_of_week` derived from `start_timestamp`.\n",
    "- `hour` derived from `start_timestamp`.\n",
    "- `week_hour` derived from `start_timestamp`.\n",
    "\n",
    "**Note 1**: You can use the `dt` attribute of the `start_timestamp` column to convert the entry into a `DateTime` object.\n",
    "\n",
    "**Note 2**: We set `df.is_copy = False` to explicitly write back to the original dataframe, `df`, that is being passed into the `add_time_columns` function. Otherwise `pandas` will complain."
   ]
  },
  {
   "cell_type": "code",
   "execution_count": null,
   "metadata": {
    "ExecuteTime": {
     "end_time": "2018-11-13T01:11:47.282695Z",
     "start_time": "2018-11-13T01:11:47.275968Z"
    },
    "deletable": false,
    "editable": false,
    "nbgrader": {
     "cell_type": "code",
     "checksum": "1b672961d56c22f14aa789b7efe4aed6",
     "grade": false,
     "grade_id": "awefawehgh",
     "locked": true,
     "schema_version": 2,
     "solution": false
    }
   },
   "outputs": [],
   "source": [
    "def add_time_columns(df):\n",
    "    \"\"\"\n",
    "    Add temporal features to df\n",
    "    \"\"\"\n",
    "    df.is_copy = False \n",
    "    df.loc[:, 'month'] = df['tpep_pickup_datetime'].dt.month\n",
    "    df.loc[:, 'week_of_year'] = df['tpep_pickup_datetime'].dt.weekofyear\n",
    "    df.loc[:, 'day_of_month'] = df['tpep_pickup_datetime'].dt.day\n",
    "    df.loc[:, 'day_of_week'] = df['tpep_pickup_datetime'].dt.dayofweek\n",
    "    df.loc[:, 'hour'] = df['tpep_pickup_datetime'].dt.hour\n",
    "    df.loc[:, 'week_hour'] = df['tpep_pickup_datetime'].dt.weekday * 24 + df['hour']\n",
    " \n",
    "    # No real need to return here, but we harmonize with remove_outliers for later pipelinezation\n",
    "    return df"
   ]
  },
  {
   "cell_type": "code",
   "execution_count": null,
   "metadata": {
    "ExecuteTime": {
     "end_time": "2018-11-13T01:11:49.356976Z",
     "start_time": "2018-11-13T01:11:47.974413Z"
    },
    "deletable": false,
    "editable": false,
    "nbgrader": {
     "cell_type": "code",
     "checksum": "02a7bc95c316f85d60af5bb37e419cb8",
     "grade": false,
     "grade_id": "cell-sdsdsd",
     "locked": true,
     "schema_version": 2,
     "solution": false
    }
   },
   "outputs": [],
   "source": [
    "# Note that we are applying this transformation to train_df, short_rides and long_rides\n",
    "train_df = add_time_columns(train_df)\n",
    "short_rides = add_time_columns(short_rides)\n",
    "long_rides = add_time_columns(long_rides)"
   ]
  },
  {
   "cell_type": "code",
   "execution_count": null,
   "metadata": {
    "ExecuteTime": {
     "end_time": "2018-11-13T01:11:49.375571Z",
     "start_time": "2018-11-13T01:11:49.359050Z"
    },
    "deletable": false,
    "editable": false,
    "nbgrader": {
     "cell_type": "code",
     "checksum": "e791c91b8828e98d26aeae916cf6fb81",
     "grade": false,
     "grade_id": "cell-ef8b221d02d77ffe",
     "locked": true,
     "schema_version": 2,
     "solution": false
    }
   },
   "outputs": [],
   "source": [
    "train_df[['month', 'week_of_year', 'day_of_month', 'day_of_week', 'hour', 'week_hour']].head()"
   ]
  },
  {
   "cell_type": "markdown",
   "metadata": {
    "deletable": false,
    "editable": false,
    "nbgrader": {
     "cell_type": "markdown",
     "checksum": "8aab0aad82792b3f0377a61fe472d983",
     "grade": false,
     "grade_id": "cell-852ec8b2d4ea0ba2",
     "locked": true,
     "schema_version": 2,
     "solution": false
    }
   },
   "source": [
    "Your `train_df.head()` should look like this, although the ordering of the data in `id` might be different:\n",
    "![time_columns](figs/time_columns.png)"
   ]
  },
  {
   "cell_type": "code",
   "execution_count": null,
   "metadata": {
    "ExecuteTime": {
     "end_time": "2018-11-13T01:05:51.225746Z",
     "start_time": "2018-11-13T01:05:51.202244Z"
    },
    "deletable": false,
    "editable": false,
    "nbgrader": {
     "cell_type": "code",
     "checksum": "251d44df6fe1f02d4df6544315a1af50",
     "grade": false,
     "grade_id": "q4a-test",
     "locked": true,
     "schema_version": 2,
     "solution": false
    }
   },
   "outputs": [],
   "source": [
    "time_columns = ['month',\n",
    "                'week_of_year',\n",
    "                'day_of_month',\n",
    "                'day_of_week',\n",
    "                'hour',\n",
    "                'week_hour']\n",
    "\n",
    "\n",
    "# Check columns were created\n",
    "assert all(column in train_df.columns for column in time_columns)\n",
    "\n",
    "# Check type\n",
    "assert train_df[time_columns].dtypes.nunique() == 1\n",
    "\n",
    "assert train_df[time_columns].dtypes.nunique() == 1"
   ]
  },
  {
   "cell_type": "markdown",
   "metadata": {
    "deletable": false,
    "editable": false,
    "nbgrader": {
     "cell_type": "markdown",
     "checksum": "4c6072e05643754b5bd09c782de5cd2b",
     "grade": false,
     "grade_id": "cell-8d746ca0e57f1db1",
     "locked": true,
     "schema_version": 2,
     "solution": false
    }
   },
   "source": [
    "### Visualizing Temporal Features"
   ]
  },
  {
   "cell_type": "markdown",
   "metadata": {
    "deletable": false,
    "editable": false,
    "nbgrader": {
     "cell_type": "markdown",
     "checksum": "35c54054d5392d0860df2d2d9d21db73",
     "grade": false,
     "grade_id": "q4a",
     "locked": true,
     "schema_version": 2,
     "solution": false
    }
   },
   "source": [
    "### Question 4a\n",
    "Let us now use the features we created to plot some histograms and visualize patterns in our dataset. We will analyze the distribution of the number of taxi rides across months and days of the week. This can help us visualize and understand patterns and trends within our data.\n",
    "\n",
    "This is a open ended question. Create 2 plots that visualize temporal information from our dataset. At least one of them must visualize the hour of each day. Aside from that you can use any column from `time_columns`. \n",
    "\n",
    "You can use the same column multiple times, but if the plots are redundant you will not receive full credit. This will be graded based on how informative each plot is and how \"good\" the visualization is (remember what good/bad visualizations look like for different kinds of data!).  "
   ]
  },
  {
   "cell_type": "markdown",
   "metadata": {
    "deletable": false,
    "editable": false,
    "nbgrader": {
     "cell_type": "markdown",
     "checksum": "82017e88ff75a52d7baa9036136366a5",
     "grade": false,
     "grade_id": "cell-bca2d2babd1bb50a",
     "locked": true,
     "schema_version": 2,
     "solution": false
    }
   },
   "source": [
    "#### Visualization 1"
   ]
  },
  {
   "cell_type": "code",
   "execution_count": null,
   "metadata": {
    "ExecuteTime": {
     "end_time": "2018-11-13T01:05:51.511371Z",
     "start_time": "2018-11-13T01:05:51.227453Z"
    },
    "deletable": false,
    "nbgrader": {
     "cell_type": "code",
     "checksum": "88da335db52294e44a392b1163b302cb",
     "grade": true,
     "grade_id": "q4a-1",
     "locked": false,
     "points": 2,
     "schema_version": 2,
     "solution": true
    }
   },
   "outputs": [],
   "source": [
    "# Visualization 1\n",
    "# YOUR CODE HERE\n",
    "raise NotImplementedError()"
   ]
  },
  {
   "cell_type": "markdown",
   "metadata": {
    "deletable": false,
    "editable": false,
    "nbgrader": {
     "cell_type": "markdown",
     "checksum": "174009cb5ffe516a0af7288db86bfad4",
     "grade": false,
     "grade_id": "cell-83fc2936e166fb4c",
     "locked": true,
     "schema_version": 2,
     "solution": false
    }
   },
   "source": [
    "#### Visualization 2"
   ]
  },
  {
   "cell_type": "code",
   "execution_count": null,
   "metadata": {
    "ExecuteTime": {
     "end_time": "2018-11-13T01:05:51.888439Z",
     "start_time": "2018-11-13T01:05:51.514567Z"
    },
    "deletable": false,
    "nbgrader": {
     "cell_type": "code",
     "checksum": "ca8fa42cc71f6e15c70f188094ae4eab",
     "grade": true,
     "grade_id": "q4a-2",
     "locked": false,
     "points": 2,
     "schema_version": 2,
     "solution": true
    }
   },
   "outputs": [],
   "source": [
    "# Visualization 2\n",
    "# YOUR CODE HERE\n",
    "raise NotImplementedError()"
   ]
  },
  {
   "cell_type": "markdown",
   "metadata": {
    "deletable": false,
    "editable": false,
    "nbgrader": {
     "cell_type": "markdown",
     "checksum": "3b5d642c8d85d6d3e4c357771be3f72b",
     "grade": false,
     "grade_id": "q4b",
     "locked": true,
     "schema_version": 2,
     "solution": false
    }
   },
   "source": [
    "### Question 4b\n",
    "Briefly explain for each plot\n",
    "1. What feature you're visualization\n",
    "2. Why you chose this feature\n",
    "3. Why you chose this visualization method"
   ]
  },
  {
   "cell_type": "code",
   "execution_count": null,
   "metadata": {
    "ExecuteTime": {
     "end_time": "2018-11-13T01:05:51.893112Z",
     "start_time": "2018-11-13T01:05:51.890294Z"
    },
    "deletable": false,
    "nbgrader": {
     "cell_type": "code",
     "checksum": "fb1838a87e409f935350626f446479c2",
     "grade": true,
     "grade_id": "q4b-answer",
     "locked": false,
     "points": 4,
     "schema_version": 2,
     "solution": true
    }
   },
   "outputs": [],
   "source": [
    "q4b_answer = r\"\"\"\n",
    "\n",
    "Put your answer here, replacing this text. Do not take into account the ### YOUR CODE HERE below\n",
    "\n",
    "\"\"\"\n",
    "\n",
    "# YOUR CODE HERE\n",
    "raise NotImplementedError()\n",
    "\n",
    "print(q4b_answer)"
   ]
  },
  {
   "cell_type": "markdown",
   "metadata": {
    "deletable": false,
    "editable": false,
    "nbgrader": {
     "cell_type": "markdown",
     "checksum": "7e79d05843546a45a614b7c0ff05da84",
     "grade": false,
     "grade_id": "q4c",
     "locked": true,
     "schema_version": 2,
     "solution": false
    }
   },
   "source": [
    "### Question 4c\n",
    "\n",
    "From the various plots above, what conclusions can you draw about the temporal aspects of our data? How does this relate to duration? "
   ]
  },
  {
   "cell_type": "code",
   "execution_count": null,
   "metadata": {
    "ExecuteTime": {
     "end_time": "2018-11-13T01:05:51.920842Z",
     "start_time": "2018-11-13T01:05:51.896247Z"
    },
    "deletable": false,
    "nbgrader": {
     "cell_type": "code",
     "checksum": "2c56f06bc8bea15d171a337a288ecd94",
     "grade": true,
     "grade_id": "q4c-answer",
     "locked": false,
     "points": 4,
     "schema_version": 2,
     "solution": true
    }
   },
   "outputs": [],
   "source": [
    "q4c_answer = r\"\"\"\n",
    "\n",
    "Put your answer here, replacing this text. Do not take into account the ### YOUR CODE HERE below\n",
    "\n",
    "\"\"\"\n",
    "\n",
    "# YOUR CODE HERE\n",
    "raise NotImplementedError()\n",
    "\n",
    "print(q4c_answer)"
   ]
  },
  {
   "cell_type": "markdown",
   "metadata": {
    "deletable": false,
    "editable": false,
    "nbgrader": {
     "cell_type": "markdown",
     "checksum": "c1efc6f83ab364913db547bd190879ac",
     "grade": false,
     "grade_id": "cell-d33be7b0b6c1db39",
     "locked": true,
     "schema_version": 2,
     "solution": false
    }
   },
   "source": [
    "### Question 4d"
   ]
  },
  {
   "cell_type": "markdown",
   "metadata": {
    "deletable": false,
    "editable": false,
    "nbgrader": {
     "cell_type": "markdown",
     "checksum": "0d1a8b7c2384fb8dd5ba860a8a54cb63",
     "grade": false,
     "grade_id": "q4d",
     "locked": true,
     "schema_version": 2,
     "solution": false
    }
   },
   "source": [
    "Previously, we have analyzed the temporal features `hour` and `day_of_week` independently, but these features may in fact have a relationship between each other. Determining the extent to their relationship may be useful in helping us create new features in our model. Create a violin plot that displays distribution of rides over each hour per day of the week."
   ]
  },
  {
   "cell_type": "code",
   "execution_count": null,
   "metadata": {
    "ExecuteTime": {
     "end_time": "2018-11-13T01:05:52.313647Z",
     "start_time": "2018-11-13T01:05:51.923128Z"
    },
    "deletable": false,
    "nbgrader": {
     "cell_type": "code",
     "checksum": "51740c74ce1ce9f7d62fa14bef483782",
     "grade": true,
     "grade_id": "q4d-answer",
     "locked": false,
     "points": 2,
     "schema_version": 2,
     "solution": true
    }
   },
   "outputs": [],
   "source": [
    "fig, axes = plt.subplots(1, 1, figsize=(10, 8))\n",
    "days_of_week = [\"Monday\", \"Tuesday\", \"Wednesday\", \"Thursday\", \"Friday\", \"Saturday\", \"Sunday\"]\n",
    "\n",
    "\n",
    "# YOUR CODE HERE\n",
    "raise NotImplementedError()\n",
    "\n",
    "plt.tight_layout();"
   ]
  },
  {
   "cell_type": "markdown",
   "metadata": {
    "deletable": false,
    "editable": false,
    "nbgrader": {
     "cell_type": "markdown",
     "checksum": "8d8a966370458f2d134d705f7839eba4",
     "grade": false,
     "grade_id": "q4e",
     "locked": true,
     "schema_version": 2,
     "solution": false
    }
   },
   "source": [
    "### Question 4e\n",
    "Do you notice anything interesting about your visualization? How would you explain this plot to a lay person? What are the features/patterns of interest?"
   ]
  },
  {
   "cell_type": "code",
   "execution_count": null,
   "metadata": {
    "ExecuteTime": {
     "end_time": "2018-11-13T01:05:52.320093Z",
     "start_time": "2018-11-13T01:05:52.315829Z"
    },
    "deletable": false,
    "nbgrader": {
     "cell_type": "code",
     "checksum": "414cfc764acd07fbbe5dc661a8f05b24",
     "grade": true,
     "grade_id": "q4e-answer",
     "locked": false,
     "points": 2,
     "schema_version": 2,
     "solution": true
    }
   },
   "outputs": [],
   "source": [
    "q4e_answer = r\"\"\"\n",
    "\n",
    "Put your answer here, replacing this text. Do not take into account the ### YOUR CODE HERE below\n",
    "\n",
    "\"\"\"\n",
    "\n",
    "# YOUR CODE HERE\n",
    "raise NotImplementedError()\n",
    "\n",
    "print(q4e_answer)"
   ]
  },
  {
   "cell_type": "markdown",
   "metadata": {
    "deletable": false,
    "editable": false,
    "nbgrader": {
     "cell_type": "markdown",
     "checksum": "c4384c91c53ad5eb55df07de24dc48b2",
     "grade": false,
     "grade_id": "cell-b42b8891828b838a",
     "locked": true,
     "schema_version": 2,
     "solution": false
    }
   },
   "source": [
    "## 5: Vendors\n",
    "\n",
    "Recall that in Part 1, we found that there are only two unique vendors represented in the dataset. We may wonder if the vendor feature can be useful when trying to understand taxi ride duration."
   ]
  },
  {
   "cell_type": "markdown",
   "metadata": {
    "deletable": false,
    "editable": false,
    "nbgrader": {
     "cell_type": "markdown",
     "checksum": "2f22f0bb7cb6f3592f88c35b44b03a09",
     "grade": false,
     "grade_id": "q5a",
     "locked": true,
     "schema_version": 2,
     "solution": false
    }
   },
   "source": [
    "### Question 5a\n",
    "Visualize the VendorID feature. Create at least one plot that gives insight as to whether this feature would be useful or not in our model."
   ]
  },
  {
   "cell_type": "code",
   "execution_count": null,
   "metadata": {
    "ExecuteTime": {
     "end_time": "2018-11-13T01:05:52.777769Z",
     "start_time": "2018-11-13T01:05:52.321667Z"
    },
    "deletable": false,
    "nbgrader": {
     "cell_type": "code",
     "checksum": "1c197e585e0d873783488b1c0ed00b53",
     "grade": true,
     "grade_id": "q5a-answer",
     "locked": false,
     "points": 2,
     "schema_version": 2,
     "solution": true
    }
   },
   "outputs": [],
   "source": [
    "# Visualization\n",
    "\n",
    "# YOUR CODE HERE\n",
    "raise NotImplementedError()"
   ]
  },
  {
   "cell_type": "markdown",
   "metadata": {
    "deletable": false,
    "editable": false,
    "nbgrader": {
     "cell_type": "markdown",
     "checksum": "0056c5df2f93c942ed140ff369293d91",
     "grade": false,
     "grade_id": "q5b",
     "locked": true,
     "schema_version": 2,
     "solution": false
    }
   },
   "source": [
    "### Question 5b\n",
    "Justify why you chose this visualization method and how it helps determine whether `vendor_id` is useful in our model or not."
   ]
  },
  {
   "cell_type": "code",
   "execution_count": null,
   "metadata": {
    "ExecuteTime": {
     "end_time": "2018-11-13T01:05:52.784900Z",
     "start_time": "2018-11-13T01:05:52.780090Z"
    },
    "deletable": false,
    "nbgrader": {
     "cell_type": "code",
     "checksum": "537b063ba8f29fd5149a660778c178db",
     "grade": true,
     "grade_id": "q5b-answer",
     "locked": false,
     "points": 2,
     "schema_version": 2,
     "solution": true
    }
   },
   "outputs": [],
   "source": [
    "q5b_answer = r\"\"\"\n",
    "\n",
    "Put your answer here, replacing this text. Do not take into account the ### YOUR CODE HERE below\n",
    "\n",
    "\"\"\"\n",
    "\n",
    "# YOUR CODE HERE\n",
    "raise NotImplementedError()\n",
    "\n",
    "print(q5b_answer)"
   ]
  },
  {
   "cell_type": "markdown",
   "metadata": {
    "deletable": false,
    "editable": false,
    "nbgrader": {
     "cell_type": "markdown",
     "checksum": "02f410b3ea2ec441e7376f99205324a0",
     "grade": false,
     "grade_id": "q5c",
     "locked": true,
     "schema_version": 2,
     "solution": false
    }
   },
   "source": [
    "### Question 5c\n",
    "From the plot above, do you think vendor_id will help us understand duration? Why or why not?"
   ]
  },
  {
   "cell_type": "code",
   "execution_count": null,
   "metadata": {
    "ExecuteTime": {
     "end_time": "2018-11-13T01:05:52.812119Z",
     "start_time": "2018-11-13T01:05:52.787013Z"
    },
    "deletable": false,
    "nbgrader": {
     "cell_type": "code",
     "checksum": "510884ea3a7f25f4bece2692d711945a",
     "grade": true,
     "grade_id": "q5c-answer",
     "locked": false,
     "points": 2,
     "schema_version": 2,
     "solution": true
    }
   },
   "outputs": [],
   "source": [
    "q5c_answer = r\"\"\"\n",
    "\n",
    "Put your answer here, replacing this text. Do not take into account the ### YOUR CODE HERE below\n",
    "\n",
    "\"\"\"\n",
    "\n",
    "# YOUR CODE HERE\n",
    "raise NotImplementedError()\n",
    "\n",
    "print(q5c_answer)"
   ]
  },
  {
   "cell_type": "markdown",
   "metadata": {
    "deletable": false,
    "editable": false,
    "nbgrader": {
     "cell_type": "markdown",
     "checksum": "55aeb55b4350038b50fdfe81a6f9df0e",
     "grade": false,
     "grade_id": "cell-db1968b3ab9fa698",
     "locked": true,
     "schema_version": 2,
     "solution": false
    }
   },
   "source": [
    "## 6: Distance features\n",
    "\n",
    "We can also use the coordinates information to compute distance features.  This will allow us to compute speed related features.  \n",
    "We will compute the [haversine](https://en.wikipedia.org/wiki/Haversine_formula) distance, the [manhattan](https://en.wikipedia.org/wiki/Taxicab_geometry) distance and the [bearing](http://www.mathsteacher.com.au/year7/ch08_angles/07_bear/bearing.htm) angle."
   ]
  },
  {
   "cell_type": "code",
   "execution_count": null,
   "metadata": {
    "ExecuteTime": {
     "end_time": "2018-11-13T01:05:52.842353Z",
     "start_time": "2018-11-13T01:05:52.814272Z"
    },
    "deletable": false,
    "editable": false,
    "nbgrader": {
     "cell_type": "code",
     "checksum": "9c1f1f74fe46d40d5499ce1ee62ccd66",
     "grade": false,
     "grade_id": "cell-cc14f7dca51d0bcc",
     "locked": true,
     "schema_version": 2,
     "solution": false
    }
   },
   "outputs": [],
   "source": [
    "# These functions are implemented for you\n",
    "def haversine(lat1, lng1, lat2, lng2):\n",
    "    \"\"\"\n",
    "    Compute haversine distance\n",
    "    \n",
    "    The haversine formula determines the great-circle distance between two points \n",
    "    on a sphere given their longitudes and latitudes. Important in navigation, it \n",
    "    is a special case of a more general formula in spherical trigonometry, \n",
    "    the law of haversines, that relates the sides and angles of spherical triangles.\n",
    "    \"\"\"\n",
    "    lat1, lng1, lat2, lng2 = map(np.radians, (lat1, lng1, lat2, lng2))\n",
    "    average_earth_radius = 6371\n",
    "    lat = lat2 - lat1\n",
    "    lng = lng2 - lng1\n",
    "    d = np.sin(lat * 0.5) ** 2 + np.cos(lat1) * np.cos(lat2) * np.sin(lng * 0.5) ** 2\n",
    "    h = 2 * average_earth_radius * np.arcsin(np.sqrt(d))\n",
    "    return h\n",
    "\n",
    "def manhattan_distance(lat1, lng1, lat2, lng2):\n",
    "    \"\"\"\n",
    "    Computes Manhattan distance\n",
    "    \n",
    "    The name alludes to the grid layout of most streets on the island of Manhattan, \n",
    "    which causes the shortest path a car could take between two intersections in the borough \n",
    "    to have length equal to the intersections' distance in taxicab geometry.\n",
    "    \"\"\"\n",
    "    a = haversine(lat1, lng1, lat1, lng2)\n",
    "    b = haversine(lat1, lng1, lat2, lng1)\n",
    "    return a + b\n",
    "\n",
    "def bearing(lat1, lng1, lat2, lng2):\n",
    "    \"\"\"\n",
    "    Compute the bearing, or angle, from (lat1, lng1) to (lat2, lng2).\n",
    "    A bearing of 0 refers to a NORTH orientation.\n",
    "    \"\"\"\n",
    "    lng_delta_rad = np.radians(lng2 - lng1)\n",
    "    lat1, lng1, lat2, lng2 = map(np.radians, (lat1, lng1, lat2, lng2))\n",
    "    y = np.sin(lng_delta_rad) * np.cos(lat2)\n",
    "    x = np.cos(lat1) * np.sin(lat2) - np.sin(lat1) * np.cos(lat2) * np.cos(lng_delta_rad)\n",
    "    return np.degrees(np.arctan2(y, x))"
   ]
  },
  {
   "cell_type": "code",
   "execution_count": null,
   "metadata": {
    "ExecuteTime": {
     "end_time": "2018-11-13T01:05:52.871058Z",
     "start_time": "2018-11-13T01:05:52.844941Z"
    },
    "deletable": false,
    "editable": false,
    "nbgrader": {
     "cell_type": "code",
     "checksum": "3fc93d717df1e70f751312582f1a397c",
     "grade": false,
     "grade_id": "sdsd-6f8fcab74c1cc3ad",
     "locked": true,
     "schema_version": 2,
     "solution": false
    }
   },
   "outputs": [],
   "source": [
    "def add_distance_columns(df):\n",
    "    df.loc[:, 'manhattan'] = manhattan_distance(lat1=df['pickup_latitude'],\n",
    "                                                lng1=df['pickup_longitude'],\n",
    "                                                lat2=df['dropoff_latitude'],\n",
    "                                                lng2=df['dropoff_longitude'])\n",
    "\n",
    "    df.loc[:, 'bearing'] = bearing(lat1=df['pickup_latitude'],\n",
    "                                   lng1=df['pickup_longitude'],\n",
    "                                   lat2=df['dropoff_latitude'],\n",
    "                                   lng2=df['dropoff_longitude'])\n",
    "    df.loc[:, 'haversine'] = haversine(lat1=df['pickup_latitude'],\n",
    "                                   lng1=df['pickup_longitude'],\n",
    "                                   lat2=df['dropoff_latitude'],\n",
    "                                   lng2=df['dropoff_longitude'])\n",
    "    \n",
    "    return df"
   ]
  },
  {
   "cell_type": "code",
   "execution_count": null,
   "metadata": {
    "ExecuteTime": {
     "end_time": "2018-11-13T01:05:53.356199Z",
     "start_time": "2018-11-13T01:05:52.874009Z"
    },
    "deletable": false,
    "editable": false,
    "nbgrader": {
     "cell_type": "code",
     "checksum": "da113b962300ed0ca376db87c775f10a",
     "grade": false,
     "grade_id": "cell-6f8fcab74c1cc3ad",
     "locked": true,
     "schema_version": 2,
     "solution": false
    }
   },
   "outputs": [],
   "source": [
    "train_df = add_distance_columns(train_df)\n",
    "short_rides = add_distance_columns(short_rides)\n",
    "long_rides = add_distance_columns(long_rides)"
   ]
  },
  {
   "cell_type": "code",
   "execution_count": null,
   "metadata": {
    "ExecuteTime": {
     "end_time": "2018-11-13T01:05:53.978312Z",
     "start_time": "2018-11-13T01:05:53.358865Z"
    },
    "deletable": false,
    "editable": false,
    "nbgrader": {
     "cell_type": "code",
     "checksum": "b6d1170fe90fec9fccefeecb9cb392a1",
     "grade": false,
     "grade_id": "cell-6611c78b69c22f54",
     "locked": true,
     "schema_version": 2,
     "solution": false
    }
   },
   "outputs": [],
   "source": [
    "fig, axes = plt.subplots(4, 1, figsize=(12, 9))\n",
    "sns.distplot(train_df['haversine'], ax=axes[0], axlabel='haversine');\n",
    "sns.distplot(train_df['manhattan'], ax=axes[1], axlabel='manhattan');\n",
    "sns.distplot(train_df['bearing'], ax=axes[2], axlabel='bearing');\n",
    "sns.distplot(train_df['trip_distance'], ax=axes[3], axlabel='trip_distance');\n",
    "\n",
    "sns.despine(left=True);\n",
    "plt.setp(axes, yticks=[]);\n",
    "plt.tight_layout();\n"
   ]
  },
  {
   "cell_type": "markdown",
   "metadata": {
    "deletable": false,
    "editable": false,
    "nbgrader": {
     "cell_type": "markdown",
     "checksum": "69bd92f9873dec52a2276b0dc974d00b",
     "grade": false,
     "grade_id": "q6a",
     "locked": true,
     "schema_version": 2,
     "solution": false
    }
   },
   "source": [
    "### Question 6a\n",
    "\n",
    "The `bearing` direction is angle, the initial direction of the trip.  \n",
    "The bearing direction has two prominent peaks around 30 and -150 degrees.  \n",
    "**Can you relate these peaks to the orientation of Manhattan? What do you notice about these angles?**\n",
    "\n",
    "**Hint:** This [wikipedia article](https://en.wikipedia.org/wiki/Commissioners%27_Plan_of_1811) has the answer, although it may take some digging. Alternatively, try to look at a map of Manhattan."
   ]
  },
  {
   "cell_type": "code",
   "execution_count": null,
   "metadata": {
    "ExecuteTime": {
     "end_time": "2018-11-13T01:05:53.984083Z",
     "start_time": "2018-11-13T01:05:53.980065Z"
    },
    "deletable": false,
    "nbgrader": {
     "cell_type": "code",
     "checksum": "4beba9b2427872839d58024ddaa4c4cb",
     "grade": true,
     "grade_id": "q6a-answer",
     "locked": false,
     "points": 3,
     "schema_version": 2,
     "solution": true
    }
   },
   "outputs": [],
   "source": [
    "q6a_answer = r\"\"\"\n",
    "\n",
    "Put your answer here, replacing this text. Do not take into account the ### YOUR CODE HERE below\n",
    "\n",
    "\"\"\"\n",
    "\n",
    "# YOUR CODE HERE\n",
    "raise NotImplementedError()\n",
    "\n",
    "print(q6a_answer)"
   ]
  },
  {
   "cell_type": "markdown",
   "metadata": {
    "deletable": false,
    "editable": false,
    "nbgrader": {
     "cell_type": "markdown",
     "checksum": "93bfb780e2caab4ece0a0d9e75cdf328",
     "grade": false,
     "grade_id": "q6b",
     "locked": true,
     "schema_version": 2,
     "solution": false
    }
   },
   "source": [
    "### Question 6b\n",
    "\n",
    "For haversine and manhattan distances, it is probably more helpful to look at the log distribution. We are also curious about whether these distance features can help us understand duration. Create at least one plot that compares haversine and manhattan distances and gives insight as to whether this would be a useful feature in our model."
   ]
  },
  {
   "cell_type": "code",
   "execution_count": null,
   "metadata": {
    "ExecuteTime": {
     "end_time": "2018-11-13T01:05:54.759020Z",
     "start_time": "2018-11-13T01:05:53.987082Z"
    },
    "deletable": false,
    "nbgrader": {
     "cell_type": "code",
     "checksum": "ebf4ae277e9feef975fff01110584d98",
     "grade": true,
     "grade_id": "q6b-answer",
     "locked": false,
     "points": 3,
     "schema_version": 2,
     "solution": true
    }
   },
   "outputs": [],
   "source": [
    "# Visualization\n",
    "# YOUR CODE HERE\n",
    "raise NotImplementedError()"
   ]
  },
  {
   "cell_type": "markdown",
   "metadata": {
    "deletable": false,
    "editable": false,
    "nbgrader": {
     "cell_type": "markdown",
     "checksum": "aa66dc6e1b3e0c72b3cb924b73373338",
     "grade": false,
     "grade_id": "q6c",
     "locked": true,
     "schema_version": 2,
     "solution": false
    }
   },
   "source": [
    "### Question 6c\n",
    "Justify why you chose this visualization method and how it helps inform you about using manhattan/haversine distance as a feature for predicting trip duration."
   ]
  },
  {
   "cell_type": "code",
   "execution_count": null,
   "metadata": {
    "ExecuteTime": {
     "end_time": "2018-11-13T01:05:54.764689Z",
     "start_time": "2018-11-13T01:05:54.760467Z"
    },
    "deletable": false,
    "nbgrader": {
     "cell_type": "code",
     "checksum": "8b71f5b58dc8736e8744e3c31d3c8151",
     "grade": true,
     "grade_id": "q6c-answer",
     "locked": false,
     "points": 3,
     "schema_version": 2,
     "solution": true
    }
   },
   "outputs": [],
   "source": [
    "q6c_answer = r\"\"\"\n",
    "\n",
    "Put your answer here, replacing this text. Do not take into account the ### YOUR CODE HERE below\n",
    "\n",
    "\"\"\"\n",
    "\n",
    "# YOUR CODE HERE\n",
    "raise NotImplementedError()\n",
    "\n",
    "print(q6c_answer)"
   ]
  },
  {
   "cell_type": "markdown",
   "metadata": {
    "deletable": false,
    "editable": false,
    "nbgrader": {
     "cell_type": "markdown",
     "checksum": "2f87aa170ca4b9505b682b34af5a04f1",
     "grade": false,
     "grade_id": "q6d",
     "locked": true,
     "schema_version": 2,
     "solution": false
    }
   },
   "source": [
    "### Question 6d\n",
    "Fill in the code below to plot a scatter plot of manhattan distance vs duration."
   ]
  },
  {
   "cell_type": "code",
   "execution_count": null,
   "metadata": {
    "ExecuteTime": {
     "end_time": "2018-11-13T01:05:55.047967Z",
     "start_time": "2018-11-13T01:05:54.767212Z"
    },
    "deletable": false,
    "nbgrader": {
     "cell_type": "code",
     "checksum": "1d716aad7a5c199f1cabcf1b57d46414",
     "grade": true,
     "grade_id": "q6d-answer",
     "locked": false,
     "points": 1,
     "schema_version": 2,
     "solution": true
    }
   },
   "outputs": [],
   "source": [
    "# YOUR CODE HERE\n",
    "raise NotImplementedError()"
   ]
  },
  {
   "cell_type": "markdown",
   "metadata": {
    "deletable": false,
    "editable": false,
    "nbgrader": {
     "cell_type": "markdown",
     "checksum": "5bfb224bfbf64ddd65cb278063a89502",
     "grade": false,
     "grade_id": "q6e",
     "locked": true,
     "schema_version": 2,
     "solution": false
    }
   },
   "source": [
    "### Question 6e\n",
    "\n",
    "According to the plot above, there are a few outliers in both duration and manhattan distance. **Which type of outliers is most likely to be a mistake in our data?**"
   ]
  },
  {
   "cell_type": "code",
   "execution_count": null,
   "metadata": {
    "ExecuteTime": {
     "end_time": "2018-11-13T01:05:55.055226Z",
     "start_time": "2018-11-13T01:05:55.050436Z"
    },
    "deletable": false,
    "nbgrader": {
     "cell_type": "code",
     "checksum": "a330aa158d0d1219c427d11067f65f5b",
     "grade": true,
     "grade_id": "q6e-answer",
     "locked": false,
     "points": 2,
     "schema_version": 2,
     "solution": true
    }
   },
   "outputs": [],
   "source": [
    "q6e_answer = r\"\"\"\n",
    "\n",
    "Put your answer here, replacing this text. Do not take into account the ### YOUR CODE HERE below\n",
    "\n",
    "\"\"\"\n",
    "\n",
    "# YOUR CODE HERE\n",
    "raise NotImplementedError()\n",
    "\n",
    "print(q6e_answer)"
   ]
  },
  {
   "cell_type": "markdown",
   "metadata": {
    "deletable": false,
    "editable": false,
    "nbgrader": {
     "cell_type": "markdown",
     "checksum": "eb22d6787e2c5f6d39bfdc502cde7c96",
     "grade": false,
     "grade_id": "cell-62c5ad32447a727a",
     "locked": true,
     "schema_version": 2,
     "solution": false
    }
   },
   "source": [
    "## 7: Advanced features\n",
    "You do not need to incorporate these features into your model, although it may help lower your error. You are required to read through this portion and respond to the questions. All of the code is provided, please skim through it and try to understand what each cell is doing.\n",
    "\n",
    "### Clustering\n",
    "[Clustering](https://en.wikipedia.org/wiki/Cluster_analysis) is the task of grouping objects such that members within each group are more similar to each other than members of other groups. Clustering is a powerful tool used in many fields, including machine learning, pattern recognition, image analysis, information retrieval, bioinformatics, data compression, and computer graphics. Recall cluster sampling, which we learned earlier in the semester. We will use a simple clustering method (clustering by spatial locality) to reveal some more advanced features.\n",
    "\n",
    "### Speed features\n",
    "\n",
    "For `train_df`, we have the `duration` and now some distance information.  \n",
    "This is enough for us to compute average speed and try to better understand our data.   \n",
    "\n",
    "For `test_df`, we cannot use `duration` as a feature because it is what we are trying to predict. One clever way to include speed information for modeling would be as follows:\n",
    "\n",
    "1. Cluster the observations in `train_df` by rounding the latitude and longitudes.\n",
    "2. Compute the average speed per pickup cluster and dropoff cluster.\n",
    "3. Match each observation in `test_df` to its pickup cluster and dropoff cluster based off the latitude and longitude, thus assigning the average speed for the pickup and dropoff cluster.\n",
    "4. We have added speed information as features for `test_df`.\n",
    "\n",
    "Therefore, we have propagated information computed in the `train_df` into the `test_df` via clustering. This is not something we will do in this notebook, although you can try it for yourself!\n",
    "\n",
    "Other information that could be added based on clustering (both pickup cluster and dropoff cluster):\n",
    "- Average of `avg_speed_h` per cluster.\n",
    "- Average of `duration` per cluster.\n",
    "- Average of `avg_speed_h` per cluster and hour.\n",
    "- Average of `duration` per cluster and hour.\n",
    "- In-cluster flow of trips for 60 min period.\n",
    "- Out-cluster flow of trips for 60 min period."
   ]
  },
  {
   "cell_type": "code",
   "execution_count": null,
   "metadata": {
    "ExecuteTime": {
     "end_time": "2018-11-13T01:05:55.088072Z",
     "start_time": "2018-11-13T01:05:55.057955Z"
    },
    "deletable": false,
    "editable": false,
    "nbgrader": {
     "cell_type": "code",
     "checksum": "d78068d07a1a679f0d73bd3adec4e254",
     "grade": false,
     "grade_id": "cell-359a1d6e978f6e5a",
     "locked": true,
     "schema_version": 2,
     "solution": false
    }
   },
   "outputs": [],
   "source": [
    "# Calculate average manhattan speed\n",
    "train_df['avg_speed_m'] = 1000 * train_df['manhattan'] / train_df['duration']\n",
    "train_df['avg_speed_m'] = train_df['avg_speed_m'][train_df['avg_speed_m'] < 100]\n",
    "train_df['avg_speed_m'].fillna(train_df['avg_speed_m'].median(), inplace=True)"
   ]
  },
  {
   "cell_type": "code",
   "execution_count": null,
   "metadata": {
    "ExecuteTime": {
     "end_time": "2018-11-13T01:05:55.121408Z",
     "start_time": "2018-11-13T01:05:55.090589Z"
    },
    "deletable": false,
    "editable": false,
    "nbgrader": {
     "cell_type": "code",
     "checksum": "6ab82c7e50dd0911761783832694b396",
     "grade": false,
     "grade_id": "cell-27681899d3fbddae",
     "locked": true,
     "schema_version": 2,
     "solution": false
    }
   },
   "outputs": [],
   "source": [
    "train_df['avg_speed_m'].describe()"
   ]
  },
  {
   "cell_type": "code",
   "execution_count": null,
   "metadata": {
    "ExecuteTime": {
     "end_time": "2018-11-13T01:05:55.477800Z",
     "start_time": "2018-11-13T01:05:55.124049Z"
    },
    "deletable": false,
    "editable": false,
    "nbgrader": {
     "cell_type": "code",
     "checksum": "b4461de8c9bbf1fd3a0fbce641e1b0c2",
     "grade": false,
     "grade_id": "cell-dfe42d67026fd8dc",
     "locked": true,
     "schema_version": 2,
     "solution": false
    }
   },
   "outputs": [],
   "source": [
    "# Visualize average manhattan speed by hour, day of week and week hour\n",
    "fig, axes = plt.subplots(ncols=3, figsize=(15, 6), sharey=True)\n",
    "\n",
    "axes[0].plot(train_df.groupby('hour').mean()['avg_speed_m'], 'bo-', lw=1, alpha=0.7)\n",
    "axes[1].plot(train_df.groupby('day_of_week').mean()['avg_speed_m'], 'go-', lw=1, alpha=0.7)\n",
    "axes[2].plot(train_df.groupby('week_hour').mean()['avg_speed_m'], 'ro-', lw=1, alpha=0.7)\n",
    "\n",
    "axes[0].set_xlabel('hour')\n",
    "axes[1].set_xlabel('day_of_week')\n",
    "axes[2].set_xlabel('week_hour')\n",
    "axes[0].set_ylabel('Manhattan average speed');"
   ]
  },
  {
   "cell_type": "markdown",
   "metadata": {
    "deletable": false,
    "editable": false,
    "nbgrader": {
     "cell_type": "markdown",
     "checksum": "84540d00cd702dda88e0670731ebf7ba",
     "grade": false,
     "grade_id": "q7a",
     "locked": true,
     "schema_version": 2,
     "solution": false
    }
   },
   "source": [
    "### Question 7a\n",
    "Based off of these visualizations, provide 2-3 insights on the average speed."
   ]
  },
  {
   "cell_type": "code",
   "execution_count": null,
   "metadata": {
    "ExecuteTime": {
     "end_time": "2018-11-13T01:05:55.485009Z",
     "start_time": "2018-11-13T01:05:55.480436Z"
    },
    "deletable": false,
    "nbgrader": {
     "cell_type": "code",
     "checksum": "fe31da04042e8fa689cc9e0c3c0ffed9",
     "grade": true,
     "grade_id": "q7a-answer",
     "locked": false,
     "points": 1,
     "schema_version": 2,
     "solution": true
    }
   },
   "outputs": [],
   "source": [
    "q7a_answer = r\"\"\"\n",
    "\n",
    "Put your answer here, replacing this text. Do not take into account the ### YOUR CODE HERE below\n",
    "\n",
    "\"\"\"\n",
    "\n",
    "# YOUR CODE HERE\n",
    "raise NotImplementedError()\n",
    "\n",
    "print(q7a_answer)"
   ]
  },
  {
   "cell_type": "markdown",
   "metadata": {
    "deletable": false,
    "editable": false,
    "nbgrader": {
     "cell_type": "markdown",
     "checksum": "9988f607828d93b7cb0730f06ac01de3",
     "grade": false,
     "grade_id": "cell-4fedda3bcfc330ef",
     "locked": true,
     "schema_version": 2,
     "solution": false
    }
   },
   "source": [
    "We are now going to visualize the average speed per region. Here we define regions as a very basic classical clustering based on rounding of spatial coordinates."
   ]
  },
  {
   "cell_type": "code",
   "execution_count": null,
   "metadata": {
    "ExecuteTime": {
     "end_time": "2018-11-13T01:05:55.539488Z",
     "start_time": "2018-11-13T01:05:55.487813Z"
    },
    "deletable": false,
    "editable": false,
    "nbgrader": {
     "cell_type": "code",
     "checksum": "1df766ae2c7a11f3e63b2a1678936992",
     "grade": false,
     "grade_id": "cell-3b2f3d6d0a2e1e28",
     "locked": true,
     "schema_version": 2,
     "solution": false
    }
   },
   "outputs": [],
   "source": [
    "# Round / bin the latitude and longitudes\n",
    "train_df['start_lat_bin'] = np.round(train_df['pickup_latitude'], 3)\n",
    "train_df['start_lng_bin'] = np.round(train_df['pickup_longitude'], 3)\n",
    "\n",
    "# Average speed for regions\n",
    "gby_cols = ['start_lat_bin', 'start_lng_bin']\n",
    "\n",
    "coord_stats = (train_df.groupby(gby_cols)\n",
    "               .agg({'avg_speed_m': 'mean', 'manhattan': 'count'})\n",
    "               .reset_index())\n",
    "\n",
    "coord_stats = coord_stats[coord_stats['manhattan'] > 10]"
   ]
  },
  {
   "cell_type": "code",
   "execution_count": null,
   "metadata": {
    "ExecuteTime": {
     "end_time": "2018-11-13T01:05:55.902898Z",
     "start_time": "2018-11-13T01:05:55.541643Z"
    },
    "deletable": false,
    "editable": false,
    "nbgrader": {
     "cell_type": "code",
     "checksum": "b5279cfa4914db7dacbfc1506b429ca9",
     "grade": false,
     "grade_id": "cell-e5522ca2ee69172e",
     "locked": true,
     "schema_version": 2,
     "solution": false
    }
   },
   "outputs": [],
   "source": [
    "# Visualize the average speed per region\n",
    "city_long_border = (-74.03, -73.75)\n",
    "city_lat_border = (40.63, 40.85)\n",
    "fig, ax = plt.subplots(ncols=1, nrows=1, figsize=(14, 10))\n",
    "\n",
    "scatter_trips = ax.scatter(train_df['pickup_longitude'].values,\n",
    "                           train_df['pickup_latitude'].values,\n",
    "                           color='grey', s=1, alpha=0.5)\n",
    "\n",
    "scatter_cmap = ax.scatter(coord_stats['start_lng_bin'].values,\n",
    "                          coord_stats['start_lat_bin'].values,\n",
    "                          c=coord_stats['avg_speed_m'].values,\n",
    "                          cmap='viridis', s=10, alpha=0.9)\n",
    "\n",
    "cbar = fig.colorbar(scatter_cmap)\n",
    "cbar.set_label(\"Manhattan average speed\")\n",
    "ax.set_xlim(city_long_border)\n",
    "ax.set_ylim(city_lat_border)\n",
    "ax.set_xlabel('Longitude')\n",
    "ax.set_ylabel('Latitude')\n",
    "plt.title('Heatmap of Manhattan average speed')\n",
    "plt.axis('off');"
   ]
  },
  {
   "cell_type": "markdown",
   "metadata": {
    "deletable": false,
    "editable": false,
    "nbgrader": {
     "cell_type": "markdown",
     "checksum": "dc893b2346c05366a1a15e5b7f640462",
     "grade": false,
     "grade_id": "q7b",
     "locked": true,
     "schema_version": 2,
     "solution": false
    }
   },
   "source": [
    "### Question 7b\n",
    "In 2-3 sentences, describe how we can use the clustering visualization above to gain insight on the speed. Do you think spatial clustering would be useful in reducing the error of our model?"
   ]
  },
  {
   "cell_type": "code",
   "execution_count": null,
   "metadata": {
    "ExecuteTime": {
     "end_time": "2018-11-13T01:05:55.909218Z",
     "start_time": "2018-11-13T01:05:55.905212Z"
    },
    "deletable": false,
    "nbgrader": {
     "cell_type": "code",
     "checksum": "68cf833ffc39922e969d8badba50ce4a",
     "grade": true,
     "grade_id": "q7b-answer",
     "locked": false,
     "points": 2,
     "schema_version": 2,
     "solution": true
    }
   },
   "outputs": [],
   "source": [
    "q7b_answer = r\"\"\"\n",
    "\n",
    "Put your answer here, replacing this text. Do not take into account the ### YOUR CODE HERE below\n",
    "\n",
    "\"\"\"\n",
    "\n",
    "# YOUR CODE HERE\n",
    "raise NotImplementedError()\n",
    "\n",
    "print(q7b_answer)"
   ]
  },
  {
   "cell_type": "markdown",
   "metadata": {
    "deletable": false,
    "editable": false,
    "nbgrader": {
     "cell_type": "markdown",
     "checksum": "03937ee6f608af6eef301cc363877e78",
     "grade": false,
     "grade_id": "cell-217645973b25dbdd",
     "locked": true,
     "schema_version": 2,
     "solution": false
    }
   },
   "source": [
    "## Part 2 Exports\n",
    "We are not requiring you to export anything from this notebook, but you may find it useful to do so. There is a space below for you to export anything you wish."
   ]
  },
  {
   "cell_type": "code",
   "execution_count": null,
   "metadata": {
    "ExecuteTime": {
     "end_time": "2018-11-13T01:05:55.940444Z",
     "start_time": "2018-11-13T01:05:55.912222Z"
    },
    "deletable": false,
    "editable": false,
    "nbgrader": {
     "cell_type": "code",
     "checksum": "893ab59253cfb3700ac6025b6183119a",
     "grade": false,
     "grade_id": "cell-c7151bec17c66931",
     "locked": true,
     "schema_version": 2,
     "solution": false
    }
   },
   "outputs": [],
   "source": [
    "Path(\"data/part2\").mkdir(parents=True, exist_ok=True)\n",
    "data_file = Path(\"data/part2\", \"data_part2.hdf\") # Path of hdf file\n",
    "..."
   ]
  },
  {
   "cell_type": "markdown",
   "metadata": {
    "deletable": false,
    "editable": false,
    "nbgrader": {
     "cell_type": "markdown",
     "checksum": "955a7ccb01bac6527f6669b590886d6a",
     "grade": false,
     "grade_id": "cell-c08f7618c30a293f",
     "locked": true,
     "schema_version": 2,
     "solution": false
    }
   },
   "source": [
    "## Part 2 Conclusions \n",
    "\n",
    "We now have a good understanding of the taxi data we are working with.\n",
    "Visualizing large amounts of data can be a difficult task. One helpful tool is [datashader](https://github.com/bokeh/datashader), a data rasterization pipeline for automating the process of creating meaningful representations of large amounts of data. Using the [geopandas](http://geopandas.org/) package also makes working with geospatial data easier. We encourage you to explore these tools if you are interested in learning more about visualization!\n",
    "\n",
    "Within our taxi data set, we have explored different features and their relationship with ride duration. Now, we are ready to incorporate more data in order to add to our set of features."
   ]
  },
  {
   "cell_type": "markdown",
   "metadata": {
    "deletable": false,
    "editable": false,
    "nbgrader": {
     "cell_type": "markdown",
     "checksum": "74e9b7df4a59fc4f43ecd619e52a9f34",
     "grade": false,
     "grade_id": "cell-eda4c47fced9bfe7",
     "locked": true,
     "schema_version": 2,
     "solution": false
    }
   },
   "source": [
    "**Please proceed to part 3 where we will be engineering more features and building our models using a processing pipeline.**"
   ]
  },
  {
   "cell_type": "markdown",
   "metadata": {},
   "source": [
    "## Submission\n",
    "\n",
    "You're almost done!\n",
    "\n",
    "Before submitting this assignment, ensure that you have:\n",
    "\n",
    "1. Restarted the Kernel (in the menubar, select Kernel$\\rightarrow$Restart & Run All)\n",
    "2. Validated the notebook by clicking the \"Validate\" button.\n",
    "\n",
    "Then,\n",
    "\n",
    "1. **Submit** the assignment via the Assignments tab in **Datahub** \n",
    "1. **Upload and tag** the manually reviewed portions of the assignment on **Gradescope**"
   ]
  }
 ],
 "metadata": {
  "kernelspec": {
   "display_name": "Python 3",
   "language": "python",
   "name": "python3"
  },
  "language_info": {
   "codemirror_mode": {
    "name": "ipython",
    "version": 3
   },
   "file_extension": ".py",
   "mimetype": "text/x-python",
   "name": "python",
   "nbconvert_exporter": "python",
   "pygments_lexer": "ipython3",
   "version": "3.6.4"
  }
 },
 "nbformat": 4,
 "nbformat_minor": 2
}
